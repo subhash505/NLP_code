{
  "nbformat": 4,
  "nbformat_minor": 0,
  "metadata": {
    "colab": {
      "name": "1_TF_IDF_Cosin.ipynb",
      "provenance": [],
      "include_colab_link": true
    },
    "kernelspec": {
      "name": "python3",
      "display_name": "Python 3"
    },
    "language_info": {
      "name": "python"
    }
  },
  "cells": [
    {
      "cell_type": "markdown",
      "metadata": {
        "id": "view-in-github",
        "colab_type": "text"
      },
      "source": [
        "<a href=\"https://colab.research.google.com/github/subhash505/NLP_code/blob/main/1_TF_IDF_Cosin.ipynb\" target=\"_parent\"><img src=\"https://colab.research.google.com/assets/colab-badge.svg\" alt=\"Open In Colab\"/></a>"
      ]
    },
    {
      "cell_type": "markdown",
      "source": [
        "Let us imagine that you are doing a search on below documents with the following query: life learning\n",
        "\n",
        "Document 1 : I want to start learning to charge something in life.\n",
        "Document 2 : learning something about me no one else knows\n",
        "Document 3 : Never stop learning\n",
        "The query is a free text query. It means a query in which the terms of the query are typed freeform into the search interface, without any connecting search operators.\n",
        "\n",
        "Let us go over each step in detail to see how it all works."
      ],
      "metadata": {
        "id": "TaMOiKJ5L6F6"
      }
    },
    {
      "cell_type": "code",
      "source": [
        "import math\n",
        "import pandas as pd\n",
        "import numpy as np"
      ],
      "metadata": {
        "id": "Cru-6a1-XZ_1"
      },
      "execution_count": null,
      "outputs": []
    },
    {
      "cell_type": "markdown",
      "source": [
        "1.Term Frequency(TF)\n",
        "Term Frequency also known as TF measures the number of times a term (word) occurs in a document. Given below is the code and the terms and their frequency on each of the document."
      ],
      "metadata": {
        "id": "_2CX0zqxMA6v"
      }
    },
    {
      "cell_type": "code",
      "source": [
        "#documents\n",
        "doc1 = \"I want to start learning to charge something in life\"\n",
        "doc2 = \"reading something about life no one else knows\"\n",
        "doc3 = \"Never stop learning\"\n",
        "#query string\n",
        "query = \"life learning\""
      ],
      "metadata": {
        "id": "QrcmnoZHj7Kj"
      },
      "execution_count": null,
      "outputs": []
    },
    {
      "cell_type": "code",
      "source": [
        "#term -frequenvy :word occurences in a document\n",
        "def compute_tf(docs_list):\n",
        "    for doc in docs_list:\n",
        "        doc1_lst = doc.split(\" \")\n",
        "        wordDict_1= dict.fromkeys(set(doc1_lst), 0)\n",
        "\n",
        "        for token in doc1_lst:\n",
        "            wordDict_1[token] +=  1\n",
        "        df = pd.DataFrame([wordDict_1])\n",
        "        idx = 0\n",
        "        new_col = [\"Term Frequency\"]    \n",
        "        df.insert(loc=idx, column='Document', value=new_col)\n",
        "        print(df)\n",
        "        \n",
        "compute_tf([doc1, doc2, doc3])"
      ],
      "metadata": {
        "colab": {
          "base_uri": "https://localhost:8080/"
        },
        "id": "vO_g-WilkA-M",
        "outputId": "511bb210-b41c-4e49-e093-27bda8f7ad7b"
      },
      "execution_count": null,
      "outputs": [
        {
          "output_type": "stream",
          "name": "stdout",
          "text": [
            "         Document  I  want  to  in  something  charge  start  learning  life\n",
            "0  Term Frequency  1     1   2   1          1       1      1         1     1\n",
            "         Document  reading  something  one  no  else  knows  about  life\n",
            "0  Term Frequency        1          1    1   1     1      1      1     1\n",
            "         Document  learning  Never  stop\n",
            "0  Term Frequency         1      1     1\n"
          ]
        }
      ]
    },
    {
      "cell_type": "markdown",
      "source": [
        "In reality each document will be of different size. On a large document the frequency of the terms will be much higher than the smaller ones. Hence we need to normalize the document based on its size.\n",
        "A simple trick is to divide the term frequency by the total number of terms.\n",
        "For example in Document 1 the term game occurs two times. The total number of terms in the document is 10. Hence the normalized term frequency is 2 / 10 = 0.2.\n",
        "Given below are the normalized term frequency for all the documents."
      ],
      "metadata": {
        "id": "nEElk3voMIiv"
      }
    },
    {
      "cell_type": "code",
      "source": [
        "#Normalized Term Frequency\n",
        "def termFrequency(term, document):\n",
        "    normalizeDocument = document.lower().split()\n",
        "    return normalizeDocument.count(term.lower()) / float(len(normalizeDocument))\n",
        "\n",
        "def compute_normalizedtf(documents):\n",
        "    tf_doc = []\n",
        "    for txt in documents:\n",
        "        sentence = txt.split()\n",
        "        norm_tf= dict.fromkeys(set(sentence), 0)\n",
        "        for word in sentence:\n",
        "            norm_tf[word] = termFrequency(word, txt)\n",
        "        tf_doc.append(norm_tf)\n",
        "        df = pd.DataFrame([norm_tf])\n",
        "        idx = 0\n",
        "        new_col = [\"Normalized TF\"]    \n",
        "        df.insert(loc=idx, column='Document', value=new_col)\n",
        "        print(df)\n",
        "    return tf_doc\n",
        "\n",
        "tf_doc = compute_normalizedtf([doc1, doc2, doc3])"
      ],
      "metadata": {
        "colab": {
          "base_uri": "https://localhost:8080/"
        },
        "id": "-3mcdcNlkFKT",
        "outputId": "c16c60e1-cad2-444d-c8e7-274d154824f7"
      },
      "execution_count": null,
      "outputs": [
        {
          "output_type": "stream",
          "name": "stdout",
          "text": [
            "        Document    I  want   to   in  something  charge  start  learning  \\\n",
            "0  Normalized TF  0.1   0.1  0.2  0.1        0.1     0.1    0.1       0.1   \n",
            "\n",
            "   life  \n",
            "0   0.1  \n",
            "        Document  reading  something    one     no   else  knows  about   life\n",
            "0  Normalized TF    0.125      0.125  0.125  0.125  0.125  0.125  0.125  0.125\n",
            "        Document  learning     Never      stop\n",
            "0  Normalized TF  0.333333  0.333333  0.333333\n"
          ]
        }
      ]
    },
    {
      "cell_type": "markdown",
      "source": [
        "2. Inverse Document Frequency (IDF)\n",
        "\n",
        "The main purpose of doing a search is to find out relevant documents matching the query.\n",
        "In Term Frequecy all terms are considered equally important. In fact certain terms that occur too frequently have little power in determining the relevance.\n",
        "We need a way to weigh down the effects of too frequently occurring terms. Also the terms that occur less in the document can be more relevant.\n",
        "We need a way to weigh up the effects of less frequently occurring terms. Logarithms helps us to solve this problem.Logarithms helps us to solve this problem.\n",
        "Let us compute IDF for the term start\n",
        "\n",
        "IDF(start) = 1 + loge(Total Number Of Documents / Number Of Documents with term start in it)\n",
        "\n",
        "There are 3 documents in all = Document1, Document2, Document3 The term start appears in Document1\n",
        "\n",
        "IDF(start) = 1 + loge(3 / 1) = 1 + 1.098726209 = 2.098726209"
      ],
      "metadata": {
        "id": "mlgowXXaMPId"
      }
    },
    {
      "cell_type": "code",
      "source": [
        "#IDF\n",
        "def inverseDocumentFrequency(term, allDocuments):\n",
        "    numDocumentsWithThisTerm = 0\n",
        "    for doc in range (0, len(allDocuments)):\n",
        "        if term.lower() in allDocuments[doc].lower().split():\n",
        "            numDocumentsWithThisTerm = numDocumentsWithThisTerm + 1\n",
        " \n",
        "    if numDocumentsWithThisTerm > 0:\n",
        "        return 1.0 + math.log(float(len(allDocuments)) / numDocumentsWithThisTerm)\n",
        "    else:\n",
        "        return 1.0\n",
        "    \n",
        "def compute_idf(documents):\n",
        "    idf_dict = {}\n",
        "    for doc in documents:\n",
        "        sentence = doc.split()\n",
        "        for word in sentence:\n",
        "            idf_dict[word] = inverseDocumentFrequency(word, documents)\n",
        "    return idf_dict\n",
        "idf_dict = compute_idf([doc1, doc2, doc3])\n",
        "\n",
        "compute_idf([doc1, doc2, doc3])"
      ],
      "metadata": {
        "colab": {
          "base_uri": "https://localhost:8080/"
        },
        "id": "gt8kTWYOkI97",
        "outputId": "1d52a51d-d9e2-4aaf-f36d-0f73c03cd4a1"
      },
      "execution_count": null,
      "outputs": [
        {
          "output_type": "execute_result",
          "data": {
            "text/plain": [
              "{'I': 2.09861228866811,\n",
              " 'Never': 2.09861228866811,\n",
              " 'about': 2.09861228866811,\n",
              " 'charge': 2.09861228866811,\n",
              " 'else': 2.09861228866811,\n",
              " 'in': 2.09861228866811,\n",
              " 'knows': 2.09861228866811,\n",
              " 'learning': 1.4054651081081644,\n",
              " 'life': 1.4054651081081644,\n",
              " 'no': 2.09861228866811,\n",
              " 'one': 2.09861228866811,\n",
              " 'reading': 2.09861228866811,\n",
              " 'something': 1.4054651081081644,\n",
              " 'start': 2.09861228866811,\n",
              " 'stop': 2.09861228866811,\n",
              " 'to': 2.09861228866811,\n",
              " 'want': 2.09861228866811}"
            ]
          },
          "metadata": {},
          "execution_count": 8
        }
      ]
    },
    {
      "cell_type": "markdown",
      "source": [
        "3.TF * IDF\n",
        "Remember we are trying to find out relevant documents for the query: life learning\n",
        "\n",
        "For each term in the query multiply its normalized term frequency with its IDF on each document.\n",
        "In Document1 for the term life the normalized term frequency is 0.1 and its IDF is 1.405465108.\n",
        "Multiplying them together we get 0.140550715 (0.1 * 1.405465108).\n",
        "Given below is TF * IDF calculations for life and learning in all the documents."
      ],
      "metadata": {
        "id": "FcxErwcVMa18"
      }
    },
    {
      "cell_type": "code",
      "source": [
        "# tf-idf score across all docs for the query string(\"life learning\")\n",
        "def compute_tfidf_with_alldocs(documents , query):\n",
        "    tf_idf = []\n",
        "    index = 0\n",
        "    query_tokens = query.split()\n",
        "    df = pd.DataFrame(columns=['doc'] + query_tokens)\n",
        "    for doc in documents:\n",
        "        df['doc'] = np.arange(0 , len(documents))\n",
        "        doc_num = tf_doc[index]\n",
        "        sentence = doc.split()\n",
        "        for word in sentence:\n",
        "            for text in query_tokens:\n",
        "                if(text == word):\n",
        "                    idx = sentence.index(word)\n",
        "                    tf_idf_score = doc_num[word] * idf_dict[word]\n",
        "                    tf_idf.append(tf_idf_score)\n",
        "                    df.iloc[index, df.columns.get_loc(word)] = tf_idf_score\n",
        "        index += 1\n",
        "    df.fillna(0 , axis=1, inplace=True)\n",
        "    return tf_idf , df\n",
        "            \n",
        "documents = [doc1, doc2, doc3]\n",
        "tf_idf , df = compute_tfidf_with_alldocs(documents , query)\n",
        "print(df)"
      ],
      "metadata": {
        "colab": {
          "base_uri": "https://localhost:8080/"
        },
        "id": "4MCa_J0ZkQeB",
        "outputId": "b3598c38-df0a-454c-aad1-a17c9ddaedbe"
      },
      "execution_count": null,
      "outputs": [
        {
          "output_type": "stream",
          "name": "stdout",
          "text": [
            "   doc      life  learning\n",
            "0    0  0.140547  0.140547\n",
            "1    1  0.175683  0.000000\n",
            "2    2  0.000000  0.468488\n"
          ]
        }
      ]
    },
    {
      "cell_type": "markdown",
      "source": [
        "4.Vector Space Models and Representation – Cosine Similarity\n",
        "\n",
        "The set of documents in a collection then is viewed as a set of vectors in a vector space. Each term will have its own axis. Using the formula given below we can find out the similarity between any two documents.\n",
        "\n",
        "Cosine Similarity (d1, d2) = Dot product(d1, d2) / ||d1|| * ||d2||\n",
        "\n",
        "Dot product (d1,d2) = d1[0] * d2[0] + d1[1] * d2[1] * … * d1[n] * d2[n]\n",
        "\n",
        "||d1|| = square root(d1[0]2 + d1[1]2 + ... + d1[n]2)\n",
        "\n",
        "||d2|| = square root(d2[0]2 + d2[1]2 + ... + d2[n]2)"
      ],
      "metadata": {
        "id": "TxsN8z7qMmVn"
      }
    },
    {
      "cell_type": "markdown",
      "source": [
        "Vectors deals only with numbers. In this example we are dealing with text documents. This was the reason why we used TF and IDF to convert text into numbers so that it can be represented by a vecto\n",
        "The query entered by the user can also be represented as a vector. We will calculate the TF*IDF for the query"
      ],
      "metadata": {
        "id": "yN4pfLUhMtLO"
      }
    },
    {
      "cell_type": "code",
      "source": [
        "#Normalized TF for the query string(\"life learning\")\n",
        "def compute_query_tf(query):\n",
        "    query_norm_tf = {}\n",
        "    tokens = query.split()\n",
        "    for word in tokens:\n",
        "        query_norm_tf[word] = termFrequency(word , query)\n",
        "    return query_norm_tf\n",
        "query_norm_tf = compute_query_tf(query)\n",
        "print(query_norm_tf)"
      ],
      "metadata": {
        "colab": {
          "base_uri": "https://localhost:8080/"
        },
        "id": "yR2-vChEkbrs",
        "outputId": "993d4dd0-d701-41d3-a915-7446ee075a77"
      },
      "execution_count": null,
      "outputs": [
        {
          "output_type": "stream",
          "name": "stdout",
          "text": [
            "{'life': 0.5, 'learning': 0.5}\n"
          ]
        }
      ]
    },
    {
      "cell_type": "code",
      "source": [
        "#idf score for the query string(\"life learning\")\n",
        "def compute_query_idf(query):\n",
        "    idf_dict_qry = {}\n",
        "    sentence = query.split()\n",
        "    documents = [doc1, doc2, doc3]\n",
        "    for word in sentence:\n",
        "        idf_dict_qry[word] = inverseDocumentFrequency(word ,documents)\n",
        "    return idf_dict_qry\n",
        "idf_dict_qry = compute_query_idf(query)\n",
        "print(idf_dict_qry)"
      ],
      "metadata": {
        "colab": {
          "base_uri": "https://localhost:8080/"
        },
        "id": "4OTfBmyFkemL",
        "outputId": "8af33dc9-a361-4720-cb39-d29d897fc7de"
      },
      "execution_count": null,
      "outputs": [
        {
          "output_type": "stream",
          "name": "stdout",
          "text": [
            "{'life': 1.4054651081081644, 'learning': 1.4054651081081644}\n"
          ]
        }
      ]
    },
    {
      "cell_type": "code",
      "source": [
        "#tf-idf score for the query string(\"life learning\")\n",
        "def compute_query_tfidf(query):\n",
        "    tfidf_dict_qry = {}\n",
        "    sentence = query.split()\n",
        "    for word in sentence:\n",
        "        tfidf_dict_qry[word] = query_norm_tf[word] * idf_dict_qry[word]\n",
        "    return tfidf_dict_qry\n",
        "tfidf_dict_qry = compute_query_tfidf(query)\n",
        "print(tfidf_dict_qry)"
      ],
      "metadata": {
        "colab": {
          "base_uri": "https://localhost:8080/"
        },
        "id": "p5Ma9kLxkg5m",
        "outputId": "74e3c526-2b28-4458-83aa-968551fbb4c0"
      },
      "execution_count": null,
      "outputs": [
        {
          "output_type": "stream",
          "name": "stdout",
          "text": [
            "{'life': 0.7027325540540822, 'learning': 0.7027325540540822}\n"
          ]
        }
      ]
    },
    {
      "cell_type": "markdown",
      "source": [
        "Let us now calculate the cosine similarity of the query and Document1.\n",
        "\n",
        "Cosine Similarity(Query,Document1) = Dot product(Query, Document1) / ||Query|| * ||Document1||\n",
        "\n",
        "Dot product(Query, Document1) = ((0.702753576) * (0.140550715) + (0.702753576)*(0.140550715)) = 0.197545035151\n",
        "\n",
        "||Query|| = sqrt((0.702753576)2 + (0.702753576)2) = 0.993843638185\n",
        "\n",
        "||Document1|| = sqrt((0.140550715)2 + (0.140550715)2) = 0.198768727354\n",
        "\n",
        "Cosine Similarity(Query, Document) = 0.197545035151 / (0.993843638185) * (0.198768727354) = 0.197545035151 / 0.197545035151 = 1"
      ],
      "metadata": {
        "id": "0cDW1hhrNTFd"
      }
    },
    {
      "cell_type": "code",
      "source": [
        "#Cosine Similarity(Query,Document1) = Dot product(Query, Document1) / ||Query|| * ||Document1||\n",
        "\n",
        "\"\"\"\n",
        "Example : Dot roduct(Query, Document1) \n",
        "\n",
        "     life:\n",
        "     = tfidf(life w.r.t query) * tfidf(life w.r.t Document1) +  / \n",
        "     sqrt(tfidf(life w.r.t query)) * \n",
        "     sqrt(tfidf(life w.r.t doc1))\n",
        "     \n",
        "     learning:\n",
        "     =tfidf(learning w.r.t query) * tfidf(learning w.r.t Document1)/\n",
        "     sqrt(tfidf(learning w.r.t query)) * \n",
        "     sqrt(tfidf(learning w.r.t doc1))\n",
        "\n",
        "\"\"\"\n",
        "def cosine_similarity(tfidf_dict_qry, df , query , doc_num):\n",
        "    dot_product = 0\n",
        "    qry_mod = 0\n",
        "    doc_mod = 0\n",
        "    tokens = query.split()\n",
        "   \n",
        "    for keyword in tokens:\n",
        "        dot_product += tfidf_dict_qry[keyword] * df[keyword][df['doc'] == doc_num]\n",
        "        #||Query||\n",
        "        qry_mod += tfidf_dict_qry[keyword] * tfidf_dict_qry[keyword]\n",
        "        #||Document||\n",
        "        doc_mod += df[keyword][df['doc'] == doc_num] * df[keyword][df['doc'] == doc_num]\n",
        "    qry_mod = np.sqrt(qry_mod)\n",
        "    doc_mod = np.sqrt(doc_mod)\n",
        "    #implement formula\n",
        "    denominator = qry_mod * doc_mod\n",
        "    cos_sim = dot_product/denominator\n",
        "     \n",
        "    return cos_sim\n",
        "\n",
        "from collections import Iterable\n",
        "def flatten(lis):\n",
        "     for item in lis:\n",
        "        if isinstance(item, Iterable) and not isinstance(item, str):\n",
        "             for x in flatten(item):\n",
        "                yield x\n",
        "        else:        \n",
        "             yield item\n"
      ],
      "metadata": {
        "colab": {
          "base_uri": "https://localhost:8080/"
        },
        "id": "DXQHzJRIkj9m",
        "outputId": "e0e9e622-8ad5-49c9-f583-87799256ac83"
      },
      "execution_count": null,
      "outputs": [
        {
          "output_type": "stream",
          "name": "stderr",
          "text": [
            "/usr/local/lib/python3.7/dist-packages/ipykernel_launcher.py:37: DeprecationWarning: Using or importing the ABCs from 'collections' instead of from 'collections.abc' is deprecated since Python 3.3,and in 3.9 it will stop working\n"
          ]
        }
      ]
    },
    {
      "cell_type": "code",
      "source": [
        "def rank_similarity_docs(data):\n",
        "    cos_sim =[]\n",
        "    for doc_num in range(0 , len(data)):\n",
        "        cos_sim.append(cosine_similarity(tfidf_dict_qry, df , query , doc_num).tolist())\n",
        "    return cos_sim\n",
        "similarity_docs = rank_similarity_docs(documents)\n",
        "doc_names = [\"Document1\", \"Document2\", \"Document3\"]\n",
        "print(doc_names)\n",
        "print(list(flatten(similarity_docs)))"
      ],
      "metadata": {
        "colab": {
          "base_uri": "https://localhost:8080/"
        },
        "id": "vO5q_54Cly3s",
        "outputId": "e00cd498-ab5b-420c-840b-0d180cc02621"
      },
      "execution_count": null,
      "outputs": [
        {
          "output_type": "stream",
          "name": "stdout",
          "text": [
            "['Document1', 'Document2', 'Document3']\n",
            "[1.0, 0.7071067811865475, 0.7071067811865475]\n"
          ]
        }
      ]
    }
  ]
}