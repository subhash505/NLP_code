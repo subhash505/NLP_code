{
  "nbformat": 4,
  "nbformat_minor": 0,
  "metadata": {
    "colab": {
      "name": "1_NLP_Spell.ipynb",
      "provenance": [],
      "include_colab_link": true
    },
    "kernelspec": {
      "name": "python3",
      "display_name": "Python 3"
    },
    "language_info": {
      "name": "python"
    }
  },
  "cells": [
    {
      "cell_type": "markdown",
      "metadata": {
        "id": "view-in-github",
        "colab_type": "text"
      },
      "source": [
        "<a href=\"https://colab.research.google.com/github/subhash505/NLP_code/blob/main/1_NLP_Spell.ipynb\" target=\"_parent\"><img src=\"https://colab.research.google.com/assets/colab-badge.svg\" alt=\"Open In Colab\"/></a>"
      ]
    },
    {
      "cell_type": "code",
      "source": [
        "!pip install fuzzywuzzy"
      ],
      "metadata": {
        "colab": {
          "base_uri": "https://localhost:8080/"
        },
        "id": "Ll__yML6koGH",
        "outputId": "5a53d8d8-232c-4337-8d99-6300fa2c5685"
      },
      "execution_count": null,
      "outputs": [
        {
          "output_type": "stream",
          "name": "stdout",
          "text": [
            "Looking in indexes: https://pypi.org/simple, https://us-python.pkg.dev/colab-wheels/public/simple/\n",
            "Collecting fuzzywuzzy\n",
            "  Downloading fuzzywuzzy-0.18.0-py2.py3-none-any.whl (18 kB)\n",
            "Installing collected packages: fuzzywuzzy\n",
            "Successfully installed fuzzywuzzy-0.18.0\n"
          ]
        }
      ]
    },
    {
      "cell_type": "code",
      "execution_count": null,
      "metadata": {
        "colab": {
          "base_uri": "https://localhost:8080/"
        },
        "id": "kHsQJSedjpoV",
        "outputId": "905323c0-a151-43df-94b8-332f2937c28d"
      },
      "outputs": [
        {
          "output_type": "stream",
          "name": "stderr",
          "text": [
            "/usr/local/lib/python3.7/dist-packages/fuzzywuzzy/fuzz.py:11: UserWarning: Using slow pure-python SequenceMatcher. Install python-Levenshtein to remove this warning\n",
            "  warnings.warn('Using slow pure-python SequenceMatcher. Install python-Levenshtein to remove this warning')\n"
          ]
        }
      ],
      "source": [
        "# import the fuzzywuzzy module\n",
        "from fuzzywuzzy import fuzz"
      ]
    },
    {
      "cell_type": "code",
      "source": [
        "# spellcheck main class\n",
        "class SpellCheck:\n",
        "\n",
        "    # initialization method\n",
        "    def __init__(self, word_dict_file=None):\n",
        "        # open the dictionary file\n",
        "        self.file = open(word_dict_file, 'r')\n",
        "        \n",
        "        # load the file data in a variable\n",
        "        data = self.file.read()\n",
        "        \n",
        "        # store all the words in a list\n",
        "        data = data.split(\",\")\n",
        "        \n",
        "        # change all the words to lowercase\n",
        "        data = [i.lower() for i in data]\n",
        "        \n",
        "        # remove all the duplicates in the list\n",
        "        data = set(data)\n",
        "        \n",
        "        # store all the words into a class variable dictionary\n",
        "        self.dictionary = list(data)\n",
        "\n",
        "    # string setter method\n",
        "    def check(self, string_to_check):\n",
        "        # store the string to be checked in a class variable\n",
        "        self.string_to_check = string_to_check\n",
        "\n",
        "    # this method returns the possible suggestions of the correct words\n",
        "    def suggestions(self):\n",
        "        # store the words of the string to be checked in a list by using a split function\n",
        "        string_words = self.string_to_check.split()\n",
        "\n",
        "        # a list to store all the possible suggestions\n",
        "        suggestions = []\n",
        "\n",
        "        # loop over the number of words in the string to be checked\n",
        "        for i in range(len(string_words)):\n",
        "            \n",
        "            # loop over words in the dictionary\n",
        "            for name in self.dictionary:\n",
        "                \n",
        "                # if the fuzzywuzzy returns the matched value greater than 80\n",
        "                if fuzz.ratio(string_words[i].lower(), name.lower()) >= 75:\n",
        "                    \n",
        "                    # append the dict word to the suggestion list\n",
        "                    suggestions.append(name)\n",
        "\n",
        "        # return the suggestions list\n",
        "        return suggestions\n",
        "\n",
        "    # this method returns the corrected string of the given input\n",
        "    def correct(self):\n",
        "        # store the words of the string to be checked in a list by using a split function\n",
        "        string_words = self.string_to_check.split()\n",
        "\n",
        "        # loop over the number of words in the string to be checked\n",
        "        for i in range(len(string_words)):\n",
        "            \n",
        "            # initiaze a maximum probability variable to 0\n",
        "            max_percent = 0\n",
        "\n",
        "            # loop over the words in the dictionary\n",
        "            for name in self.dictionary:\n",
        "                \n",
        "                # calulcate the match probability\n",
        "                percent = fuzz.ratio(string_words[i].lower(), name.lower())\n",
        "                \n",
        "                # if the fuzzywuzzy returns the matched value greater than 80\n",
        "                if percent >= 75:\n",
        "                    \n",
        "                    # if the matched probability is\n",
        "                    if percent > max_percent:\n",
        "                        \n",
        "                        # change the original value with the corrected matched value\n",
        "                        string_words[i] = name\n",
        "                    \n",
        "                    # change the max percent to the current matched percent\n",
        "                    max_percent = percent\n",
        "        \n",
        "        # return the cprrected string"
      ],
      "metadata": {
        "id": "c_80NJ6vj5Df"
      },
      "execution_count": null,
      "outputs": []
    },
    {
      "cell_type": "code",
      "source": [
        "# create an object\n",
        "spell_check = SpellCheck('word.txt')\n",
        "\n",
        "# set the string\n",
        "string_to_be_checked = \"Gujrt Delh Vodadra mumbai\"\n",
        "spell_check.check(string_to_be_checked)\n",
        "\n",
        "# print suggestions and correction\n",
        "print (spell_check.suggestions())\n",
        "#print (spell_check.correct())"
      ],
      "metadata": {
        "colab": {
          "base_uri": "https://localhost:8080/"
        },
        "id": "aCXxEsDgkQb_",
        "outputId": "034caa6e-e34b-476e-aa3b-2ce937a7bccc"
      },
      "execution_count": null,
      "outputs": [
        {
          "output_type": "stream",
          "name": "stdout",
          "text": [
            "['gujarat', 'delhi', 'vadodara', 'mumbai']\n"
          ]
        }
      ]
    }
  ]
}