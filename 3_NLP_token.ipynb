{
  "nbformat": 4,
  "nbformat_minor": 0,
  "metadata": {
    "colab": {
      "name": "3_NLP_token.ipynb",
      "provenance": [],
      "include_colab_link": true
    },
    "kernelspec": {
      "name": "python3",
      "display_name": "Python 3"
    },
    "language_info": {
      "name": "python"
    }
  },
  "cells": [
    {
      "cell_type": "markdown",
      "metadata": {
        "id": "view-in-github",
        "colab_type": "text"
      },
      "source": [
        "<a href=\"https://colab.research.google.com/github/subhash505/NLP_code/blob/main/3_NLP_token.ipynb\" target=\"_parent\"><img src=\"https://colab.research.google.com/assets/colab-badge.svg\" alt=\"Open In Colab\"/></a>"
      ]
    },
    {
      "cell_type": "code",
      "execution_count": null,
      "metadata": {
        "id": "p6_S6di_RX6g"
      },
      "outputs": [],
      "source": [
        "text = \"I'm working as a Data Scientist in the U.S. and earning $140,000\""
      ]
    },
    {
      "cell_type": "code",
      "source": [
        "#white space Tokenizer\n",
        "print(text.split())"
      ],
      "metadata": {
        "colab": {
          "base_uri": "https://localhost:8080/"
        },
        "id": "BSR1bATcRrDR",
        "outputId": "7fcadd69-7e76-47d6-e7be-b803fcf10ad8"
      },
      "execution_count": null,
      "outputs": [
        {
          "output_type": "stream",
          "name": "stdout",
          "text": [
            "[\"I'm\", 'working', 'as', 'a', 'Data', 'Scientist', 'in', 'the', 'U.S.', 'and', 'earning', '$140,000']\n"
          ]
        }
      ]
    },
    {
      "cell_type": "code",
      "source": [
        "#Loading model\n",
        "import spacy"
      ],
      "metadata": {
        "id": "CdTEQmwbRzR4"
      },
      "execution_count": null,
      "outputs": []
    },
    {
      "cell_type": "code",
      "source": [
        "nlp = spacy.load('en_core_web_sm')"
      ],
      "metadata": {
        "id": "7H8ReoUjSB1w"
      },
      "execution_count": null,
      "outputs": []
    },
    {
      "cell_type": "code",
      "source": [
        "doc = nlp(text)"
      ],
      "metadata": {
        "id": "Kzu1xT55SLch"
      },
      "execution_count": null,
      "outputs": []
    },
    {
      "cell_type": "code",
      "source": [
        "doc #document, not token"
      ],
      "metadata": {
        "colab": {
          "base_uri": "https://localhost:8080/"
        },
        "id": "eAHvlDKGSQFo",
        "outputId": "a42f0430-ed63-4413-9370-62b9d3a4614b"
      },
      "execution_count": null,
      "outputs": [
        {
          "output_type": "execute_result",
          "data": {
            "text/plain": [
              "I'm working as a Data Scientist in the U.S. and earning $140,000"
            ]
          },
          "metadata": {},
          "execution_count": 6
        }
      ]
    },
    {
      "cell_type": "code",
      "source": [
        "type(doc)"
      ],
      "metadata": {
        "colab": {
          "base_uri": "https://localhost:8080/"
        },
        "id": "uvbh6R09SQPR",
        "outputId": "6b04dd3d-2a1c-4dc8-dba7-ec694f21a24c"
      },
      "execution_count": null,
      "outputs": [
        {
          "output_type": "execute_result",
          "data": {
            "text/plain": [
              "spacy.tokens.doc.Doc"
            ]
          },
          "metadata": {},
          "execution_count": 7
        }
      ]
    },
    {
      "cell_type": "code",
      "source": [
        "#spacy Tokenizer  (token as object no string)\n",
        "print([token for token in doc])"
      ],
      "metadata": {
        "colab": {
          "base_uri": "https://localhost:8080/"
        },
        "id": "j7w1yhCMSQSU",
        "outputId": "1ae590d3-c10e-4a6d-c87c-a17ca02f2a58"
      },
      "execution_count": null,
      "outputs": [
        {
          "output_type": "stream",
          "name": "stdout",
          "text": [
            "[I, 'm, working, as, a, Data, Scientist, in, the, U.S., and, earning, $, 140,000]\n"
          ]
        }
      ]
    },
    {
      "cell_type": "code",
      "source": [
        "#Type of token\n",
        "[type (token) for token in doc]"
      ],
      "metadata": {
        "colab": {
          "base_uri": "https://localhost:8080/"
        },
        "id": "KsWLXmicSQUw",
        "outputId": "3ea2a701-3745-4d3d-c17f-8ee676d3be1a"
      },
      "execution_count": null,
      "outputs": [
        {
          "output_type": "execute_result",
          "data": {
            "text/plain": [
              "[spacy.tokens.token.Token,\n",
              " spacy.tokens.token.Token,\n",
              " spacy.tokens.token.Token,\n",
              " spacy.tokens.token.Token,\n",
              " spacy.tokens.token.Token,\n",
              " spacy.tokens.token.Token,\n",
              " spacy.tokens.token.Token,\n",
              " spacy.tokens.token.Token,\n",
              " spacy.tokens.token.Token,\n",
              " spacy.tokens.token.Token,\n",
              " spacy.tokens.token.Token,\n",
              " spacy.tokens.token.Token,\n",
              " spacy.tokens.token.Token,\n",
              " spacy.tokens.token.Token]"
            ]
          },
          "metadata": {},
          "execution_count": 12
        }
      ]
    },
    {
      "cell_type": "code",
      "source": [
        "#Type of token\n",
        "print([token.text for token in doc])"
      ],
      "metadata": {
        "colab": {
          "base_uri": "https://localhost:8080/"
        },
        "id": "DH-kTvCUTwIj",
        "outputId": "f8ab1bc9-f71a-4120-861c-e2484af7cc32"
      },
      "execution_count": null,
      "outputs": [
        {
          "output_type": "stream",
          "name": "stdout",
          "text": [
            "['I', \"'m\", 'working', 'as', 'a', 'Data', 'Scientist', 'in', 'the', 'U.S.', 'and', 'earning', '$', '140,000']\n"
          ]
        }
      ]
    },
    {
      "cell_type": "code",
      "source": [
        "#Compare\n",
        "#white space Tokenizer\n",
        "print(text.split())\n",
        "#Sapcy token\n",
        "print([token.text for token in doc])"
      ],
      "metadata": {
        "colab": {
          "base_uri": "https://localhost:8080/"
        },
        "id": "eSuvD2r5SQXw",
        "outputId": "c6f2a584-e38c-48b5-ef45-8a65dbfccf57"
      },
      "execution_count": null,
      "outputs": [
        {
          "output_type": "stream",
          "name": "stdout",
          "text": [
            "[\"I'm\", 'working', 'as', 'a', 'Data', 'Scientist', 'in', 'the', 'U.S.', 'and', 'earning', '$140,000']\n",
            "['I', \"'m\", 'working', 'as', 'a', 'Data', 'Scientist', 'in', 'the', 'U.S.', 'and', 'earning', '$', '140,000']\n"
          ]
        }
      ]
    },
    {
      "cell_type": "code",
      "source": [
        ""
      ],
      "metadata": {
        "id": "f1sqdq46UtIF"
      },
      "execution_count": null,
      "outputs": []
    }
  ]
}