{
  "nbformat": 4,
  "nbformat_minor": 0,
  "metadata": {
    "colab": {
      "name": "3_NLP_token.ipynb",
      "provenance": [],
      "include_colab_link": true
    },
    "kernelspec": {
      "name": "python3",
      "display_name": "Python 3"
    },
    "language_info": {
      "name": "python"
    }
  },
  "cells": [
    {
      "cell_type": "markdown",
      "metadata": {
        "id": "view-in-github",
        "colab_type": "text"
      },
      "source": [
        "<a href=\"https://colab.research.google.com/github/subhash505/NLP_code/blob/main/3_NLP_token.ipynb\" target=\"_parent\"><img src=\"https://colab.research.google.com/assets/colab-badge.svg\" alt=\"Open In Colab\"/></a>"
      ]
    },
    {
      "cell_type": "code",
      "execution_count": 1,
      "metadata": {
        "id": "p6_S6di_RX6g"
      },
      "outputs": [],
      "source": [
        "text = \"I'm working as a Data Scientist in the U.S. and earning $140,000\""
      ]
    },
    {
      "cell_type": "code",
      "source": [
        "#white space Tokenizer\n",
        "print(text.split())"
      ],
      "metadata": {
        "colab": {
          "base_uri": "https://localhost:8080/"
        },
        "id": "BSR1bATcRrDR",
        "outputId": "c8e41e6d-eafd-4241-aabb-1b4dbe899140"
      },
      "execution_count": 2,
      "outputs": [
        {
          "output_type": "stream",
          "name": "stdout",
          "text": [
            "[\"I'm\", 'working', 'as', 'a', 'Data', 'Scientist', 'in', 'the', 'U.S.', 'and', 'earning', '$140,000']\n"
          ]
        }
      ]
    },
    {
      "cell_type": "code",
      "source": [
        "#Loading model\n",
        "import spacy"
      ],
      "metadata": {
        "id": "CdTEQmwbRzR4"
      },
      "execution_count": 3,
      "outputs": []
    },
    {
      "cell_type": "code",
      "source": [
        "nlp = spacy.load('en_core_web_sm') # en_core_web_md for medium range.  en_core_web_LG for large range."
      ],
      "metadata": {
        "id": "7H8ReoUjSB1w"
      },
      "execution_count": 4,
      "outputs": []
    },
    {
      "cell_type": "code",
      "source": [
        "doc = nlp(text)"
      ],
      "metadata": {
        "id": "Kzu1xT55SLch"
      },
      "execution_count": 6,
      "outputs": []
    },
    {
      "cell_type": "code",
      "source": [
        "doc #document, not token"
      ],
      "metadata": {
        "colab": {
          "base_uri": "https://localhost:8080/"
        },
        "id": "eAHvlDKGSQFo",
        "outputId": "815b5c36-4ffb-4211-c7cc-f6a54d7bd476"
      },
      "execution_count": 7,
      "outputs": [
        {
          "output_type": "execute_result",
          "data": {
            "text/plain": [
              "I'm working as a Data Scientist in the U.S. and earning $140,000"
            ]
          },
          "metadata": {},
          "execution_count": 7
        }
      ]
    },
    {
      "cell_type": "code",
      "source": [
        "type(doc)"
      ],
      "metadata": {
        "colab": {
          "base_uri": "https://localhost:8080/"
        },
        "id": "uvbh6R09SQPR",
        "outputId": "10f75047-64d7-468d-d9a9-cc464384a420"
      },
      "execution_count": 8,
      "outputs": [
        {
          "output_type": "execute_result",
          "data": {
            "text/plain": [
              "spacy.tokens.doc.Doc"
            ]
          },
          "metadata": {},
          "execution_count": 8
        }
      ]
    },
    {
      "cell_type": "code",
      "source": [
        "#spacy Tokenizer  (token as object no string)\n",
        "print([token for token in doc])# print all the tokens."
      ],
      "metadata": {
        "colab": {
          "base_uri": "https://localhost:8080/"
        },
        "id": "j7w1yhCMSQSU",
        "outputId": "4337dcfa-0945-4584-a25c-b02ddb5683f6"
      },
      "execution_count": 10,
      "outputs": [
        {
          "output_type": "stream",
          "name": "stdout",
          "text": [
            "[I, 'm, working, as, a, Data, Scientist, in, the, U.S., and, earning, $, 140,000]\n"
          ]
        }
      ]
    },
    {
      "cell_type": "code",
      "source": [
        "#Type of token\n",
        "[type (token) for token in doc]"
      ],
      "metadata": {
        "colab": {
          "base_uri": "https://localhost:8080/"
        },
        "id": "KsWLXmicSQUw",
        "outputId": "593c2c8d-0b6d-4790-cf40-843e10f20227"
      },
      "execution_count": 11,
      "outputs": [
        {
          "output_type": "execute_result",
          "data": {
            "text/plain": [
              "[spacy.tokens.token.Token,\n",
              " spacy.tokens.token.Token,\n",
              " spacy.tokens.token.Token,\n",
              " spacy.tokens.token.Token,\n",
              " spacy.tokens.token.Token,\n",
              " spacy.tokens.token.Token,\n",
              " spacy.tokens.token.Token,\n",
              " spacy.tokens.token.Token,\n",
              " spacy.tokens.token.Token,\n",
              " spacy.tokens.token.Token,\n",
              " spacy.tokens.token.Token,\n",
              " spacy.tokens.token.Token,\n",
              " spacy.tokens.token.Token,\n",
              " spacy.tokens.token.Token]"
            ]
          },
          "metadata": {},
          "execution_count": 11
        }
      ]
    },
    {
      "cell_type": "code",
      "source": [
        "#Type of token\n",
        "print([token.text for token in doc])"
      ],
      "metadata": {
        "colab": {
          "base_uri": "https://localhost:8080/"
        },
        "id": "DH-kTvCUTwIj",
        "outputId": "7524eb96-a0dd-4013-db04-779fb0900a53"
      },
      "execution_count": 12,
      "outputs": [
        {
          "output_type": "stream",
          "name": "stdout",
          "text": [
            "['I', \"'m\", 'working', 'as', 'a', 'Data', 'Scientist', 'in', 'the', 'U.S.', 'and', 'earning', '$', '140,000']\n"
          ]
        }
      ]
    },
    {
      "cell_type": "code",
      "source": [
        "#Compare\n",
        "#white space Tokenizer\n",
        "print(text.split())\n",
        "#Sapcy token\n",
        "print([token.text for token in doc])"
      ],
      "metadata": {
        "colab": {
          "base_uri": "https://localhost:8080/"
        },
        "id": "eSuvD2r5SQXw",
        "outputId": "246196bf-3e4e-4955-f698-e28b741a173d"
      },
      "execution_count": 13,
      "outputs": [
        {
          "output_type": "stream",
          "name": "stdout",
          "text": [
            "[\"I'm\", 'working', 'as', 'a', 'Data', 'Scientist', 'in', 'the', 'U.S.', 'and', 'earning', '$140,000']\n",
            "['I', \"'m\", 'working', 'as', 'a', 'Data', 'Scientist', 'in', 'the', 'U.S.', 'and', 'earning', '$', '140,000']\n"
          ]
        }
      ]
    },
    {
      "cell_type": "code",
      "source": [
        "Text= \"Just in a few years, natural language processing has evolved into something so powerful and impactful, which no one could have imagined.\"\n",
        "\n",
        "# Perform the following tasks on the above text:\n",
        "\n",
        "# Task 1: ”Tokenize it using whitespace tokenizer.”\n",
        "\n",
        "# Task 2: “Tokenize it using spacy’s tokenizer.”\n",
        "\n"
      ],
      "metadata": {
        "id": "f1sqdq46UtIF"
      },
      "execution_count": 16,
      "outputs": []
    },
    {
      "cell_type": "code",
      "source": [
        "#Compare\n",
        "#white space Tokenizer\n",
        "print(Text.split())\n",
        "\n"
      ],
      "metadata": {
        "id": "hbitSG710wC_",
        "outputId": "b8966dde-8d14-4406-efc3-4ec04d5c9be5",
        "colab": {
          "base_uri": "https://localhost:8080/"
        }
      },
      "execution_count": 18,
      "outputs": [
        {
          "output_type": "stream",
          "name": "stdout",
          "text": [
            "['Just', 'in', 'a', 'few', 'years,', 'natural', 'language', 'processing', 'has', 'evolved', 'into', 'something', 'so', 'powerful', 'and', 'impactful,', 'which', 'no', 'one', 'could', 'have', 'imagined.']\n"
          ]
        }
      ]
    },
    {
      "cell_type": "code",
      "source": [
        "doc = nlp(Text)"
      ],
      "metadata": {
        "id": "xXSwR_V81eZW"
      },
      "execution_count": 19,
      "outputs": []
    },
    {
      "cell_type": "code",
      "source": [
        "doc #document, not token"
      ],
      "metadata": {
        "id": "rh8uxcql1eQn",
        "outputId": "d9cef3e8-ba83-4180-8a47-d8f25810a4cb",
        "colab": {
          "base_uri": "https://localhost:8080/"
        }
      },
      "execution_count": 20,
      "outputs": [
        {
          "output_type": "execute_result",
          "data": {
            "text/plain": [
              "Just in a few years, natural language processing has evolved into something so powerful and impactful, which no one could have imagined."
            ]
          },
          "metadata": {},
          "execution_count": 20
        }
      ]
    },
    {
      "cell_type": "code",
      "source": [
        "type(doc)"
      ],
      "metadata": {
        "id": "JMskJdd61pPm",
        "outputId": "3deb077c-e4c9-4c9d-dfac-567f0eba3a88",
        "colab": {
          "base_uri": "https://localhost:8080/"
        }
      },
      "execution_count": 21,
      "outputs": [
        {
          "output_type": "execute_result",
          "data": {
            "text/plain": [
              "spacy.tokens.doc.Doc"
            ]
          },
          "metadata": {},
          "execution_count": 21
        }
      ]
    },
    {
      "cell_type": "code",
      "source": [
        "#spacy Tokenizer  (token as object no string)\n",
        "print([token for token in doc])# print all the tokens"
      ],
      "metadata": {
        "id": "mHk-llKv1pJH",
        "outputId": "f1c26c26-4bac-42a0-baf6-1e63842247ec",
        "colab": {
          "base_uri": "https://localhost:8080/"
        }
      },
      "execution_count": 23,
      "outputs": [
        {
          "output_type": "stream",
          "name": "stdout",
          "text": [
            "[Just, in, a, few, years, ,, natural, language, processing, has, evolved, into, something, so, powerful, and, impactful, ,, which, no, one, could, have, imagined, .]\n"
          ]
        }
      ]
    },
    {
      "cell_type": "code",
      "source": [
        "#Type of token\n",
        "[type (token) for token in doc]"
      ],
      "metadata": {
        "id": "p95UjcSG13pQ",
        "outputId": "f1a53523-6241-47fc-bd5a-dca364643248",
        "colab": {
          "base_uri": "https://localhost:8080/"
        }
      },
      "execution_count": 25,
      "outputs": [
        {
          "output_type": "execute_result",
          "data": {
            "text/plain": [
              "[spacy.tokens.token.Token,\n",
              " spacy.tokens.token.Token,\n",
              " spacy.tokens.token.Token,\n",
              " spacy.tokens.token.Token,\n",
              " spacy.tokens.token.Token,\n",
              " spacy.tokens.token.Token,\n",
              " spacy.tokens.token.Token,\n",
              " spacy.tokens.token.Token,\n",
              " spacy.tokens.token.Token,\n",
              " spacy.tokens.token.Token,\n",
              " spacy.tokens.token.Token,\n",
              " spacy.tokens.token.Token,\n",
              " spacy.tokens.token.Token,\n",
              " spacy.tokens.token.Token,\n",
              " spacy.tokens.token.Token,\n",
              " spacy.tokens.token.Token,\n",
              " spacy.tokens.token.Token,\n",
              " spacy.tokens.token.Token,\n",
              " spacy.tokens.token.Token,\n",
              " spacy.tokens.token.Token,\n",
              " spacy.tokens.token.Token,\n",
              " spacy.tokens.token.Token,\n",
              " spacy.tokens.token.Token,\n",
              " spacy.tokens.token.Token,\n",
              " spacy.tokens.token.Token]"
            ]
          },
          "metadata": {},
          "execution_count": 25
        }
      ]
    },
    {
      "cell_type": "code",
      "source": [
        "#Type of token\n",
        "print([token.text for token in doc])"
      ],
      "metadata": {
        "id": "bjLgdw_v16yn",
        "outputId": "5df9eb6d-b9c8-4cef-cc32-02ecd89603bb",
        "colab": {
          "base_uri": "https://localhost:8080/"
        }
      },
      "execution_count": 26,
      "outputs": [
        {
          "output_type": "stream",
          "name": "stdout",
          "text": [
            "['Just', 'in', 'a', 'few', 'years', ',', 'natural', 'language', 'processing', 'has', 'evolved', 'into', 'something', 'so', 'powerful', 'and', 'impactful', ',', 'which', 'no', 'one', 'could', 'have', 'imagined', '.']\n"
          ]
        }
      ]
    },
    {
      "cell_type": "code",
      "source": [
        "#Sapcy token\n",
        "print([token.text for token in doc])"
      ],
      "metadata": {
        "id": "jhsJVaCo036c",
        "outputId": "d7d4e58d-16ea-4877-d871-78bd4b901a0f",
        "colab": {
          "base_uri": "https://localhost:8080/"
        }
      },
      "execution_count": 28,
      "outputs": [
        {
          "output_type": "stream",
          "name": "stdout",
          "text": [
            "['Just', 'in', 'a', 'few', 'years', ',', 'natural', 'language', 'processing', 'has', 'evolved', 'into', 'something', 'so', 'powerful', 'and', 'impactful', ',', 'which', 'no', 'one', 'could', 'have', 'imagined', '.']\n"
          ]
        }
      ]
    },
    {
      "cell_type": "code",
      "source": [
        "#Compare\n",
        "#white space Tokenizer\n",
        "print(Text.split())\n",
        "#Sapcy token\n",
        "print([token.text for token in doc])"
      ],
      "metadata": {
        "id": "CCo5os4G2SIW",
        "outputId": "9464b0c3-75dd-4e6f-de06-de9709f6e764",
        "colab": {
          "base_uri": "https://localhost:8080/"
        }
      },
      "execution_count": 29,
      "outputs": [
        {
          "output_type": "stream",
          "name": "stdout",
          "text": [
            "['Just', 'in', 'a', 'few', 'years,', 'natural', 'language', 'processing', 'has', 'evolved', 'into', 'something', 'so', 'powerful', 'and', 'impactful,', 'which', 'no', 'one', 'could', 'have', 'imagined.']\n",
            "['Just', 'in', 'a', 'few', 'years', ',', 'natural', 'language', 'processing', 'has', 'evolved', 'into', 'something', 'so', 'powerful', 'and', 'impactful', ',', 'which', 'no', 'one', 'could', 'have', 'imagined', '.']\n"
          ]
        }
      ]
    },
    {
      "cell_type": "code",
      "source": [
        ""
      ],
      "metadata": {
        "id": "YGtvD0ug2e3D"
      },
      "execution_count": null,
      "outputs": []
    }
  ]
}