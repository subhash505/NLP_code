{
  "nbformat": 4,
  "nbformat_minor": 0,
  "metadata": {
    "colab": {
      "name": "Levenshtein_distance_to_calculate_string_similarity.ipynb",
      "provenance": [],
      "collapsed_sections": [],
      "include_colab_link": true
    },
    "kernelspec": {
      "name": "python3",
      "display_name": "Python 3"
    }
  },
  "cells": [
    {
      "cell_type": "markdown",
      "metadata": {
        "id": "view-in-github",
        "colab_type": "text"
      },
      "source": [
        "<a href=\"https://colab.research.google.com/github/subhash505/NLP_code/blob/main/Levenshtein_distance_to_calculate_string_similarity.ipynb\" target=\"_parent\"><img src=\"https://colab.research.google.com/assets/colab-badge.svg\" alt=\"Open In Colab\"/></a>"
      ]
    },
    {
      "cell_type": "code",
      "metadata": {
        "id": "bOb9Q4x75IvZ"
      },
      "source": [
        "# importing library\n",
        "import numpy as np"
      ],
      "execution_count": 2,
      "outputs": []
    },
    {
      "cell_type": "code",
      "metadata": {
        "id": "E60WMhAMoLXz"
      },
      "source": [
        "# defining two strings\n",
        "seq1 = 'text'\n",
        "seq2 = 'test'"
      ],
      "execution_count": 3,
      "outputs": []
    },
    {
      "cell_type": "markdown",
      "metadata": {
        "id": "BEaRTW7Vvmwv"
      },
      "source": [
        "![](https://drive.google.com/uc?export=view&id=1ev-00rhE1Waiy9VbdR2KpO_ML4JnosWj)"
      ]
    },
    {
      "cell_type": "code",
      "metadata": {
        "id": "716_OkwioLdt",
        "colab": {
          "base_uri": "https://localhost:8080/"
        },
        "outputId": "593dffb5-65c4-45e0-fcb1-ce015caed0f9"
      },
      "source": [
        "# size of matrix\n",
        "size_x = len(seq1) + 1\n",
        "size_y = len(seq2) + 1\n",
        "# creating a matrix with all zeros\n",
        "matrix = np.zeros((size_x, size_y))\n",
        "\n",
        "# printing the matrix\n",
        "matrix"
      ],
      "execution_count": 4,
      "outputs": [
        {
          "output_type": "execute_result",
          "data": {
            "text/plain": [
              "array([[0., 0., 0., 0., 0.],\n",
              "       [0., 0., 0., 0., 0.],\n",
              "       [0., 0., 0., 0., 0.],\n",
              "       [0., 0., 0., 0., 0.],\n",
              "       [0., 0., 0., 0., 0.]])"
            ]
          },
          "metadata": {},
          "execution_count": 4
        }
      ]
    },
    {
      "cell_type": "code",
      "metadata": {
        "id": "lLypPFt-ucDq",
        "colab": {
          "base_uri": "https://localhost:8080/"
        },
        "outputId": "33586ef8-12bd-41a8-9aad-bcc355b6728f"
      },
      "source": [
        "# filling the first column of the matrix with the index of characters from first string\n",
        "for x in range(size_x):\n",
        "    matrix [x, 0] = x\n",
        "# filling the first row of the matrix with the index of characters from second string\n",
        "for y in range(size_y):\n",
        "    matrix [0, y] = y\n",
        "\n",
        "# printing the matrix\n",
        "matrix"
      ],
      "execution_count": 5,
      "outputs": [
        {
          "output_type": "execute_result",
          "data": {
            "text/plain": [
              "array([[0., 1., 2., 3., 4.],\n",
              "       [1., 0., 0., 0., 0.],\n",
              "       [2., 0., 0., 0., 0.],\n",
              "       [3., 0., 0., 0., 0.],\n",
              "       [4., 0., 0., 0., 0.]])"
            ]
          },
          "metadata": {},
          "execution_count": 5
        }
      ]
    },
    {
      "cell_type": "code",
      "metadata": {
        "id": "1IILe4PLvV9R",
        "colab": {
          "base_uri": "https://localhost:8080/"
        },
        "outputId": "3c509bf7-50dd-4330-8526-c9d2a1e7c2ab"
      },
      "source": [
        "# for each column\n",
        "for x in range(1, size_x):\n",
        "    # for each row\n",
        "    for y in range(1, size_y):\n",
        "        # check if the characters are same\n",
        "        if seq1[x-1] == seq2[y-1]:\n",
        "            # fill the element with the minimum of (diagonal value, first corresponding value + 1, second corresponding value + 1) \n",
        "            matrix [x,y] = min(\n",
        "                matrix[x-1, y-1],\n",
        "                matrix[x-1, y] + 1,                    \n",
        "                matrix[x, y-1] + 1\n",
        "            )\n",
        "        # if characters are not same\n",
        "        else:\n",
        "            # fill the element with the minimum of corresponding values + 1\n",
        "            matrix [x,y] = min(\n",
        "                matrix[x-1,y] + 1,\n",
        "                matrix[x-1,y-1] + 1,\n",
        "                matrix[x,y-1] + 1\n",
        "            )\n",
        "\n",
        "# final matrix\n",
        "matrix"
      ],
      "execution_count": 6,
      "outputs": [
        {
          "output_type": "execute_result",
          "data": {
            "text/plain": [
              "array([[0., 1., 2., 3., 4.],\n",
              "       [1., 0., 1., 2., 3.],\n",
              "       [2., 1., 0., 1., 2.],\n",
              "       [3., 2., 1., 1., 2.],\n",
              "       [4., 3., 2., 2., 1.]])"
            ]
          },
          "metadata": {},
          "execution_count": 6
        }
      ]
    },
    {
      "cell_type": "code",
      "metadata": {
        "id": "yLMKrZbNveUB",
        "colab": {
          "base_uri": "https://localhost:8080/"
        },
        "outputId": "75cd8e0d-470c-4d02-d9a8-137fc27149d4"
      },
      "source": [
        "# levenshtein distance\n",
        "matrix[size_x - 1, size_y - 1]"
      ],
      "execution_count": 7,
      "outputs": [
        {
          "output_type": "execute_result",
          "data": {
            "text/plain": [
              "1.0"
            ]
          },
          "metadata": {},
          "execution_count": 7
        }
      ]
    },
    {
      "cell_type": "code",
      "metadata": {
        "id": "3xwSbEIots4Y"
      },
      "source": [
        "# defining the function to calculate levenshtein distance between two strings\n",
        "def levenshtein_distance(seq1, seq2):\n",
        "\n",
        "    # size of matrix\n",
        "    size_x = len(seq1) + 1\n",
        "    size_y = len(seq2) + 1\n",
        "    # creating a matrix with all zeros\n",
        "    matrix = np.zeros((size_x, size_y))\n",
        "\n",
        "    # filling the first column of the matrix with the index of characters from first string\n",
        "    for x in range(size_x):\n",
        "        matrix [x, 0] = x\n",
        "    # filling the first row of the matrix with the index of characters from second string\n",
        "    for y in range(size_y):\n",
        "        matrix [0, y] = y\n",
        "\n",
        "    # for each column\n",
        "    for x in range(1, size_x):\n",
        "        # for each row\n",
        "        for y in range(1, size_y):\n",
        "            # check if the characters are same\n",
        "            if seq1[x-1] == seq2[y-1]:\n",
        "                # fill the element with the minimum of (diagonal value, first corresponding value + 1, second corresponding value + 1) \n",
        "                matrix [x,y] = min(\n",
        "                    matrix[x-1, y-1],\n",
        "                    matrix[x-1, y] + 1,                    \n",
        "                    matrix[x, y-1] + 1\n",
        "                )\n",
        "            # if characters are not same\n",
        "            else:\n",
        "                # fill the element with the minimum of corresponding values + 1\n",
        "                matrix [x,y] = min(\n",
        "                    matrix[x-1,y] + 1,\n",
        "                    matrix[x-1,y-1] + 1,\n",
        "                    matrix[x,y-1] + 1\n",
        "                )\n",
        "\n",
        "    # printing the final matrix            \n",
        "    print (matrix)\n",
        "    \n",
        "    # returning the levenshtein distance\n",
        "    return (matrix[size_x - 1, size_y - 1])"
      ],
      "execution_count": 8,
      "outputs": []
    },
    {
      "cell_type": "code",
      "metadata": {
        "id": "pHmF5JBMkjlm"
      },
      "source": [
        "# defining two sequences\n",
        "seq1 = 'Recognition'\n",
        "seq2 = 'Radiopticon'"
      ],
      "execution_count": 19,
      "outputs": []
    },
    {
      "cell_type": "code",
      "metadata": {
        "id": "hq7_c-Mz3dQt",
        "colab": {
          "base_uri": "https://localhost:8080/"
        },
        "outputId": "7ab74b21-fb6d-463d-8e3e-dee0bc8a9c6f"
      },
      "source": [
        "levenshtein_distance(seq1, seq2)"
      ],
      "execution_count": 20,
      "outputs": [
        {
          "output_type": "stream",
          "name": "stdout",
          "text": [
            "[[ 0.  1.  2.  3.  4.  5.  6.  7.  8.  9. 10. 11.]\n",
            " [ 1.  0.  1.  2.  3.  4.  5.  6.  7.  8.  9. 10.]\n",
            " [ 2.  1.  1.  2.  3.  4.  5.  6.  7.  8.  9. 10.]\n",
            " [ 3.  2.  2.  2.  3.  4.  5.  6.  7.  7.  8.  9.]\n",
            " [ 4.  3.  3.  3.  3.  3.  4.  5.  6.  7.  7.  8.]\n",
            " [ 5.  4.  4.  4.  4.  4.  4.  5.  6.  7.  8.  8.]\n",
            " [ 6.  5.  5.  5.  5.  5.  5.  5.  6.  7.  8.  8.]\n",
            " [ 7.  6.  6.  6.  5.  6.  6.  6.  5.  6.  7.  8.]\n",
            " [ 8.  7.  7.  7.  6.  6.  7.  6.  6.  6.  7.  8.]\n",
            " [ 9.  8.  8.  8.  7.  7.  7.  7.  6.  7.  7.  8.]\n",
            " [10.  9.  9.  9.  8.  7.  8.  8.  7.  7.  7.  8.]\n",
            " [11. 10. 10. 10.  9.  8.  8.  9.  8.  8.  8.  7.]]\n"
          ]
        },
        {
          "output_type": "execute_result",
          "data": {
            "text/plain": [
              "7.0"
            ]
          },
          "metadata": {},
          "execution_count": 20
        }
      ]
    },
    {
      "cell_type": "code",
      "source": [
        "! pip install tkinter"
      ],
      "metadata": {
        "colab": {
          "base_uri": "https://localhost:8080/"
        },
        "id": "IOz0BoCz35zl",
        "outputId": "27c6ba29-3963-4ad1-fc9d-9e409b9ed078"
      },
      "execution_count": 12,
      "outputs": [
        {
          "output_type": "stream",
          "name": "stdout",
          "text": [
            "Looking in indexes: https://pypi.org/simple, https://us-python.pkg.dev/colab-wheels/public/simple/\n",
            "\u001b[31mERROR: Could not find a version that satisfies the requirement tkinter (from versions: none)\u001b[0m\n",
            "\u001b[31mERROR: No matching distribution found for tkinter\u001b[0m\n"
          ]
        }
      ]
    },
    {
      "cell_type": "code",
      "metadata": {
        "id": "FJLxIjMc3i0B",
        "colab": {
          "base_uri": "https://localhost:8080/",
          "height": 372
        },
        "outputId": "9049cd27-af7d-4bad-8bd6-8a1fcb1957cd"
      },
      "source": [
        "\n",
        "#@title\n",
        "import tkinter as tk\n",
        "from tkinter.constants import *\n",
        "\n",
        "ROWS, COLS = 2, 2\n",
        "\n",
        "def process(entry_widgets, row, col):\n",
        "    var_name = entry_widgets[row][col].cget('textvariable')\n",
        "    var = root.variables[var_name]\n",
        "    try:\n",
        "        value = float(var.get())\n",
        "    except ValueError:  # Something invalid (or nothing) was entered.\n",
        "        value = 0\n",
        "    var.set(value+5)  # Update value.\n",
        "\n",
        "\n",
        "root = tk.Tk()\n",
        "\n",
        "# Create a grid of Entry widgets.\n",
        "entries = []\n",
        "root.variables = {}  # To track StringVars.\n",
        "\n",
        "for x in range(COLS):\n",
        "    row = []\n",
        "    for y in range(ROWS):\n",
        "        var = tk.StringVar(master=root)  # Create variable.\n",
        "        root.variables[str(var)] = var  # Track them by name.\n",
        "        entry = tk.Entry(root, textvariable=var)\n",
        "        entry.grid(row=x, column=y)\n",
        "        row.append(entry)\n",
        "    entries.append(row)\n",
        "\n",
        "\n",
        "btn = tk.Button(root, text='Process', command=lambda: process(entries, 0, 1))\n",
        "btn.grid(row=2, column=0, columnspan=COLS, sticky=E+W)\n",
        "\n",
        "root.mainloop()"
      ],
      "execution_count": 18,
      "outputs": [
        {
          "output_type": "error",
          "ename": "TclError",
          "evalue": "ignored",
          "traceback": [
            "\u001b[0;31m---------------------------------------------------------------------------\u001b[0m",
            "\u001b[0;31mTclError\u001b[0m                                  Traceback (most recent call last)",
            "\u001b[0;32m<ipython-input-18-31c05f166ea8>\u001b[0m in \u001b[0;36m<module>\u001b[0;34m()\u001b[0m\n\u001b[1;32m     16\u001b[0m \u001b[0;34m\u001b[0m\u001b[0m\n\u001b[1;32m     17\u001b[0m \u001b[0;34m\u001b[0m\u001b[0m\n\u001b[0;32m---> 18\u001b[0;31m \u001b[0mroot\u001b[0m \u001b[0;34m=\u001b[0m \u001b[0mtk\u001b[0m\u001b[0;34m.\u001b[0m\u001b[0mTk\u001b[0m\u001b[0;34m(\u001b[0m\u001b[0;34m)\u001b[0m\u001b[0;34m\u001b[0m\u001b[0;34m\u001b[0m\u001b[0m\n\u001b[0m\u001b[1;32m     19\u001b[0m \u001b[0;34m\u001b[0m\u001b[0m\n\u001b[1;32m     20\u001b[0m \u001b[0;31m# Create a grid of Entry widgets.\u001b[0m\u001b[0;34m\u001b[0m\u001b[0;34m\u001b[0m\u001b[0;34m\u001b[0m\u001b[0m\n",
            "\u001b[0;32m/usr/lib/python3.7/tkinter/__init__.py\u001b[0m in \u001b[0;36m__init__\u001b[0;34m(self, screenName, baseName, className, useTk, sync, use)\u001b[0m\n\u001b[1;32m   2021\u001b[0m                 \u001b[0mbaseName\u001b[0m \u001b[0;34m=\u001b[0m \u001b[0mbaseName\u001b[0m \u001b[0;34m+\u001b[0m \u001b[0mext\u001b[0m\u001b[0;34m\u001b[0m\u001b[0;34m\u001b[0m\u001b[0m\n\u001b[1;32m   2022\u001b[0m         \u001b[0minteractive\u001b[0m \u001b[0;34m=\u001b[0m \u001b[0;36m0\u001b[0m\u001b[0;34m\u001b[0m\u001b[0;34m\u001b[0m\u001b[0m\n\u001b[0;32m-> 2023\u001b[0;31m         \u001b[0mself\u001b[0m\u001b[0;34m.\u001b[0m\u001b[0mtk\u001b[0m \u001b[0;34m=\u001b[0m \u001b[0m_tkinter\u001b[0m\u001b[0;34m.\u001b[0m\u001b[0mcreate\u001b[0m\u001b[0;34m(\u001b[0m\u001b[0mscreenName\u001b[0m\u001b[0;34m,\u001b[0m \u001b[0mbaseName\u001b[0m\u001b[0;34m,\u001b[0m \u001b[0mclassName\u001b[0m\u001b[0;34m,\u001b[0m \u001b[0minteractive\u001b[0m\u001b[0;34m,\u001b[0m \u001b[0mwantobjects\u001b[0m\u001b[0;34m,\u001b[0m \u001b[0museTk\u001b[0m\u001b[0;34m,\u001b[0m \u001b[0msync\u001b[0m\u001b[0;34m,\u001b[0m \u001b[0muse\u001b[0m\u001b[0;34m)\u001b[0m\u001b[0;34m\u001b[0m\u001b[0;34m\u001b[0m\u001b[0m\n\u001b[0m\u001b[1;32m   2024\u001b[0m         \u001b[0;32mif\u001b[0m \u001b[0museTk\u001b[0m\u001b[0;34m:\u001b[0m\u001b[0;34m\u001b[0m\u001b[0;34m\u001b[0m\u001b[0m\n\u001b[1;32m   2025\u001b[0m             \u001b[0mself\u001b[0m\u001b[0;34m.\u001b[0m\u001b[0m_loadtk\u001b[0m\u001b[0;34m(\u001b[0m\u001b[0;34m)\u001b[0m\u001b[0;34m\u001b[0m\u001b[0;34m\u001b[0m\u001b[0m\n",
            "\u001b[0;31mTclError\u001b[0m: no display name and no $DISPLAY environment variable"
          ]
        }
      ]
    },
    {
      "cell_type": "code",
      "source": [
        ""
      ],
      "metadata": {
        "id": "z3uVA3Hc32T2"
      },
      "execution_count": 18,
      "outputs": []
    }
  ]
}