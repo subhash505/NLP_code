{
  "nbformat": 4,
  "nbformat_minor": 0,
  "metadata": {
    "colab": {
      "name": "hamming_distance.ipynb",
      "provenance": [],
      "authorship_tag": "ABX9TyOQfrRJ3FTLMHrDtwEgi84a",
      "include_colab_link": true
    },
    "kernelspec": {
      "name": "python3",
      "display_name": "Python 3"
    },
    "language_info": {
      "name": "python"
    }
  },
  "cells": [
    {
      "cell_type": "markdown",
      "metadata": {
        "id": "view-in-github",
        "colab_type": "text"
      },
      "source": [
        "<a href=\"https://colab.research.google.com/github/subhash505/NLP_code/blob/main/hamming_distance.ipynb\" target=\"_parent\"><img src=\"https://colab.research.google.com/assets/colab-badge.svg\" alt=\"Open In Colab\"/></a>"
      ]
    },
    {
      "cell_type": "code",
      "execution_count": 1,
      "metadata": {
        "id": "LdKyNiyeqMzK"
      },
      "outputs": [],
      "source": [
        "#importing the library\n",
        "from scipy.spatial import distance"
      ]
    },
    {
      "cell_type": "code",
      "source": [
        "\n",
        "#defining two strings\n",
        "string_1 = 'table'\n",
        "string_2 = 'taken'\n",
        "\n"
      ],
      "metadata": {
        "id": "BYL2Tyjbqdaj"
      },
      "execution_count": 11,
      "outputs": []
    },
    {
      "cell_type": "code",
      "source": [
        "#Computing the normalized hamming distance\n",
        "hamming_distance = distance.hamming(list(string_1), list(string_2))\n",
        "print('Normalized Hamming Distance b/w', string_1, 'and', string_2, 'is: ', hamming_distance)\n",
        "\n"
      ],
      "metadata": {
        "colab": {
          "base_uri": "https://localhost:8080/"
        },
        "id": "9Hc2g3BOqddS",
        "outputId": "0f50fe0d-9321-4078-95a8-b597859b637f"
      },
      "execution_count": 12,
      "outputs": [
        {
          "output_type": "stream",
          "name": "stdout",
          "text": [
            "Normalized Hamming Distance b/w table and taken is:  0.6\n"
          ]
        }
      ]
    },
    {
      "cell_type": "code",
      "source": [
        "#original hamming distance\n",
        "print('Hamming Distance b/w', string_1, 'and', string_2, 'is: ', hamming_distance * len(string_1))\n",
        "\n"
      ],
      "metadata": {
        "colab": {
          "base_uri": "https://localhost:8080/"
        },
        "id": "VyzN3zYjqidq",
        "outputId": "6d1968c4-cf03-40c6-e5ff-de1ba3c1fb4a"
      },
      "execution_count": 13,
      "outputs": [
        {
          "output_type": "stream",
          "name": "stdout",
          "text": [
            "Hamming Distance b/w table and taken is:  3.0\n"
          ]
        }
      ]
    },
    {
      "cell_type": "code",
      "source": [
        "! pip install enchant"
      ],
      "metadata": {
        "colab": {
          "base_uri": "https://localhost:8080/"
        },
        "id": "K1r5RzmmwkYc",
        "outputId": "3a719597-95ea-43cb-fe2d-85807b19bc88"
      },
      "execution_count": 15,
      "outputs": [
        {
          "output_type": "stream",
          "name": "stdout",
          "text": [
            "Looking in indexes: https://pypi.org/simple, https://us-python.pkg.dev/colab-wheels/public/simple/\n",
            "\u001b[31mERROR: Could not find a version that satisfies the requirement enchant (from versions: none)\u001b[0m\n",
            "\u001b[31mERROR: No matching distribution found for enchant\u001b[0m\n"
          ]
        }
      ]
    },
    {
      "cell_type": "code",
      "source": [
        "import enchant"
      ],
      "metadata": {
        "colab": {
          "base_uri": "https://localhost:8080/",
          "height": 317
        },
        "id": "kAPnGw8utR3E",
        "outputId": "f3761293-cb77-4e44-fbde-34ebbe356961"
      },
      "execution_count": 16,
      "outputs": [
        {
          "output_type": "error",
          "ename": "ModuleNotFoundError",
          "evalue": "ignored",
          "traceback": [
            "\u001b[0;31m---------------------------------------------------------------------------\u001b[0m",
            "\u001b[0;31mModuleNotFoundError\u001b[0m                       Traceback (most recent call last)",
            "\u001b[0;32m<ipython-input-16-c6a4b7ed6a34>\u001b[0m in \u001b[0;36m<module>\u001b[0;34m()\u001b[0m\n\u001b[0;32m----> 1\u001b[0;31m \u001b[0;32mimport\u001b[0m \u001b[0menchant\u001b[0m\u001b[0;34m\u001b[0m\u001b[0;34m\u001b[0m\u001b[0m\n\u001b[0m",
            "\u001b[0;31mModuleNotFoundError\u001b[0m: No module named 'enchant'",
            "",
            "\u001b[0;31m---------------------------------------------------------------------------\u001b[0;32m\nNOTE: If your import is failing due to a missing package, you can\nmanually install dependencies using either !pip or !apt.\n\nTo view examples of installing some common dependencies, click the\n\"Open Examples\" button below.\n\u001b[0;31m---------------------------------------------------------------------------\u001b[0m\n"
          ],
          "errorDetails": {
            "actions": [
              {
                "action": "open_url",
                "actionText": "Open Examples",
                "url": "/notebooks/snippets/importing_libraries.ipynb"
              }
            ]
          }
        }
      ]
    },
    {
      "cell_type": "code",
      "source": [
        "print(enchant.utils.levenshtein(string1, string2))"
      ],
      "metadata": {
        "id": "vUKAQAUNtWDr"
      },
      "execution_count": null,
      "outputs": []
    },
    {
      "cell_type": "code",
      "source": [
        "#Computing the normalized hamming distance\n",
        "hamming_distance = distance.hamming(list(string_1), list(string_2))\n",
        "print('Normalized Hamming Distance b/w', string_1, 'and', string_2, 'is: ', hamming_distance)"
      ],
      "metadata": {
        "id": "dRbZt94oqilK"
      },
      "execution_count": null,
      "outputs": []
    }
  ]
}