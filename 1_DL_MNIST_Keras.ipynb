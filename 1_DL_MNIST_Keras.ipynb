{
  "cells": [
    {
      "cell_type": "markdown",
      "metadata": {
        "id": "view-in-github",
        "colab_type": "text"
      },
      "source": [
        "<a href=\"https://colab.research.google.com/github/subhash505/NLP_code/blob/main/1_DL_MNIST_Keras.ipynb\" target=\"_parent\"><img src=\"https://colab.research.google.com/assets/colab-badge.svg\" alt=\"Open In Colab\"/></a>"
      ]
    },
    {
      "cell_type": "markdown",
      "metadata": {
        "id": "colAV6GHHszD"
      },
      "source": [
        "# Keras_MNIST\n",
        "### (Solutions)\n",
        "The MNIST data is a database of handwritten digits from 0 to 9. The database contains 60,000 28x28 grayscale images of the 10 digits, along with a test set of 10,000 images. Your task is to create an ANN model for identifying the digit from the handwritten images.\n",
        "Please perform the following tasks:\n",
        "•\tLoad the database to variable named digit_mnist using the Keras inbuilt datasets (digit_mnist = keras.datasets.mnist)\n",
        "•\tImport data to create X_train_full, y_train_full, X_test and y_test variables\n",
        "•\tNormalize the data\n",
        "•\tCreate a validation set of 6000 images\n",
        "•\tCreate an ANN model with two dense layers of 200 and 100 neurons\n",
        "•\tCompile and train the model for 60 epochs\n",
        "•\tPlot the loss and accuracy against epoch\n",
        "•\tEvaluate the model accuracy on the test dataset\n",
        "•\tPredict the digit for the first 5 records of the test dataset\n"
      ]
    },
    {
      "cell_type": "code",
      "execution_count": null,
      "metadata": {
        "id": "LnwylBarHszK"
      },
      "outputs": [],
      "source": [
        "import numpy as np\n",
        "import pandas as pd\n",
        "%matplotlib inline\n",
        "import matplotlib as mpl\n",
        "import matplotlib.pyplot as plt"
      ]
    },
    {
      "cell_type": "code",
      "execution_count": null,
      "metadata": {
        "id": "dTCnhb2JHszL"
      },
      "outputs": [],
      "source": [
        "import tensorflow as tf\n",
        "from tensorflow import keras"
      ]
    },
    {
      "cell_type": "code",
      "execution_count": null,
      "metadata": {
        "id": "cJ_HHMxnHszN"
      },
      "outputs": [],
      "source": [
        "digit_mnist = keras.datasets.mnist"
      ]
    },
    {
      "cell_type": "code",
      "execution_count": null,
      "metadata": {
        "colab": {
          "base_uri": "https://localhost:8080/"
        },
        "id": "yDFod6ebHszO",
        "outputId": "771d189f-159c-4c00-c1f0-c31e54fadc0d"
      },
      "outputs": [
        {
          "output_type": "stream",
          "name": "stdout",
          "text": [
            "Downloading data from https://storage.googleapis.com/tensorflow/tf-keras-datasets/mnist.npz\n",
            "11493376/11490434 [==============================] - 0s 0us/step\n",
            "11501568/11490434 [==============================] - 0s 0us/step\n"
          ]
        }
      ],
      "source": [
        "(X_train_full, y_train_full), (X_test, y_test) = digit_mnist.load_data()"
      ]
    },
    {
      "cell_type": "code",
      "execution_count": null,
      "metadata": {
        "colab": {
          "base_uri": "https://localhost:8080/",
          "height": 282
        },
        "id": "nsoXy6AKHszP",
        "outputId": "71b97c37-3375-4266-bb33-39da7e59f792"
      },
      "outputs": [
        {
          "output_type": "execute_result",
          "data": {
            "text/plain": [
              "<matplotlib.image.AxesImage at 0x7f73e913e310>"
            ]
          },
          "metadata": {},
          "execution_count": 13
        },
        {
          "output_type": "display_data",
          "data": {
            "text/plain": [
              "<Figure size 432x288 with 1 Axes>"
            ],
            "image/png": "[encoded data removed]"
          },
          "metadata": {
            "needs_background": "light"
          }
        }
      ],
      "source": [
        "plt.imshow(X_train_full[1])"
      ]
    },
    {
      "cell_type": "code",
      "execution_count": null,
      "metadata": {
        "colab": {
          "base_uri": "https://localhost:8080/"
        },
        "id": "0TnwJBE6HszQ",
        "outputId": "ad6445d5-e9ec-480f-cbba-622d9937654f"
      },
      "outputs": [
        {
          "output_type": "execute_result",
          "data": {
            "text/plain": [
              "0"
            ]
          },
          "metadata": {},
          "execution_count": 14
        }
      ],
      "source": [
        "y_train_full[1]"
      ]
    },
    {
      "cell_type": "code",
      "execution_count": null,
      "metadata": {
        "colab": {
          "base_uri": "https://localhost:8080/"
        },
        "id": "aP1bBX58HszR",
        "outputId": "ffef9425-b6c7-47d4-e1a7-75b4c433e461"
      },
      "outputs": [
        {
          "output_type": "execute_result",
          "data": {
            "text/plain": [
              "array([[  0,   0,   0,   0,   0,   0,   0,   0,   0,   0,   0,   0,   0,\n",
              "          0,   0,   0,   0,   0,   0,   0,   0,   0,   0,   0,   0,   0,\n",
              "          0,   0],\n",
              "       [  0,   0,   0,   0,   0,   0,   0,   0,   0,   0,   0,   0,   0,\n",
              "          0,   0,   0,   0,   0,   0,   0,   0,   0,   0,   0,   0,   0,\n",
              "          0,   0],\n",
              "       [  0,   0,   0,   0,   0,   0,   0,   0,   0,   0,   0,   0,   0,\n",
              "          0,   0,   0,   0,   0,   0,   0,   0,   0,   0,   0,   0,   0,\n",
              "          0,   0],\n",
              "       [  0,   0,   0,   0,   0,   0,   0,   0,   0,   0,   0,   0,   0,\n",
              "          0,   0,   0,   0,   0,   0,   0,   0,   0,   0,   0,   0,   0,\n",
              "          0,   0],\n",
              "       [  0,   0,   0,   0,   0,   0,   0,   0,   0,   0,   0,   0,   0,\n",
              "          0,   0,  51, 159, 253, 159,  50,   0,   0,   0,   0,   0,   0,\n",
              "          0,   0],\n",
              "       [  0,   0,   0,   0,   0,   0,   0,   0,   0,   0,   0,   0,   0,\n",
              "          0,  48, 238, 252, 252, 252, 237,   0,   0,   0,   0,   0,   0,\n",
              "          0,   0],\n",
              "       [  0,   0,   0,   0,   0,   0,   0,   0,   0,   0,   0,   0,   0,\n",
              "         54, 227, 253, 252, 239, 233, 252,  57,   6,   0,   0,   0,   0,\n",
              "          0,   0],\n",
              "       [  0,   0,   0,   0,   0,   0,   0,   0,   0,   0,   0,  10,  60,\n",
              "        224, 252, 253, 252, 202,  84, 252, 253, 122,   0,   0,   0,   0,\n",
              "          0,   0],\n",
              "       [  0,   0,   0,   0,   0,   0,   0,   0,   0,   0,   0, 163, 252,\n",
              "        252, 252, 253, 252, 252,  96, 189, 253, 167,   0,   0,   0,   0,\n",
              "          0,   0],\n",
              "       [  0,   0,   0,   0,   0,   0,   0,   0,   0,   0,  51, 238, 253,\n",
              "        253, 190, 114, 253, 228,  47,  79, 255, 168,   0,   0,   0,   0,\n",
              "          0,   0],\n",
              "       [  0,   0,   0,   0,   0,   0,   0,   0,   0,  48, 238, 252, 252,\n",
              "        179,  12,  75, 121,  21,   0,   0, 253, 243,  50,   0,   0,   0,\n",
              "          0,   0],\n",
              "       [  0,   0,   0,   0,   0,   0,   0,   0,  38, 165, 253, 233, 208,\n",
              "         84,   0,   0,   0,   0,   0,   0, 253, 252, 165,   0,   0,   0,\n",
              "          0,   0],\n",
              "       [  0,   0,   0,   0,   0,   0,   0,   7, 178, 252, 240,  71,  19,\n",
              "         28,   0,   0,   0,   0,   0,   0, 253, 252, 195,   0,   0,   0,\n",
              "          0,   0],\n",
              "       [  0,   0,   0,   0,   0,   0,   0,  57, 252, 252,  63,   0,   0,\n",
              "          0,   0,   0,   0,   0,   0,   0, 253, 252, 195,   0,   0,   0,\n",
              "          0,   0],\n",
              "       [  0,   0,   0,   0,   0,   0,   0, 198, 253, 190,   0,   0,   0,\n",
              "          0,   0,   0,   0,   0,   0,   0, 255, 253, 196,   0,   0,   0,\n",
              "          0,   0],\n",
              "       [  0,   0,   0,   0,   0,   0,  76, 246, 252, 112,   0,   0,   0,\n",
              "          0,   0,   0,   0,   0,   0,   0, 253, 252, 148,   0,   0,   0,\n",
              "          0,   0],\n",
              "       [  0,   0,   0,   0,   0,   0,  85, 252, 230,  25,   0,   0,   0,\n",
              "          0,   0,   0,   0,   0,   7, 135, 253, 186,  12,   0,   0,   0,\n",
              "          0,   0],\n",
              "       [  0,   0,   0,   0,   0,   0,  85, 252, 223,   0,   0,   0,   0,\n",
              "          0,   0,   0,   0,   7, 131, 252, 225,  71,   0,   0,   0,   0,\n",
              "          0,   0],\n",
              "       [  0,   0,   0,   0,   0,   0,  85, 252, 145,   0,   0,   0,   0,\n",
              "          0,   0,   0,  48, 165, 252, 173,   0,   0,   0,   0,   0,   0,\n",
              "          0,   0],\n",
              "       [  0,   0,   0,   0,   0,   0,  86, 253, 225,   0,   0,   0,   0,\n",
              "          0,   0, 114, 238, 253, 162,   0,   0,   0,   0,   0,   0,   0,\n",
              "          0,   0],\n",
              "       [  0,   0,   0,   0,   0,   0,  85, 252, 249, 146,  48,  29,  85,\n",
              "        178, 225, 253, 223, 167,  56,   0,   0,   0,   0,   0,   0,   0,\n",
              "          0,   0],\n",
              "       [  0,   0,   0,   0,   0,   0,  85, 252, 252, 252, 229, 215, 252,\n",
              "        252, 252, 196, 130,   0,   0,   0,   0,   0,   0,   0,   0,   0,\n",
              "          0,   0],\n",
              "       [  0,   0,   0,   0,   0,   0,  28, 199, 252, 252, 253, 252, 252,\n",
              "        233, 145,   0,   0,   0,   0,   0,   0,   0,   0,   0,   0,   0,\n",
              "          0,   0],\n",
              "       [  0,   0,   0,   0,   0,   0,   0,  25, 128, 252, 253, 252, 141,\n",
              "         37,   0,   0,   0,   0,   0,   0,   0,   0,   0,   0,   0,   0,\n",
              "          0,   0],\n",
              "       [  0,   0,   0,   0,   0,   0,   0,   0,   0,   0,   0,   0,   0,\n",
              "          0,   0,   0,   0,   0,   0,   0,   0,   0,   0,   0,   0,   0,\n",
              "          0,   0],\n",
              "       [  0,   0,   0,   0,   0,   0,   0,   0,   0,   0,   0,   0,   0,\n",
              "          0,   0,   0,   0,   0,   0,   0,   0,   0,   0,   0,   0,   0,\n",
              "          0,   0],\n",
              "       [  0,   0,   0,   0,   0,   0,   0,   0,   0,   0,   0,   0,   0,\n",
              "          0,   0,   0,   0,   0,   0,   0,   0,   0,   0,   0,   0,   0,\n",
              "          0,   0],\n",
              "       [  0,   0,   0,   0,   0,   0,   0,   0,   0,   0,   0,   0,   0,\n",
              "          0,   0,   0,   0,   0,   0,   0,   0,   0,   0,   0,   0,   0,\n",
              "          0,   0]], dtype=uint8)"
            ]
          },
          "metadata": {},
          "execution_count": 15
        }
      ],
      "source": [
        "X_train_full[1]"
      ]
    },
    {
      "cell_type": "code",
      "execution_count": null,
      "metadata": {
        "id": "ZK-t9rOnHszS"
      },
      "outputs": [],
      "source": [
        "X_train_n = X_train_full / 255.\n",
        "X_test_n = X_test / 255."
      ]
    },
    {
      "cell_type": "code",
      "execution_count": null,
      "metadata": {
        "id": "WcDq18u7HszT"
      },
      "outputs": [],
      "source": [
        "X_valid, X_train = X_train_n[:6000], X_train_n[6000:]\n",
        "y_valid, y_train = y_train_full[:6000], y_train_full[6000:]\n",
        "X_test = X_test_n"
      ]
    },
    {
      "cell_type": "code",
      "execution_count": null,
      "metadata": {
        "id": "kl9a_fRCHszU"
      },
      "outputs": [],
      "source": [
        "np.random.seed(42)\n",
        "tf.random.set_seed(42)"
      ]
    },
    {
      "cell_type": "code",
      "execution_count": null,
      "metadata": {
        "id": "Yhx56YR_HszU"
      },
      "outputs": [],
      "source": [
        "model = keras.models.Sequential()\n",
        "model.add(keras.layers.Flatten(input_shape=[28, 28]))\n",
        "model.add(keras.layers.Dense(200, activation=\"relu\"))\n",
        "model.add(keras.layers.Dense(100, activation=\"relu\"))\n",
        "model.add(keras.layers.Dense(10, activation=\"softmax\"))"
      ]
    },
    {
      "cell_type": "code",
      "execution_count": null,
      "metadata": {
        "id": "gf22mu2_HszV"
      },
      "outputs": [],
      "source": [
        "model.compile(loss=\"sparse_categorical_crossentropy\",\n",
        "              optimizer=\"sgd\",\n",
        "              metrics=[\"accuracy\"])"
      ]
    },
    {
      "cell_type": "code",
      "execution_count": null,
      "metadata": {
        "colab": {
          "base_uri": "https://localhost:8080/"
        },
        "id": "8o3zgPNCHszV",
        "outputId": "ec24c4af-f9c4-4767-b769-d66dddac28ed"
      },
      "outputs": [
        {
          "output_type": "stream",
          "name": "stdout",
          "text": [
            "Epoch 1/60\n",
            "1688/1688 [==============================] - 5s 3ms/step - loss: 0.6607 - accuracy: 0.8267 - val_loss: 0.3216 - val_accuracy: 0.9125\n",
            "Epoch 2/60\n",
            "1688/1688 [==============================] - 4s 3ms/step - loss: 0.3006 - accuracy: 0.9141 - val_loss: 0.2585 - val_accuracy: 0.9283\n",
            "Epoch 3/60\n",
            "1688/1688 [==============================] - 4s 3ms/step - loss: 0.2488 - accuracy: 0.9292 - val_loss: 0.2254 - val_accuracy: 0.9383\n",
            "Epoch 4/60\n",
            "1688/1688 [==============================] - 4s 3ms/step - loss: 0.2151 - accuracy: 0.9390 - val_loss: 0.1961 - val_accuracy: 0.9442\n",
            "Epoch 5/60\n",
            "1688/1688 [==============================] - 4s 3ms/step - loss: 0.1893 - accuracy: 0.9461 - val_loss: 0.1790 - val_accuracy: 0.9485\n",
            "Epoch 6/60\n",
            "1688/1688 [==============================] - 4s 3ms/step - loss: 0.1690 - accuracy: 0.9517 - val_loss: 0.1637 - val_accuracy: 0.9523\n",
            "Epoch 7/60\n",
            "1688/1688 [==============================] - 4s 3ms/step - loss: 0.1521 - accuracy: 0.9569 - val_loss: 0.1482 - val_accuracy: 0.9590\n",
            "Epoch 8/60\n",
            "1688/1688 [==============================] - 5s 3ms/step - loss: 0.1378 - accuracy: 0.9611 - val_loss: 0.1416 - val_accuracy: 0.9610\n",
            "Epoch 9/60\n",
            "1688/1688 [==============================] - 4s 3ms/step - loss: 0.1260 - accuracy: 0.9641 - val_loss: 0.1316 - val_accuracy: 0.9647\n",
            "Epoch 10/60\n",
            "1688/1688 [==============================] - 4s 3ms/step - loss: 0.1157 - accuracy: 0.9673 - val_loss: 0.1272 - val_accuracy: 0.9637\n",
            "Epoch 11/60\n",
            "1688/1688 [==============================] - 4s 3ms/step - loss: 0.1066 - accuracy: 0.9698 - val_loss: 0.1157 - val_accuracy: 0.9675\n",
            "Epoch 12/60\n",
            "1688/1688 [==============================] - 4s 3ms/step - loss: 0.0991 - accuracy: 0.9724 - val_loss: 0.1118 - val_accuracy: 0.9697\n",
            "Epoch 13/60\n",
            "1688/1688 [==============================] - 5s 3ms/step - loss: 0.0917 - accuracy: 0.9747 - val_loss: 0.1057 - val_accuracy: 0.9710\n",
            "Epoch 14/60\n",
            "1688/1688 [==============================] - 5s 3ms/step - loss: 0.0857 - accuracy: 0.9766 - val_loss: 0.1005 - val_accuracy: 0.9718\n",
            "Epoch 15/60\n",
            "1688/1688 [==============================] - 5s 3ms/step - loss: 0.0802 - accuracy: 0.9777 - val_loss: 0.0990 - val_accuracy: 0.9722\n",
            "Epoch 16/60\n",
            "1688/1688 [==============================] - 4s 3ms/step - loss: 0.0752 - accuracy: 0.9793 - val_loss: 0.0944 - val_accuracy: 0.9728\n",
            "Epoch 17/60\n",
            "1688/1688 [==============================] - 5s 3ms/step - loss: 0.0707 - accuracy: 0.9810 - val_loss: 0.0934 - val_accuracy: 0.9730\n",
            "Epoch 18/60\n",
            "1688/1688 [==============================] - 4s 3ms/step - loss: 0.0659 - accuracy: 0.9819 - val_loss: 0.0893 - val_accuracy: 0.9753\n",
            "Epoch 19/60\n",
            "1688/1688 [==============================] - 4s 3ms/step - loss: 0.0624 - accuracy: 0.9829 - val_loss: 0.0893 - val_accuracy: 0.9735\n",
            "Epoch 20/60\n",
            "1688/1688 [==============================] - 5s 3ms/step - loss: 0.0588 - accuracy: 0.9841 - val_loss: 0.0874 - val_accuracy: 0.9753\n",
            "Epoch 21/60\n",
            "1688/1688 [==============================] - 5s 3ms/step - loss: 0.0555 - accuracy: 0.9851 - val_loss: 0.0863 - val_accuracy: 0.9757\n",
            "Epoch 22/60\n",
            "1688/1688 [==============================] - 5s 3ms/step - loss: 0.0525 - accuracy: 0.9860 - val_loss: 0.0838 - val_accuracy: 0.9760\n",
            "Epoch 23/60\n",
            "1688/1688 [==============================] - 4s 3ms/step - loss: 0.0496 - accuracy: 0.9865 - val_loss: 0.0829 - val_accuracy: 0.9765\n",
            "Epoch 24/60\n",
            "1688/1688 [==============================] - 4s 3ms/step - loss: 0.0468 - accuracy: 0.9874 - val_loss: 0.0824 - val_accuracy: 0.9755\n",
            "Epoch 25/60\n",
            "1688/1688 [==============================] - 5s 3ms/step - loss: 0.0443 - accuracy: 0.9884 - val_loss: 0.0833 - val_accuracy: 0.9745\n",
            "Epoch 26/60\n",
            "1688/1688 [==============================] - 5s 3ms/step - loss: 0.0420 - accuracy: 0.9888 - val_loss: 0.0812 - val_accuracy: 0.9763\n",
            "Epoch 27/60\n",
            "1688/1688 [==============================] - 5s 3ms/step - loss: 0.0398 - accuracy: 0.9894 - val_loss: 0.0772 - val_accuracy: 0.9770\n",
            "Epoch 28/60\n",
            "1688/1688 [==============================] - 5s 3ms/step - loss: 0.0378 - accuracy: 0.9902 - val_loss: 0.0772 - val_accuracy: 0.9768\n",
            "Epoch 29/60\n",
            "1688/1688 [==============================] - 5s 3ms/step - loss: 0.0358 - accuracy: 0.9907 - val_loss: 0.0760 - val_accuracy: 0.9777\n",
            "Epoch 30/60\n",
            "1688/1688 [==============================] - 5s 3ms/step - loss: 0.0338 - accuracy: 0.9916 - val_loss: 0.0786 - val_accuracy: 0.9767\n",
            "Epoch 31/60\n",
            "1688/1688 [==============================] - 5s 3ms/step - loss: 0.0322 - accuracy: 0.9921 - val_loss: 0.0752 - val_accuracy: 0.9775\n",
            "Epoch 32/60\n",
            "1688/1688 [==============================] - 5s 3ms/step - loss: 0.0304 - accuracy: 0.9927 - val_loss: 0.0774 - val_accuracy: 0.9777\n",
            "Epoch 33/60\n",
            "1688/1688 [==============================] - 5s 3ms/step - loss: 0.0289 - accuracy: 0.9931 - val_loss: 0.0764 - val_accuracy: 0.9778\n",
            "Epoch 34/60\n",
            "1688/1688 [==============================] - 5s 3ms/step - loss: 0.0274 - accuracy: 0.9938 - val_loss: 0.0765 - val_accuracy: 0.9775\n",
            "Epoch 35/60\n",
            "1688/1688 [==============================] - 5s 3ms/step - loss: 0.0260 - accuracy: 0.9941 - val_loss: 0.0749 - val_accuracy: 0.9782\n",
            "Epoch 36/60\n",
            "1688/1688 [==============================] - 5s 3ms/step - loss: 0.0246 - accuracy: 0.9946 - val_loss: 0.0798 - val_accuracy: 0.9767\n",
            "Epoch 37/60\n",
            "1688/1688 [==============================] - 5s 3ms/step - loss: 0.0237 - accuracy: 0.9945 - val_loss: 0.0753 - val_accuracy: 0.9778\n",
            "Epoch 38/60\n",
            "1688/1688 [==============================] - 5s 3ms/step - loss: 0.0223 - accuracy: 0.9954 - val_loss: 0.0758 - val_accuracy: 0.9780\n",
            "Epoch 39/60\n",
            "1688/1688 [==============================] - 6s 3ms/step - loss: 0.0212 - accuracy: 0.9959 - val_loss: 0.0750 - val_accuracy: 0.9778\n",
            "Epoch 40/60\n",
            "1688/1688 [==============================] - 5s 3ms/step - loss: 0.0202 - accuracy: 0.9961 - val_loss: 0.0756 - val_accuracy: 0.9780\n",
            "Epoch 41/60\n",
            "1688/1688 [==============================] - 5s 3ms/step - loss: 0.0191 - accuracy: 0.9968 - val_loss: 0.0752 - val_accuracy: 0.9783\n",
            "Epoch 42/60\n",
            "1688/1688 [==============================] - 5s 3ms/step - loss: 0.0183 - accuracy: 0.9969 - val_loss: 0.0769 - val_accuracy: 0.9780\n",
            "Epoch 43/60\n",
            "1688/1688 [==============================] - 5s 3ms/step - loss: 0.0174 - accuracy: 0.9971 - val_loss: 0.0821 - val_accuracy: 0.9763\n",
            "Epoch 44/60\n",
            "1688/1688 [==============================] - 5s 3ms/step - loss: 0.0166 - accuracy: 0.9973 - val_loss: 0.0755 - val_accuracy: 0.9783\n",
            "Epoch 45/60\n",
            "1688/1688 [==============================] - 5s 3ms/step - loss: 0.0157 - accuracy: 0.9977 - val_loss: 0.0756 - val_accuracy: 0.9777\n",
            "Epoch 46/60\n",
            "1688/1688 [==============================] - 5s 3ms/step - loss: 0.0151 - accuracy: 0.9979 - val_loss: 0.0761 - val_accuracy: 0.9780\n",
            "Epoch 47/60\n",
            "1688/1688 [==============================] - 5s 3ms/step - loss: 0.0143 - accuracy: 0.9980 - val_loss: 0.0766 - val_accuracy: 0.9773\n",
            "Epoch 48/60\n",
            "1688/1688 [==============================] - 5s 3ms/step - loss: 0.0137 - accuracy: 0.9983 - val_loss: 0.0769 - val_accuracy: 0.9772\n",
            "Epoch 49/60\n",
            "1688/1688 [==============================] - 5s 3ms/step - loss: 0.0130 - accuracy: 0.9982 - val_loss: 0.0776 - val_accuracy: 0.9775\n",
            "Epoch 50/60\n",
            "1688/1688 [==============================] - 5s 3ms/step - loss: 0.0124 - accuracy: 0.9985 - val_loss: 0.0790 - val_accuracy: 0.9775\n",
            "Epoch 51/60\n",
            "1688/1688 [==============================] - 5s 3ms/step - loss: 0.0119 - accuracy: 0.9986 - val_loss: 0.0768 - val_accuracy: 0.9777\n",
            "Epoch 52/60\n",
            "1688/1688 [==============================] - 5s 3ms/step - loss: 0.0114 - accuracy: 0.9988 - val_loss: 0.0760 - val_accuracy: 0.9778\n",
            "Epoch 53/60\n",
            "1688/1688 [==============================] - 5s 3ms/step - loss: 0.0109 - accuracy: 0.9988 - val_loss: 0.0778 - val_accuracy: 0.9780\n",
            "Epoch 54/60\n",
            "1688/1688 [==============================] - 5s 3ms/step - loss: 0.0105 - accuracy: 0.9989 - val_loss: 0.0761 - val_accuracy: 0.9790\n",
            "Epoch 55/60\n",
            "1688/1688 [==============================] - 5s 3ms/step - loss: 0.0100 - accuracy: 0.9991 - val_loss: 0.0779 - val_accuracy: 0.9777\n",
            "Epoch 56/60\n",
            "1688/1688 [==============================] - 5s 3ms/step - loss: 0.0095 - accuracy: 0.9991 - val_loss: 0.0788 - val_accuracy: 0.9782\n",
            "Epoch 57/60\n",
            "1688/1688 [==============================] - 5s 3ms/step - loss: 0.0091 - accuracy: 0.9993 - val_loss: 0.0792 - val_accuracy: 0.9772\n",
            "Epoch 58/60\n",
            "1688/1688 [==============================] - 5s 3ms/step - loss: 0.0088 - accuracy: 0.9992 - val_loss: 0.0774 - val_accuracy: 0.9780\n",
            "Epoch 59/60\n",
            "1688/1688 [==============================] - 5s 3ms/step - loss: 0.0085 - accuracy: 0.9994 - val_loss: 0.0798 - val_accuracy: 0.9773\n",
            "Epoch 60/60\n",
            "1688/1688 [==============================] - 4s 3ms/step - loss: 0.0081 - accuracy: 0.9993 - val_loss: 0.0804 - val_accuracy: 0.9778\n"
          ]
        }
      ],
      "source": [
        "model_history = model.fit(X_train, y_train, epochs=60,\n",
        "                    validation_data=(X_valid, y_valid))"
      ]
    },
    {
      "cell_type": "code",
      "execution_count": null,
      "metadata": {
        "scrolled": false,
        "colab": {
          "base_uri": "https://localhost:8080/",
          "height": 324
        },
        "id": "ul96crJbHszV",
        "outputId": "c8a7ac14-5d4c-4859-afa5-e0b386c643a6"
      },
      "outputs": [
        {
          "output_type": "display_data",
          "data": {
            "text/plain": [
              "<Figure size 576x360 with 1 Axes>"
            ],
            "image/png": "[encoded data removed]"
          },
          "metadata": {
            "needs_background": "light"
          }
        }
      ],
      "source": [
        "import pandas as pd\n",
        "\n",
        "pd.DataFrame(model_history.history).plot(figsize=(8, 5))\n",
        "plt.grid(True)\n",
        "plt.gca().set_ylim(0, 1)\n",
        "plt.show()"
      ]
    },
    {
      "cell_type": "code",
      "execution_count": null,
      "metadata": {
        "colab": {
          "base_uri": "https://localhost:8080/"
        },
        "id": "M95JHaB4HszW",
        "outputId": "c328964b-cd38-407b-a907-b1ce633b5901"
      },
      "outputs": [
        {
          "output_type": "stream",
          "name": "stdout",
          "text": [
            "313/313 [==============================] - 1s 2ms/step - loss: 0.0738 - accuracy: 0.9794\n"
          ]
        }
      ],
      "source": [
        "test_acc = model.evaluate(X_test, y_test)"
      ]
    },
    {
      "cell_type": "code",
      "execution_count": null,
      "metadata": {
        "colab": {
          "base_uri": "https://localhost:8080/"
        },
        "id": "36JR044GHszW",
        "outputId": "b4e319a2-34d4-4821-9c4d-1f5353b540dc"
      },
      "outputs": [
        {
          "output_type": "execute_result",
          "data": {
            "text/plain": [
              "[0.07376761734485626, 0.9793999791145325]"
            ]
          },
          "metadata": {},
          "execution_count": 24
        }
      ],
      "source": [
        "test_acc"
      ]
    },
    {
      "cell_type": "code",
      "execution_count": null,
      "metadata": {
        "id": "eWQh3qD-HszW"
      },
      "outputs": [],
      "source": [
        "X_new = X_test[:3]"
      ]
    },
    {
      "cell_type": "code",
      "execution_count": null,
      "metadata": {
        "colab": {
          "base_uri": "https://localhost:8080/"
        },
        "id": "BJCT_SF7HszX",
        "outputId": "5efdabdf-8d1a-4b12-be06-8c7bc08fd5be"
      },
      "outputs": [
        {
          "output_type": "execute_result",
          "data": {
            "text/plain": [
              "array([[1.2033725e-07, 2.0798858e-09, 1.8192550e-06, 6.0515518e-05,\n",
              "        7.3647505e-10, 2.0465448e-07, 3.2177784e-13, 9.9992609e-01,\n",
              "        8.2525327e-07, 1.0329985e-05],\n",
              "       [1.9082056e-09, 5.9207019e-07, 9.9999809e-01, 1.3382626e-06,\n",
              "        1.2514826e-15, 1.6623222e-10, 7.9006375e-09, 5.7027506e-17,\n",
              "        1.3118225e-08, 8.4463321e-18],\n",
              "       [1.2612912e-06, 9.9940550e-01, 9.2520686e-06, 1.7371160e-06,\n",
              "        2.2804887e-04, 1.9224383e-06, 1.5771442e-05, 2.5364451e-04,\n",
              "        8.1697232e-05, 1.1355307e-06]], dtype=float32)"
            ]
          },
          "metadata": {},
          "execution_count": 26
        }
      ],
      "source": [
        "y_pred = model.predict(X_new)\n",
        "y_pred"
      ]
    },
    {
      "cell_type": "code",
      "execution_count": null,
      "metadata": {
        "colab": {
          "base_uri": "https://localhost:8080/",
          "height": 282
        },
        "id": "_wHkIh0YHszX",
        "outputId": "fc87f68d-d34d-4bd5-9e94-0c9f45e80bca"
      },
      "outputs": [
        {
          "output_type": "stream",
          "name": "stdout",
          "text": [
            "AxesImage(54,36;334.8x217.44)\n"
          ]
        },
        {
          "output_type": "display_data",
          "data": {
            "text/plain": [
              "<Figure size 432x288 with 1 Axes>"
            ],
            "image/png": "[encoded data removed]"
          },
          "metadata": {
            "needs_background": "light"
          }
        }
      ],
      "source": [
        "print(plt.imshow(X_test[1]))"
      ]
    }
  ],
  "metadata": {
    "kernelspec": {
      "display_name": "Python 3",
      "language": "python",
      "name": "python3"
    },
    "language_info": {
      "codemirror_mode": {
        "name": "ipython",
        "version": 3
      },
      "file_extension": ".py",
      "mimetype": "text/x-python",
      "name": "python",
      "nbconvert_exporter": "python",
      "pygments_lexer": "ipython3",
      "version": "3.8.5"
    },
    "colab": {
      "name": "1_DL_MNIST_Keras.ipynb",
      "provenance": [],
      "include_colab_link": true
    }
  },
  "nbformat": 4,
  "nbformat_minor": 0
}