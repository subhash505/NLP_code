{
  "nbformat": 4,
  "nbformat_minor": 0,
  "metadata": {
    "colab": {
      "name": "6_3_NLP_Implementing_Rule_Based_Relation_Extraction.ipynb",
      "provenance": [],
      "collapsed_sections": [],
      "include_colab_link": true
    },
    "kernelspec": {
      "name": "python3",
      "display_name": "Python 3"
    }
  },
  "cells": [
    {
      "cell_type": "markdown",
      "metadata": {
        "id": "view-in-github",
        "colab_type": "text"
      },
      "source": [
        "<a href=\"https://colab.research.google.com/github/subhash505/NLP_code/blob/main/6_3_NLP_Implementing_Rule_Based_Relation_Extraction.ipynb\" target=\"_parent\"><img src=\"https://colab.research.google.com/assets/colab-badge.svg\" alt=\"Open In Colab\"/></a>"
      ]
    },
    {
      "cell_type": "markdown",
      "metadata": {
        "id": "SMkW96mjnm38"
      },
      "source": [
        "# Rule-based Relation Extraction\n",
        "Uses a lot of hand-written patterns for extracting information from the natural language text.\n",
        "<br>\n",
        "<br>\n",
        "[Automatic Acquisition of Hyponyms from Large Text Corpora](http://people.ischool.berkeley.edu/~hearst/papers/coling92.pdf)\n",
        "<br>\n",
        "**Marti Hearst** built a set of text-patterns that can be used for extracting meaningful information from text. These patterns are known as **Hearst Patterns**. These are lexico-syntactic patterns used to recognize hyponymy. For example,\n",
        "\n",
        "![image.png](data:image/png;base64,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)\n",
        "\n",
        "Here, \"Marvel Heroes\" is a **hypernym** and \"Iron Man\", \"Captain America\", and \"Thor\" are **hyponyms**. We can formalize this pattern as “X such as Y”, where X is the hypernym, and Y is the hyponym. Some other patterns are:\n",
        "![patterns.png](https://cdn.analyticsvidhya.com/wp-content/uploads/2019/09/hearst_patterns-768x435.png)"
      ]
    },
    {
      "cell_type": "markdown",
      "metadata": {
        "id": "20YaWF1uspb5"
      },
      "source": [
        "## Using Spacy's Matcher"
      ]
    },
    {
      "cell_type": "code",
      "metadata": {
        "id": "9Z7_7DWxgfYJ"
      },
      "source": [
        "# Importing Libraries\n",
        "import spacy\n",
        "\n",
        "from spacy.matcher import Matcher \n",
        "from spacy import displacy"
      ],
      "execution_count": 1,
      "outputs": []
    },
    {
      "cell_type": "code",
      "metadata": {
        "id": "Gg3PwYn8s9F2"
      },
      "source": [
        "# load spaCy model\n",
        "nlp = spacy.load(\"en_core_web_sm\")"
      ],
      "execution_count": 2,
      "outputs": []
    },
    {
      "cell_type": "markdown",
      "metadata": {
        "id": "W97uhiBI1OoB"
      },
      "source": [
        "### Pattern 1: **X** such as **Y**"
      ]
    },
    {
      "cell_type": "code",
      "metadata": {
        "id": "RWu_NrL2tCED"
      },
      "source": [
        "# Define string\n",
        "text=\"Developed countries such as USA have a better healthcare infrastructure compared to developing countries.\"\n",
        "\n",
        "# Create spaCy object\n",
        "doc=nlp(text)"
      ],
      "execution_count": 3,
      "outputs": []
    },
    {
      "cell_type": "code",
      "metadata": {
        "id": "ulPncMbgu7_p",
        "colab": {
          "base_uri": "https://localhost:8080/"
        },
        "outputId": "6acef8c6-f87b-4c94-bea6-b64cf846faec"
      },
      "source": [
        "# Print POS tag, and dependency tags\n",
        "for token in doc:\n",
        "  print(token.text,'=>',token.pos_,'=>',token.dep_)"
      ],
      "execution_count": 4,
      "outputs": [
        {
          "output_type": "stream",
          "name": "stdout",
          "text": [
            "Developed => VERB => amod\n",
            "countries => NOUN => nsubj\n",
            "such => ADJ => amod\n",
            "as => ADP => prep\n",
            "USA => PROPN => pobj\n",
            "have => VERB => ROOT\n",
            "a => DET => det\n",
            "better => ADJ => amod\n",
            "healthcare => NOUN => compound\n",
            "infrastructure => NOUN => dobj\n",
            "compared => VERB => prep\n",
            "to => ADP => prep\n",
            "developing => VERB => amod\n",
            "countries => NOUN => pobj\n",
            ". => PUNCT => punct\n"
          ]
        }
      ]
    },
    {
      "cell_type": "markdown",
      "metadata": {
        "id": "hZ2I_sGWlLqT"
      },
      "source": [
        "Pattern: <code>NOUN + such + as + PROPN</code>"
      ]
    },
    {
      "cell_type": "code",
      "metadata": {
        "id": "JdEZrRIRv8eM"
      },
      "source": [
        "#define the pattern \n",
        "pattern = [{'POS':'NOUN'}, \n",
        "           {'LOWER': 'such'}, \n",
        "           {'LOWER': 'as'}, \n",
        "           {'POS': 'PROPN'}]"
      ],
      "execution_count": 14,
      "outputs": []
    },
    {
      "cell_type": "markdown",
      "metadata": {
        "id": "KCgv0VeDyyzW"
      },
      "source": [
        "See the complete list of attributes [here](https://spacy.io/usage/rule-based-matching#adding-patterns-attributes)"
      ]
    },
    {
      "cell_type": "code",
      "metadata": {
        "id": "bbdQWsjswMK8"
      },
      "source": [
        "# Create Matcher Object\n",
        "matcher=Matcher(nlp.vocab)"
      ],
      "execution_count": 6,
      "outputs": []
    },
    {
      "cell_type": "code",
      "metadata": {
        "id": "FjNeGdVZwhyZ"
      },
      "source": [
        "# Add the rule to matcher\n",
        "matcher.add(\"Pattern X such as Y\",patterns=[pattern])"
      ],
      "execution_count": 10,
      "outputs": []
    },
    {
      "cell_type": "code",
      "metadata": {
        "id": "SD4N0Ga-xyrW"
      },
      "source": [
        "# Running pattern on text\n",
        "matches = matcher(doc)"
      ],
      "execution_count": 11,
      "outputs": []
    },
    {
      "cell_type": "code",
      "metadata": {
        "id": "THUJWtiDx156",
        "colab": {
          "base_uri": "https://localhost:8080/"
        },
        "outputId": "1a631604-cf0a-4929-a92c-2a9933902683"
      },
      "source": [
        "matches"
      ],
      "execution_count": 12,
      "outputs": [
        {
          "output_type": "execute_result",
          "data": {
            "text/plain": [
              "[(17711623125337077988, 1, 5)]"
            ]
          },
          "metadata": {},
          "execution_count": 12
        }
      ]
    },
    {
      "cell_type": "code",
      "metadata": {
        "id": "41qnj01Rx6FX",
        "colab": {
          "base_uri": "https://localhost:8080/"
        },
        "outputId": "033ee734-22e0-4f2a-e820-b91f255a7e61"
      },
      "source": [
        "# Extracting matched string\n",
        "span=doc[matches[0][1]:matches[0][2]]\n",
        "print(span)"
      ],
      "execution_count": 13,
      "outputs": [
        {
          "output_type": "stream",
          "name": "stdout",
          "text": [
            "countries such as USA\n"
          ]
        }
      ]
    },
    {
      "cell_type": "code",
      "metadata": {
        "id": "T7UGjxTq0BNG"
      },
      "source": [
        "# Define another string\n",
        "text=\"I love eating healthy fruits such as Apple. I like supercars such as Lamborghini.\"\n",
        "\n",
        "# Create doc object\n",
        "doc=nlp(text)"
      ],
      "execution_count": 15,
      "outputs": []
    },
    {
      "cell_type": "code",
      "metadata": {
        "id": "-xBwG7UK0sD2"
      },
      "source": [
        "# Running pattern on text\n",
        "matches = matcher(doc)"
      ],
      "execution_count": 16,
      "outputs": []
    },
    {
      "cell_type": "code",
      "metadata": {
        "id": "LzPehZxu1Dgp",
        "colab": {
          "base_uri": "https://localhost:8080/"
        },
        "outputId": "e4b478d3-0bc4-417f-c5a6-b64b1910db5f"
      },
      "source": [
        "# Print extracted text\n",
        "for match in matches:\n",
        "  print(doc[match[1]:match[2]])"
      ],
      "execution_count": 17,
      "outputs": [
        {
          "output_type": "stream",
          "name": "stdout",
          "text": [
            "fruits such as Apple\n",
            "supercars such as Lamborghini\n"
          ]
        }
      ]
    },
    {
      "cell_type": "markdown",
      "metadata": {
        "id": "Bc8jDejr1Yl9"
      },
      "source": [
        "### Pattern 2: **X** and/or other **Y**"
      ]
    },
    {
      "cell_type": "code",
      "metadata": {
        "id": "FKJvzgoL1KMs"
      },
      "source": [
        "# Define the string and create Doc object\n",
        "doc=nlp(\"In this way you can disinfect your car and other vehicles.\")"
      ],
      "execution_count": 18,
      "outputs": []
    },
    {
      "cell_type": "code",
      "metadata": {
        "id": "MflDLGUL2MB3",
        "colab": {
          "base_uri": "https://localhost:8080/"
        },
        "outputId": "76c72751-5a37-4b47-87ed-c3837d3b69ba"
      },
      "source": [
        "# Print POS tag, and dependency tags\n",
        "for token in doc:\n",
        "  print(token.text,'=>',token.pos_,'=>',token.dep_)"
      ],
      "execution_count": 19,
      "outputs": [
        {
          "output_type": "stream",
          "name": "stdout",
          "text": [
            "In => ADP => prep\n",
            "this => DET => det\n",
            "way => NOUN => pobj\n",
            "you => PRON => nsubj\n",
            "can => AUX => aux\n",
            "disinfect => VERB => ROOT\n",
            "your => PRON => poss\n",
            "car => NOUN => dobj\n",
            "and => CCONJ => cc\n",
            "other => ADJ => amod\n",
            "vehicles => NOUN => conj\n",
            ". => PUNCT => punct\n"
          ]
        }
      ]
    },
    {
      "cell_type": "markdown",
      "metadata": {
        "id": "VrMKWKDyBEZd"
      },
      "source": [
        "Pattern: <code>NOUN + and + other + NOUN</code>"
      ]
    },
    {
      "cell_type": "code",
      "metadata": {
        "id": "VY3gGlQ52QSm"
      },
      "source": [
        "#Define the pattern \n",
        "pattern = [{'POS':'NOUN'}, \n",
        "           {'LOWER': 'and'},\n",
        "           {'LOWER': 'other'}, \n",
        "           {'POS': 'NOUN'}]"
      ],
      "execution_count": 20,
      "outputs": []
    },
    {
      "cell_type": "code",
      "metadata": {
        "id": "dqmgyyj72rTp"
      },
      "source": [
        "# Create Matcher Object\n",
        "matcher=Matcher(nlp.vocab)\n",
        "\n",
        "# Add the rule to matcher\n",
        "matcher.add(\"Pattern X and other Y\",[pattern])"
      ],
      "execution_count": 21,
      "outputs": []
    },
    {
      "cell_type": "code",
      "metadata": {
        "id": "tKnOXUWS27vz",
        "colab": {
          "base_uri": "https://localhost:8080/"
        },
        "outputId": "b48d8620-edde-49f6-edf3-0cf240b71d66"
      },
      "source": [
        "# Running pattern on text\n",
        "matches = matcher(doc)\n",
        "\n",
        "# Print extracted text\n",
        "for match in matches:\n",
        "  print(doc[match[1]:match[2]])"
      ],
      "execution_count": 22,
      "outputs": [
        {
          "output_type": "stream",
          "name": "stdout",
          "text": [
            "car and other vehicles\n"
          ]
        }
      ]
    },
    {
      "cell_type": "code",
      "metadata": {
        "id": "_IpFRrnj3JSe"
      },
      "source": [
        "# Define another string and create doc object\n",
        "doc=nlp(\"Here is how to keep your TV or other electronics clean.\")\n",
        "\n",
        "# Running pattern on text\n",
        "matches = matcher(doc)\n",
        "\n",
        "# Print extracted text\n",
        "for match in matches:\n",
        "  print(doc[match[1]:match[2]])"
      ],
      "execution_count": 23,
      "outputs": []
    },
    {
      "cell_type": "code",
      "metadata": {
        "id": "9DtivqCq4NE1",
        "colab": {
          "base_uri": "https://localhost:8080/"
        },
        "outputId": "ea601d8c-dde1-498f-caaa-13fe7926f5c9"
      },
      "source": [
        "# Print POS tag, and dependency tags\n",
        "for token in doc:\n",
        "  print(token.text,'=>',token.pos_,'=>',token.dep_)"
      ],
      "execution_count": 24,
      "outputs": [
        {
          "output_type": "stream",
          "name": "stdout",
          "text": [
            "Here => ADV => advmod\n",
            "is => AUX => ROOT\n",
            "how => SCONJ => advmod\n",
            "to => PART => aux\n",
            "keep => VERB => xcomp\n",
            "your => PRON => poss\n",
            "TV => NOUN => dobj\n",
            "or => CCONJ => cc\n",
            "other => ADJ => amod\n",
            "electronics => NOUN => compound\n",
            "clean => ADJ => conj\n",
            ". => PUNCT => punct\n"
          ]
        }
      ]
    },
    {
      "cell_type": "markdown",
      "metadata": {
        "id": "aBOHzsrn_OjP"
      },
      "source": [
        "**Quantifiers:**\n",
        "- **!** - Negation\n",
        "- **?** - Optional\n",
        "- **+** - 1 or more\n",
        "- **\\*** - 0 or more"
      ]
    },
    {
      "cell_type": "markdown",
      "metadata": {
        "id": "RcRj7LETBOTV"
      },
      "source": [
        "Pattern: <code>NOUN + and/or + other + NOUN</code>"
      ]
    },
    {
      "cell_type": "code",
      "metadata": {
        "id": "IRO9dcMu4QTk"
      },
      "source": [
        "#Define the pattern \n",
        "pattern = [{'POS':'NOUN'}, \n",
        "           {'LOWER': 'and','OP':'?'},\n",
        "           {'LOWER':'or','OP':'?'},\n",
        "           {'LOWER': 'other'}, \n",
        "           {'POS': 'NOUN'}]"
      ],
      "execution_count": 25,
      "outputs": []
    },
    {
      "cell_type": "code",
      "metadata": {
        "id": "ld4Ubydg5hmK"
      },
      "source": [
        "# Create Matcher Object\n",
        "matcher=Matcher(nlp.vocab)\n",
        "\n",
        "# Add the rule to matcher\n",
        "matcher.add(\"Pattern X and/or Y\",[pattern])"
      ],
      "execution_count": 27,
      "outputs": []
    },
    {
      "cell_type": "code",
      "metadata": {
        "id": "lUPwW-YY6ExN",
        "colab": {
          "base_uri": "https://localhost:8080/"
        },
        "outputId": "e1f2bae2-abf7-465c-943e-3ef69058ecb4"
      },
      "source": [
        "# Running pattern on text\n",
        "matches = matcher(doc)\n",
        "\n",
        "# Print extracted text\n",
        "for match in matches:\n",
        "  print(doc[match[1]:match[2]])"
      ],
      "execution_count": 28,
      "outputs": [
        {
          "output_type": "stream",
          "name": "stdout",
          "text": [
            "TV or other electronics\n"
          ]
        }
      ]
    },
    {
      "cell_type": "markdown",
      "metadata": {
        "id": "zU-T27nmASy1"
      },
      "source": [
        "#### Drawbacks:\n",
        "- Hides implementation details\n",
        "- Doesn't work on patterns in which words do not immediately follow each other. E.g.,\n",
        "<br>\n",
        "<code>Subject + Auxiliary + Verb + ... + Object</code>"
      ]
    },
    {
      "cell_type": "markdown",
      "metadata": {
        "id": "uRsgHUR_9Kpq"
      },
      "source": [
        "## Using Custom Functions"
      ]
    },
    {
      "cell_type": "markdown",
      "metadata": {
        "id": "fkL1cLXW9QIc"
      },
      "source": [
        "### Pattern 3: <code>X going Y</code>"
      ]
    },
    {
      "cell_type": "code",
      "metadata": {
        "id": "wLqvODgv7bYB"
      },
      "source": [
        "# Define the string and create doc object\n",
        "doc=nlp(\"John is going to Berlin.\")"
      ],
      "execution_count": 29,
      "outputs": []
    },
    {
      "cell_type": "code",
      "metadata": {
        "id": "EX6qfPbUCVoS",
        "colab": {
          "base_uri": "https://localhost:8080/",
          "height": 353
        },
        "outputId": "f0124945-f703-4f7e-ccc1-57ac3bc37dfc"
      },
      "source": [
        "# Visualizing dependency tree\n",
        "displacy.render(doc,style='dep',jupyter=True)"
      ],
      "execution_count": 30,
      "outputs": [
        {
          "output_type": "display_data",
          "data": {
            "text/plain": [
              "<IPython.core.display.HTML object>"
            ],
            "text/html": [
              "<span class=\"tex2jax_ignore\"><svg xmlns=\"http://www.w3.org/2000/svg\" xmlns:xlink=\"http://www.w3.org/1999/xlink\" xml:lang=\"en\" id=\"791fb1e0aa1743b2a30f6c33ee67a89c-0\" class=\"displacy\" width=\"925\" height=\"312.0\" direction=\"ltr\" style=\"max-width: none; height: 312.0px; color: #000000; background: #ffffff; font-family: Arial; direction: ltr\">\n",
              "<text class=\"displacy-token\" fill=\"currentColor\" text-anchor=\"middle\" y=\"222.0\">\n",
              "    <tspan class=\"displacy-word\" fill=\"currentColor\" x=\"50\">John</tspan>\n",
              "    <tspan class=\"displacy-tag\" dy=\"2em\" fill=\"currentColor\" x=\"50\">PROPN</tspan>\n",
              "</text>\n",
              "\n",
              "<text class=\"displacy-token\" fill=\"currentColor\" text-anchor=\"middle\" y=\"222.0\">\n",
              "    <tspan class=\"displacy-word\" fill=\"currentColor\" x=\"225\">is</tspan>\n",
              "    <tspan class=\"displacy-tag\" dy=\"2em\" fill=\"currentColor\" x=\"225\">AUX</tspan>\n",
              "</text>\n",
              "\n",
              "<text class=\"displacy-token\" fill=\"currentColor\" text-anchor=\"middle\" y=\"222.0\">\n",
              "    <tspan class=\"displacy-word\" fill=\"currentColor\" x=\"400\">going</tspan>\n",
              "    <tspan class=\"displacy-tag\" dy=\"2em\" fill=\"currentColor\" x=\"400\">VERB</tspan>\n",
              "</text>\n",
              "\n",
              "<text class=\"displacy-token\" fill=\"currentColor\" text-anchor=\"middle\" y=\"222.0\">\n",
              "    <tspan class=\"displacy-word\" fill=\"currentColor\" x=\"575\">to</tspan>\n",
              "    <tspan class=\"displacy-tag\" dy=\"2em\" fill=\"currentColor\" x=\"575\">ADP</tspan>\n",
              "</text>\n",
              "\n",
              "<text class=\"displacy-token\" fill=\"currentColor\" text-anchor=\"middle\" y=\"222.0\">\n",
              "    <tspan class=\"displacy-word\" fill=\"currentColor\" x=\"750\">Berlin.</tspan>\n",
              "    <tspan class=\"displacy-tag\" dy=\"2em\" fill=\"currentColor\" x=\"750\">PROPN</tspan>\n",
              "</text>\n",
              "\n",
              "<g class=\"displacy-arrow\">\n",
              "    <path class=\"displacy-arc\" id=\"arrow-791fb1e0aa1743b2a30f6c33ee67a89c-0-0\" stroke-width=\"2px\" d=\"M70,177.0 C70,2.0 400.0,2.0 400.0,177.0\" fill=\"none\" stroke=\"currentColor\"/>\n",
              "    <text dy=\"1.25em\" style=\"font-size: 0.8em; letter-spacing: 1px\">\n",
              "        <textPath xlink:href=\"#arrow-791fb1e0aa1743b2a30f6c33ee67a89c-0-0\" class=\"displacy-label\" startOffset=\"50%\" side=\"left\" fill=\"currentColor\" text-anchor=\"middle\">nsubj</textPath>\n",
              "    </text>\n",
              "    <path class=\"displacy-arrowhead\" d=\"M70,179.0 L62,167.0 78,167.0\" fill=\"currentColor\"/>\n",
              "</g>\n",
              "\n",
              "<g class=\"displacy-arrow\">\n",
              "    <path class=\"displacy-arc\" id=\"arrow-791fb1e0aa1743b2a30f6c33ee67a89c-0-1\" stroke-width=\"2px\" d=\"M245,177.0 C245,89.5 395.0,89.5 395.0,177.0\" fill=\"none\" stroke=\"currentColor\"/>\n",
              "    <text dy=\"1.25em\" style=\"font-size: 0.8em; letter-spacing: 1px\">\n",
              "        <textPath xlink:href=\"#arrow-791fb1e0aa1743b2a30f6c33ee67a89c-0-1\" class=\"displacy-label\" startOffset=\"50%\" side=\"left\" fill=\"currentColor\" text-anchor=\"middle\">aux</textPath>\n",
              "    </text>\n",
              "    <path class=\"displacy-arrowhead\" d=\"M245,179.0 L237,167.0 253,167.0\" fill=\"currentColor\"/>\n",
              "</g>\n",
              "\n",
              "<g class=\"displacy-arrow\">\n",
              "    <path class=\"displacy-arc\" id=\"arrow-791fb1e0aa1743b2a30f6c33ee67a89c-0-2\" stroke-width=\"2px\" d=\"M420,177.0 C420,89.5 570.0,89.5 570.0,177.0\" fill=\"none\" stroke=\"currentColor\"/>\n",
              "    <text dy=\"1.25em\" style=\"font-size: 0.8em; letter-spacing: 1px\">\n",
              "        <textPath xlink:href=\"#arrow-791fb1e0aa1743b2a30f6c33ee67a89c-0-2\" class=\"displacy-label\" startOffset=\"50%\" side=\"left\" fill=\"currentColor\" text-anchor=\"middle\">prep</textPath>\n",
              "    </text>\n",
              "    <path class=\"displacy-arrowhead\" d=\"M570.0,179.0 L578.0,167.0 562.0,167.0\" fill=\"currentColor\"/>\n",
              "</g>\n",
              "\n",
              "<g class=\"displacy-arrow\">\n",
              "    <path class=\"displacy-arc\" id=\"arrow-791fb1e0aa1743b2a30f6c33ee67a89c-0-3\" stroke-width=\"2px\" d=\"M595,177.0 C595,89.5 745.0,89.5 745.0,177.0\" fill=\"none\" stroke=\"currentColor\"/>\n",
              "    <text dy=\"1.25em\" style=\"font-size: 0.8em; letter-spacing: 1px\">\n",
              "        <textPath xlink:href=\"#arrow-791fb1e0aa1743b2a30f6c33ee67a89c-0-3\" class=\"displacy-label\" startOffset=\"50%\" side=\"left\" fill=\"currentColor\" text-anchor=\"middle\">pobj</textPath>\n",
              "    </text>\n",
              "    <path class=\"displacy-arrowhead\" d=\"M745.0,179.0 L753.0,167.0 737.0,167.0\" fill=\"currentColor\"/>\n",
              "</g>\n",
              "</svg></span>"
            ]
          },
          "metadata": {}
        }
      ]
    },
    {
      "cell_type": "code",
      "metadata": {
        "id": "PuReoOC_E1ey"
      },
      "source": [
        "# Function for extracting the relation\n",
        "def x_going_y(doc):\n",
        "  # Proceed if at least 3 words are present\n",
        "  if len(doc)>=3:\n",
        "    matches=[]\n",
        "\n",
        "    for i in range(len(doc)):\n",
        "      x=''\n",
        "      y=''\n",
        "      \n",
        "      # Checking if the root word is going\n",
        "      if ((doc[i].dep_=='ROOT') and (doc[i].text=='going')):\n",
        "        # Accessing subtree\n",
        "        for token in doc[i].subtree:\n",
        "          # Checking if token is subject\n",
        "          if token.dep_.startswith('nsubj'):\n",
        "            x=token.text\n",
        "          # Checking if token is object\n",
        "          if token.dep_.endswith('obj'):\n",
        "            y=token.text\n",
        "        # Appending the triple into list\n",
        "        matches.append((x,doc[i].text,y))\n",
        "    return matches\n",
        "  return []"
      ],
      "execution_count": 36,
      "outputs": []
    },
    {
      "cell_type": "code",
      "metadata": {
        "id": "6m99y1z7Lhng",
        "colab": {
          "base_uri": "https://localhost:8080/"
        },
        "outputId": "62701edd-2a2a-485a-8ce1-4768745248ba"
      },
      "source": [
        "# Running function on text\n",
        "x_going_y(doc)"
      ],
      "execution_count": 32,
      "outputs": [
        {
          "output_type": "execute_result",
          "data": {
            "text/plain": [
              "[('John', 'going', 'Berlin')]"
            ]
          },
          "metadata": {},
          "execution_count": 32
        }
      ]
    },
    {
      "cell_type": "code",
      "metadata": {
        "id": "KkC5Qo7yUBEm",
        "colab": {
          "base_uri": "https://localhost:8080/",
          "height": 458
        },
        "outputId": "20120690-0c46-4c73-f1b3-b03a9fb66f34"
      },
      "source": [
        "displacy.render(nlp('Sam was going on vacation to Mumbai. But, the train was going to Goa.'),style='dep',jupyter=True)\n",
        "x_going_y(nlp('Sam was going on vacation to Mumbai. But, the train was going to Goa.'))"
      ],
      "execution_count": 39,
      "outputs": [
        {
          "output_type": "display_data",
          "data": {
            "text/plain": [
              "<IPython.core.display.HTML object>"
            ],
            "text/html": [
              "<span class=\"tex2jax_ignore\"><svg xmlns=\"http://www.w3.org/2000/svg\" xmlns:xlink=\"http://www.w3.org/1999/xlink\" xml:lang=\"en\" id=\"5c5b9b81f6004f0880d210fad17a0513-0\" class=\"displacy\" width=\"2500\" height=\"399.5\" direction=\"ltr\" style=\"max-width: none; height: 399.5px; color: #000000; background: #ffffff; font-family: Arial; direction: ltr\">\n",
              "<text class=\"displacy-token\" fill=\"currentColor\" text-anchor=\"middle\" y=\"309.5\">\n",
              "    <tspan class=\"displacy-word\" fill=\"currentColor\" x=\"50\">Sam</tspan>\n",
              "    <tspan class=\"displacy-tag\" dy=\"2em\" fill=\"currentColor\" x=\"50\">PROPN</tspan>\n",
              "</text>\n",
              "\n",
              "<text class=\"displacy-token\" fill=\"currentColor\" text-anchor=\"middle\" y=\"309.5\">\n",
              "    <tspan class=\"displacy-word\" fill=\"currentColor\" x=\"225\">was</tspan>\n",
              "    <tspan class=\"displacy-tag\" dy=\"2em\" fill=\"currentColor\" x=\"225\">AUX</tspan>\n",
              "</text>\n",
              "\n",
              "<text class=\"displacy-token\" fill=\"currentColor\" text-anchor=\"middle\" y=\"309.5\">\n",
              "    <tspan class=\"displacy-word\" fill=\"currentColor\" x=\"400\">going</tspan>\n",
              "    <tspan class=\"displacy-tag\" dy=\"2em\" fill=\"currentColor\" x=\"400\">VERB</tspan>\n",
              "</text>\n",
              "\n",
              "<text class=\"displacy-token\" fill=\"currentColor\" text-anchor=\"middle\" y=\"309.5\">\n",
              "    <tspan class=\"displacy-word\" fill=\"currentColor\" x=\"575\">on</tspan>\n",
              "    <tspan class=\"displacy-tag\" dy=\"2em\" fill=\"currentColor\" x=\"575\">ADP</tspan>\n",
              "</text>\n",
              "\n",
              "<text class=\"displacy-token\" fill=\"currentColor\" text-anchor=\"middle\" y=\"309.5\">\n",
              "    <tspan class=\"displacy-word\" fill=\"currentColor\" x=\"750\">vacation</tspan>\n",
              "    <tspan class=\"displacy-tag\" dy=\"2em\" fill=\"currentColor\" x=\"750\">NOUN</tspan>\n",
              "</text>\n",
              "\n",
              "<text class=\"displacy-token\" fill=\"currentColor\" text-anchor=\"middle\" y=\"309.5\">\n",
              "    <tspan class=\"displacy-word\" fill=\"currentColor\" x=\"925\">to</tspan>\n",
              "    <tspan class=\"displacy-tag\" dy=\"2em\" fill=\"currentColor\" x=\"925\">ADP</tspan>\n",
              "</text>\n",
              "\n",
              "<text class=\"displacy-token\" fill=\"currentColor\" text-anchor=\"middle\" y=\"309.5\">\n",
              "    <tspan class=\"displacy-word\" fill=\"currentColor\" x=\"1100\">Mumbai.</tspan>\n",
              "    <tspan class=\"displacy-tag\" dy=\"2em\" fill=\"currentColor\" x=\"1100\">PROPN</tspan>\n",
              "</text>\n",
              "\n",
              "<text class=\"displacy-token\" fill=\"currentColor\" text-anchor=\"middle\" y=\"309.5\">\n",
              "    <tspan class=\"displacy-word\" fill=\"currentColor\" x=\"1275\">But,</tspan>\n",
              "    <tspan class=\"displacy-tag\" dy=\"2em\" fill=\"currentColor\" x=\"1275\">CCONJ</tspan>\n",
              "</text>\n",
              "\n",
              "<text class=\"displacy-token\" fill=\"currentColor\" text-anchor=\"middle\" y=\"309.5\">\n",
              "    <tspan class=\"displacy-word\" fill=\"currentColor\" x=\"1450\">the</tspan>\n",
              "    <tspan class=\"displacy-tag\" dy=\"2em\" fill=\"currentColor\" x=\"1450\">DET</tspan>\n",
              "</text>\n",
              "\n",
              "<text class=\"displacy-token\" fill=\"currentColor\" text-anchor=\"middle\" y=\"309.5\">\n",
              "    <tspan class=\"displacy-word\" fill=\"currentColor\" x=\"1625\">train</tspan>\n",
              "    <tspan class=\"displacy-tag\" dy=\"2em\" fill=\"currentColor\" x=\"1625\">NOUN</tspan>\n",
              "</text>\n",
              "\n",
              "<text class=\"displacy-token\" fill=\"currentColor\" text-anchor=\"middle\" y=\"309.5\">\n",
              "    <tspan class=\"displacy-word\" fill=\"currentColor\" x=\"1800\">was</tspan>\n",
              "    <tspan class=\"displacy-tag\" dy=\"2em\" fill=\"currentColor\" x=\"1800\">AUX</tspan>\n",
              "</text>\n",
              "\n",
              "<text class=\"displacy-token\" fill=\"currentColor\" text-anchor=\"middle\" y=\"309.5\">\n",
              "    <tspan class=\"displacy-word\" fill=\"currentColor\" x=\"1975\">going</tspan>\n",
              "    <tspan class=\"displacy-tag\" dy=\"2em\" fill=\"currentColor\" x=\"1975\">VERB</tspan>\n",
              "</text>\n",
              "\n",
              "<text class=\"displacy-token\" fill=\"currentColor\" text-anchor=\"middle\" y=\"309.5\">\n",
              "    <tspan class=\"displacy-word\" fill=\"currentColor\" x=\"2150\">to</tspan>\n",
              "    <tspan class=\"displacy-tag\" dy=\"2em\" fill=\"currentColor\" x=\"2150\">PART</tspan>\n",
              "</text>\n",
              "\n",
              "<text class=\"displacy-token\" fill=\"currentColor\" text-anchor=\"middle\" y=\"309.5\">\n",
              "    <tspan class=\"displacy-word\" fill=\"currentColor\" x=\"2325\">Goa.</tspan>\n",
              "    <tspan class=\"displacy-tag\" dy=\"2em\" fill=\"currentColor\" x=\"2325\">PROPN</tspan>\n",
              "</text>\n",
              "\n",
              "<g class=\"displacy-arrow\">\n",
              "    <path class=\"displacy-arc\" id=\"arrow-5c5b9b81f6004f0880d210fad17a0513-0-0\" stroke-width=\"2px\" d=\"M70,264.5 C70,89.5 395.0,89.5 395.0,264.5\" fill=\"none\" stroke=\"currentColor\"/>\n",
              "    <text dy=\"1.25em\" style=\"font-size: 0.8em; letter-spacing: 1px\">\n",
              "        <textPath xlink:href=\"#arrow-5c5b9b81f6004f0880d210fad17a0513-0-0\" class=\"displacy-label\" startOffset=\"50%\" side=\"left\" fill=\"currentColor\" text-anchor=\"middle\">nsubj</textPath>\n",
              "    </text>\n",
              "    <path class=\"displacy-arrowhead\" d=\"M70,266.5 L62,254.5 78,254.5\" fill=\"currentColor\"/>\n",
              "</g>\n",
              "\n",
              "<g class=\"displacy-arrow\">\n",
              "    <path class=\"displacy-arc\" id=\"arrow-5c5b9b81f6004f0880d210fad17a0513-0-1\" stroke-width=\"2px\" d=\"M245,264.5 C245,177.0 390.0,177.0 390.0,264.5\" fill=\"none\" stroke=\"currentColor\"/>\n",
              "    <text dy=\"1.25em\" style=\"font-size: 0.8em; letter-spacing: 1px\">\n",
              "        <textPath xlink:href=\"#arrow-5c5b9b81f6004f0880d210fad17a0513-0-1\" class=\"displacy-label\" startOffset=\"50%\" side=\"left\" fill=\"currentColor\" text-anchor=\"middle\">aux</textPath>\n",
              "    </text>\n",
              "    <path class=\"displacy-arrowhead\" d=\"M245,266.5 L237,254.5 253,254.5\" fill=\"currentColor\"/>\n",
              "</g>\n",
              "\n",
              "<g class=\"displacy-arrow\">\n",
              "    <path class=\"displacy-arc\" id=\"arrow-5c5b9b81f6004f0880d210fad17a0513-0-2\" stroke-width=\"2px\" d=\"M420,264.5 C420,177.0 565.0,177.0 565.0,264.5\" fill=\"none\" stroke=\"currentColor\"/>\n",
              "    <text dy=\"1.25em\" style=\"font-size: 0.8em; letter-spacing: 1px\">\n",
              "        <textPath xlink:href=\"#arrow-5c5b9b81f6004f0880d210fad17a0513-0-2\" class=\"displacy-label\" startOffset=\"50%\" side=\"left\" fill=\"currentColor\" text-anchor=\"middle\">prep</textPath>\n",
              "    </text>\n",
              "    <path class=\"displacy-arrowhead\" d=\"M565.0,266.5 L573.0,254.5 557.0,254.5\" fill=\"currentColor\"/>\n",
              "</g>\n",
              "\n",
              "<g class=\"displacy-arrow\">\n",
              "    <path class=\"displacy-arc\" id=\"arrow-5c5b9b81f6004f0880d210fad17a0513-0-3\" stroke-width=\"2px\" d=\"M595,264.5 C595,177.0 740.0,177.0 740.0,264.5\" fill=\"none\" stroke=\"currentColor\"/>\n",
              "    <text dy=\"1.25em\" style=\"font-size: 0.8em; letter-spacing: 1px\">\n",
              "        <textPath xlink:href=\"#arrow-5c5b9b81f6004f0880d210fad17a0513-0-3\" class=\"displacy-label\" startOffset=\"50%\" side=\"left\" fill=\"currentColor\" text-anchor=\"middle\">pobj</textPath>\n",
              "    </text>\n",
              "    <path class=\"displacy-arrowhead\" d=\"M740.0,266.5 L748.0,254.5 732.0,254.5\" fill=\"currentColor\"/>\n",
              "</g>\n",
              "\n",
              "<g class=\"displacy-arrow\">\n",
              "    <path class=\"displacy-arc\" id=\"arrow-5c5b9b81f6004f0880d210fad17a0513-0-4\" stroke-width=\"2px\" d=\"M770,264.5 C770,177.0 915.0,177.0 915.0,264.5\" fill=\"none\" stroke=\"currentColor\"/>\n",
              "    <text dy=\"1.25em\" style=\"font-size: 0.8em; letter-spacing: 1px\">\n",
              "        <textPath xlink:href=\"#arrow-5c5b9b81f6004f0880d210fad17a0513-0-4\" class=\"displacy-label\" startOffset=\"50%\" side=\"left\" fill=\"currentColor\" text-anchor=\"middle\">prep</textPath>\n",
              "    </text>\n",
              "    <path class=\"displacy-arrowhead\" d=\"M915.0,266.5 L923.0,254.5 907.0,254.5\" fill=\"currentColor\"/>\n",
              "</g>\n",
              "\n",
              "<g class=\"displacy-arrow\">\n",
              "    <path class=\"displacy-arc\" id=\"arrow-5c5b9b81f6004f0880d210fad17a0513-0-5\" stroke-width=\"2px\" d=\"M945,264.5 C945,177.0 1090.0,177.0 1090.0,264.5\" fill=\"none\" stroke=\"currentColor\"/>\n",
              "    <text dy=\"1.25em\" style=\"font-size: 0.8em; letter-spacing: 1px\">\n",
              "        <textPath xlink:href=\"#arrow-5c5b9b81f6004f0880d210fad17a0513-0-5\" class=\"displacy-label\" startOffset=\"50%\" side=\"left\" fill=\"currentColor\" text-anchor=\"middle\">pobj</textPath>\n",
              "    </text>\n",
              "    <path class=\"displacy-arrowhead\" d=\"M1090.0,266.5 L1098.0,254.5 1082.0,254.5\" fill=\"currentColor\"/>\n",
              "</g>\n",
              "\n",
              "<g class=\"displacy-arrow\">\n",
              "    <path class=\"displacy-arc\" id=\"arrow-5c5b9b81f6004f0880d210fad17a0513-0-6\" stroke-width=\"2px\" d=\"M1295,264.5 C1295,2.0 1975.0,2.0 1975.0,264.5\" fill=\"none\" stroke=\"currentColor\"/>\n",
              "    <text dy=\"1.25em\" style=\"font-size: 0.8em; letter-spacing: 1px\">\n",
              "        <textPath xlink:href=\"#arrow-5c5b9b81f6004f0880d210fad17a0513-0-6\" class=\"displacy-label\" startOffset=\"50%\" side=\"left\" fill=\"currentColor\" text-anchor=\"middle\">cc</textPath>\n",
              "    </text>\n",
              "    <path class=\"displacy-arrowhead\" d=\"M1295,266.5 L1287,254.5 1303,254.5\" fill=\"currentColor\"/>\n",
              "</g>\n",
              "\n",
              "<g class=\"displacy-arrow\">\n",
              "    <path class=\"displacy-arc\" id=\"arrow-5c5b9b81f6004f0880d210fad17a0513-0-7\" stroke-width=\"2px\" d=\"M1470,264.5 C1470,177.0 1615.0,177.0 1615.0,264.5\" fill=\"none\" stroke=\"currentColor\"/>\n",
              "    <text dy=\"1.25em\" style=\"font-size: 0.8em; letter-spacing: 1px\">\n",
              "        <textPath xlink:href=\"#arrow-5c5b9b81f6004f0880d210fad17a0513-0-7\" class=\"displacy-label\" startOffset=\"50%\" side=\"left\" fill=\"currentColor\" text-anchor=\"middle\">det</textPath>\n",
              "    </text>\n",
              "    <path class=\"displacy-arrowhead\" d=\"M1470,266.5 L1462,254.5 1478,254.5\" fill=\"currentColor\"/>\n",
              "</g>\n",
              "\n",
              "<g class=\"displacy-arrow\">\n",
              "    <path class=\"displacy-arc\" id=\"arrow-5c5b9b81f6004f0880d210fad17a0513-0-8\" stroke-width=\"2px\" d=\"M1645,264.5 C1645,89.5 1970.0,89.5 1970.0,264.5\" fill=\"none\" stroke=\"currentColor\"/>\n",
              "    <text dy=\"1.25em\" style=\"font-size: 0.8em; letter-spacing: 1px\">\n",
              "        <textPath xlink:href=\"#arrow-5c5b9b81f6004f0880d210fad17a0513-0-8\" class=\"displacy-label\" startOffset=\"50%\" side=\"left\" fill=\"currentColor\" text-anchor=\"middle\">nsubj</textPath>\n",
              "    </text>\n",
              "    <path class=\"displacy-arrowhead\" d=\"M1645,266.5 L1637,254.5 1653,254.5\" fill=\"currentColor\"/>\n",
              "</g>\n",
              "\n",
              "<g class=\"displacy-arrow\">\n",
              "    <path class=\"displacy-arc\" id=\"arrow-5c5b9b81f6004f0880d210fad17a0513-0-9\" stroke-width=\"2px\" d=\"M1820,264.5 C1820,177.0 1965.0,177.0 1965.0,264.5\" fill=\"none\" stroke=\"currentColor\"/>\n",
              "    <text dy=\"1.25em\" style=\"font-size: 0.8em; letter-spacing: 1px\">\n",
              "        <textPath xlink:href=\"#arrow-5c5b9b81f6004f0880d210fad17a0513-0-9\" class=\"displacy-label\" startOffset=\"50%\" side=\"left\" fill=\"currentColor\" text-anchor=\"middle\">aux</textPath>\n",
              "    </text>\n",
              "    <path class=\"displacy-arrowhead\" d=\"M1820,266.5 L1812,254.5 1828,254.5\" fill=\"currentColor\"/>\n",
              "</g>\n",
              "\n",
              "<g class=\"displacy-arrow\">\n",
              "    <path class=\"displacy-arc\" id=\"arrow-5c5b9b81f6004f0880d210fad17a0513-0-10\" stroke-width=\"2px\" d=\"M1995,264.5 C1995,177.0 2140.0,177.0 2140.0,264.5\" fill=\"none\" stroke=\"currentColor\"/>\n",
              "    <text dy=\"1.25em\" style=\"font-size: 0.8em; letter-spacing: 1px\">\n",
              "        <textPath xlink:href=\"#arrow-5c5b9b81f6004f0880d210fad17a0513-0-10\" class=\"displacy-label\" startOffset=\"50%\" side=\"left\" fill=\"currentColor\" text-anchor=\"middle\">prep</textPath>\n",
              "    </text>\n",
              "    <path class=\"displacy-arrowhead\" d=\"M2140.0,266.5 L2148.0,254.5 2132.0,254.5\" fill=\"currentColor\"/>\n",
              "</g>\n",
              "\n",
              "<g class=\"displacy-arrow\">\n",
              "    <path class=\"displacy-arc\" id=\"arrow-5c5b9b81f6004f0880d210fad17a0513-0-11\" stroke-width=\"2px\" d=\"M2170,264.5 C2170,177.0 2315.0,177.0 2315.0,264.5\" fill=\"none\" stroke=\"currentColor\"/>\n",
              "    <text dy=\"1.25em\" style=\"font-size: 0.8em; letter-spacing: 1px\">\n",
              "        <textPath xlink:href=\"#arrow-5c5b9b81f6004f0880d210fad17a0513-0-11\" class=\"displacy-label\" startOffset=\"50%\" side=\"left\" fill=\"currentColor\" text-anchor=\"middle\">pobj</textPath>\n",
              "    </text>\n",
              "    <path class=\"displacy-arrowhead\" d=\"M2315.0,266.5 L2323.0,254.5 2307.0,254.5\" fill=\"currentColor\"/>\n",
              "</g>\n",
              "</svg></span>"
            ]
          },
          "metadata": {}
        },
        {
          "output_type": "execute_result",
          "data": {
            "text/plain": [
              "[('Sam', 'going', 'Mumbai'), ('train', 'going', 'Goa')]"
            ]
          },
          "metadata": {},
          "execution_count": 39
        }
      ]
    },
    {
      "cell_type": "code",
      "metadata": {
        "id": "p6dRDaiSRlF7"
      },
      "source": [
        "# Function for extracting the relation\n",
        "def x_going_y(doc):\n",
        "  # Proceed if at least 3 words are present\n",
        "  if len(doc)>=3:\n",
        "    matches=[]\n",
        "\n",
        "    for i in range(len(doc)):\n",
        "      x=''\n",
        "      y=''\n",
        "      \n",
        "      # Checking if the root word is going\n",
        "      if ((doc[i].dep_=='ROOT') and (doc[i].pos_=='VERB')):\n",
        "        # Accessing subtree\n",
        "        for token in doc[i].subtree:\n",
        "          # Checking if token is subject\n",
        "          if token.dep_.startswith('nsubj'):\n",
        "            x=token.text\n",
        "          # Checking if token is object\n",
        "          if token.dep_.endswith('obj'):\n",
        "            y=token.text\n",
        "        # Appending the triple into list\n",
        "        matches.append((x,doc[i].text,y))\n",
        "    return matches\n",
        "  return []"
      ],
      "execution_count": 45,
      "outputs": []
    },
    {
      "cell_type": "code",
      "source": [
        "x_going_y(doc)"
      ],
      "metadata": {
        "id": "V7hmqFc8AW1W",
        "outputId": "36a4300c-7512-47d7-94d9-3683b7cb6308",
        "colab": {
          "base_uri": "https://localhost:8080/"
        }
      },
      "execution_count": 46,
      "outputs": [
        {
          "output_type": "execute_result",
          "data": {
            "text/plain": [
              "[('John', 'going', 'Berlin')]"
            ]
          },
          "metadata": {},
          "execution_count": 46
        }
      ]
    },
    {
      "cell_type": "code",
      "source": [
        "x_going_y(nlp('Sam was going on vacation to Mumbai. But, the train was going to Goa.'))"
      ],
      "metadata": {
        "id": "pHEAV9JKAZ5O",
        "outputId": "bec0be17-2340-4584-f8f2-8fda7047cbfd",
        "colab": {
          "base_uri": "https://localhost:8080/"
        }
      },
      "execution_count": 52,
      "outputs": [
        {
          "output_type": "execute_result",
          "data": {
            "text/plain": [
              "[('Sam', 'going', 'Mumbai'), ('train', 'going', '')]"
            ]
          },
          "metadata": {},
          "execution_count": 52
        }
      ]
    },
    {
      "cell_type": "code",
      "source": [
        "x_going_y(nlp('ram eats mango'))"
      ],
      "metadata": {
        "id": "syy0vd8bAjzO",
        "outputId": "1072c552-dbd9-47bc-fe25-b4a485bc8c39",
        "colab": {
          "base_uri": "https://localhost:8080/"
        }
      },
      "execution_count": 55,
      "outputs": [
        {
          "output_type": "execute_result",
          "data": {
            "text/plain": [
              "[('ram', 'eats', 'mango')]"
            ]
          },
          "metadata": {},
          "execution_count": 55
        }
      ]
    },
    {
      "cell_type": "code",
      "source": [
        ""
      ],
      "metadata": {
        "id": "V4NdotmoBnbU"
      },
      "execution_count": null,
      "outputs": []
    }
  ]
}