{
  "nbformat": 4,
  "nbformat_minor": 0,
  "metadata": {
    "colab": {
      "name": "heading1.ipynb",
      "provenance": [],
      "collapsed_sections": [],
      "include_colab_link": true
    },
    "kernelspec": {
      "name": "python3",
      "display_name": "Python 3"
    }
  },
  "cells": [
    {
      "cell_type": "markdown",
      "metadata": {
        "id": "view-in-github",
        "colab_type": "text"
      },
      "source": [
        "<a href=\"https://colab.research.google.com/github/subhash505/NLP_code/blob/main/heading1.ipynb\" target=\"_parent\"><img src=\"https://colab.research.google.com/assets/colab-badge.svg\" alt=\"Open In Colab\"/></a>"
      ]
    },
    {
      "cell_type": "code",
      "metadata": {
        "id": "EnG4ZVlOTX26",
        "colab": {
          "base_uri": "https://localhost:8080/"
        },
        "outputId": "264ffc0b-3efe-4910-b5f4-fafe130956bf"
      },
      "source": [
        "import nltk\n",
        "nltk.download('stopwords')\n",
        "nltk.download('punkt')"
      ],
      "execution_count": null,
      "outputs": [
        {
          "output_type": "stream",
          "name": "stderr",
          "text": [
            "[nltk_data] Downloading package stopwords to /root/nltk_data...\n",
            "[nltk_data]   Unzipping corpora/stopwords.zip.\n",
            "[nltk_data] Downloading package punkt to /root/nltk_data...\n",
            "[nltk_data]   Unzipping tokenizers/punkt.zip.\n"
          ]
        },
        {
          "output_type": "execute_result",
          "data": {
            "text/plain": [
              "True"
            ]
          },
          "metadata": {},
          "execution_count": 1
        }
      ]
    },
    {
      "cell_type": "code",
      "metadata": {
        "id": "mmhQOmouTBwF",
        "colab": {
          "base_uri": "https://localhost:8080/"
        },
        "outputId": "cc99dd4d-4958-4011-fbcf-f245cb47f56b"
      },
      "source": [
        "\n"
      ],
      "execution_count": null,
      "outputs": [
        {
          "output_type": "stream",
          "name": "stderr",
          "text": [
            "[nltk_data] Downloading package punkt to /root/nltk_data...\n",
            "[nltk_data]   Unzipping tokenizers/punkt.zip.\n"
          ]
        },
        {
          "output_type": "execute_result",
          "data": {
            "text/plain": [
              "True"
            ]
          },
          "metadata": {},
          "execution_count": 4
        }
      ]
    },
    {
      "cell_type": "code",
      "metadata": {
        "id": "K7FZtffC7VCW",
        "colab": {
          "base_uri": "https://localhost:8080/"
        },
        "outputId": "0887d6f5-3557-4ed0-9faa-25bf7ba997cf"
      },
      "source": [
        "# Imports\n",
        "import requests\n",
        "import urllib.request\n",
        "import re\n",
        "import heapq\n",
        "import nltk\n",
        "from lxml import html\n",
        "from bs4 import BeautifulSoup\n",
        "from IPython.display import Audio #Import Audio method from IPython's Display Class\n",
        "\n",
        "def summary1(article, query):\n",
        "  # Removing Square Brackets and Extra Spaces\n",
        "  article = re.sub(r'\\[[0-9]*\\]', ' ', article)\n",
        "  article = re.sub(r'\\s+', ' ', article)\n",
        "# Removing special characters and digits\n",
        "  formatted_article_text = re.sub('[^a-zA-Z]', ' ', article)\n",
        "  formatted_article_text = re.sub(r'\\s+', ' ', formatted_article_text)\n",
        "# Assign token to each sentence.\n",
        "  sentence_list = nltk.sent_tokenize(article)\n",
        "# storing stop words in stopword \n",
        "  stopwords = nltk.corpus.stopwords.words('english')\n",
        "#Calculate the frequency of each word of <p> tag\n",
        "  word_frequencies = {}\n",
        "  for word in nltk.word_tokenize(formatted_article_text):\n",
        "      if word not in stopwords:\n",
        "          if word not in word_frequencies.keys():\n",
        "              word_frequencies[word] = 1\n",
        "          else:\n",
        "              word_frequencies[word] += 1\n",
        "  if len(word_frequencies.values())>0:\n",
        "      maximum_frequncy = max(word_frequencies.values())\n",
        "  else:\n",
        "      maximum_frequncy = 1\n",
        "#calculate the score of each word\n",
        "  for word in word_frequencies.keys():\n",
        "      word_frequencies[word] = (word_frequencies[word]/maximum_frequncy)\n",
        "#generate sentance score\n",
        "  sentence_scores = {}\n",
        "  for sent in sentence_list:\n",
        "      for word in nltk.word_tokenize(sent.lower()):\n",
        "          if word in word_frequencies.keys():\n",
        "              if len(sent.split(' ')) < 30: #if sentance length is less then 30 word then drop sentance\n",
        "                  if sent not in sentence_scores.keys():\n",
        "                      sentence_scores[sent] = word_frequencies[word]\n",
        "                  else:\n",
        "                      sentence_scores[sent] += word_frequencies[word]\n",
        "# generates all sentences with top 3 words \n",
        "  summary_sentences = heapq.nlargest(3, sentence_scores, key=sentence_scores.get)\n",
        "  summary_sentences.append('\\n')\n",
        "\n",
        "  summary = ' '.join(summary_sentences)\n",
        "  return summary\n",
        "\n",
        "def head(query):\n",
        "#  Dict = {}\n",
        "  try: \n",
        "      from googlesearch import search \n",
        "  except ImportError:  \n",
        "      print(\"No module named 'google' found\") \n",
        "#  n = 0\n",
        "# to search \n",
        "  page=''\n",
        "  soup=''\n",
        "#print('\\nTop Headlines\\n:')\n",
        "  for j in search(query, tld=\"com\", num=1, stop=1, pause=2): \n",
        "    page = requests.get(j)\n",
        "    if (page.status_code == 200):\n",
        "      pagehtml = requests.get(j).text\n",
        "      soup = BeautifulSoup(pagehtml)\n",
        "#    try:\n",
        "#      headline = soup.find('h1').get_text()\n",
        "#      headline.join(soup.find('h2').get_text())\n",
        "#      headline += soup.find('h3').get_text()\n",
        "#    except AttributeError:\n",
        "   # headline=''\n",
        "#      print(headline)\n",
        "  #else:\n",
        "#  print(headline)\n",
        "  \n",
        "#    Dict[n]=j\n",
        "#    n = n+1\n",
        "    \n",
        "#l = len(Dict)\n",
        " \n",
        "#for i in range(0,l-1):\n",
        "# Retrieve page text\n",
        "\n",
        "\n",
        "# Turn page into BeautifulSoup object to access HTML tags\n",
        "  \n",
        "# Get headline\n",
        "     \n",
        "# Get text from all <p> tags.\n",
        "    p_tags = soup.find_all('p') # Get the text from each of the \"p\" tags and strip surrounding whitespace.\n",
        "    p_tags_text = [tag.get_text().strip() for tag in p_tags]\n",
        "    p_tags_text\n",
        "\n",
        "\n",
        "# Filter out sentences that contain newline characters '\\n' or don't contain periods.\n",
        "    sentence_list = [sentence for sentence in p_tags_text if not '\\n' in sentence]\n",
        "    sentence_list = [sentence for sentence in sentence_list if '.' in sentence]\n",
        "    sentence_list\n",
        "# Combine list items into string.\n",
        "    article = ''.join(sentence_list)\n",
        "  #print(article)      \n",
        "#  #print('Headline:')\n",
        "  #if(len(headline)>0):\n",
        "   # print(headline)\n",
        "  \n",
        "  return article\n",
        "  #print('\\nLength of summary:')\n",
        "  #print(len(summary))\n",
        "  #if(len(article)!=0):\n",
        "    #try:\n",
        "#s=''\n",
        "#count=1\n",
        "q = input(\"Search string:\")\n",
        "#for i in range(10):\n",
        "#  if (len(s)<=0):\n",
        "#    count = count + 1\n",
        "a = head(q)\n",
        "#print(a)\n",
        "s = (summary1(a, q))\n",
        "    #except ZeroDivisionError:\n",
        "        # Output expected ZeroDivisionErrors.\n",
        "      #print('Infomation is very less to summerizes')\n",
        "\n",
        "#if (len(headline) == 0):\n",
        "\n",
        "print(s)\n",
        "\n",
        "\n"
      ],
      "execution_count": null,
      "outputs": [
        {
          "output_type": "stream",
          "name": "stdout",
          "text": [
            "Search string:todays news\n",
            "\n",
            "\n"
          ]
        }
      ]
    }
  ]
}