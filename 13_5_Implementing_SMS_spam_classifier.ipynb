{
  "nbformat": 4,
  "nbformat_minor": 0,
  "metadata": {
    "kernelspec": {
      "display_name": "Python 3",
      "language": "python",
      "name": "python3"
    },
    "language_info": {
      "codemirror_mode": {
        "name": "ipython",
        "version": 3
      },
      "file_extension": ".py",
      "mimetype": "text/x-python",
      "name": "python",
      "nbconvert_exporter": "python",
      "pygments_lexer": "ipython3",
      "version": "3.6.5"
    },
    "colab": {
      "name": "13.5 Implementing SMS spam classifier.ipynb",
      "provenance": [],
      "collapsed_sections": [],
      "include_colab_link": true
    },
    "accelerator": "GPU",
    "gpuClass": "standard"
  },
  "cells": [
    {
      "cell_type": "markdown",
      "metadata": {
        "id": "view-in-github",
        "colab_type": "text"
      },
      "source": [
        "<a href=\"https://colab.research.google.com/github/subhash505/NLP_code/blob/main/13_5_Implementing_SMS_spam_classifier.ipynb\" target=\"_parent\"><img src=\"https://colab.research.google.com/assets/colab-badge.svg\" alt=\"Open In Colab\"/></a>"
      ]
    },
    {
      "cell_type": "markdown",
      "metadata": {
        "id": "8DrQKITT6k2e"
      },
      "source": [
        "# Table of Contents\n",
        "### 1. Loading the Dataset\n",
        "### 2. Pre-processing the Dataset\n",
        "### 3. Feature Engineering and Model Building\n",
        "> ##### a. Creating Meta Features\n",
        "> ##### b. Counting Nouns and Verbs\n",
        "> ##### c. Model Building for Meta Features\n",
        "> ##### d. Tf-Idf Features\n",
        "> ##### e. Model Building for Complete Feature Set"
      ]
    },
    {
      "cell_type": "markdown",
      "metadata": {
        "id": "Mni26OR_glxM"
      },
      "source": [
        "## 1. Loading the dataset"
      ]
    },
    {
      "cell_type": "code",
      "metadata": {
        "_uuid": "1f872844f178d90776dc1b06d25cd6b819222199",
        "id": "Qor5IqVtfgJk"
      },
      "source": [
        "# Import libraries \n",
        "import pandas as pd\n",
        "import string"
      ],
      "execution_count": null,
      "outputs": []
    },
    {
      "cell_type": "code",
      "metadata": {
        "id": "GeU5hA39guJp",
        "colab": {
          "base_uri": "https://localhost:8080/",
          "height": 34
        },
        "outputId": "cce711da-c0ef-4dca-d10c-17bbdb1ab47b"
      },
      "source": [
        "# Mounting the drive\n",
        "from google.colab import drive\n",
        "drive.mount('/content/drive')"
      ],
      "execution_count": null,
      "outputs": [
        {
          "output_type": "stream",
          "text": [
            "Drive already mounted at /content/drive; to attempt to forcibly remount, call drive.mount(\"/content/drive\", force_remount=True).\n"
          ],
          "name": "stdout"
        }
      ]
    },
    {
      "cell_type": "code",
      "metadata": {
        "id": "6uUQpzxYgsE4",
        "colab": {
          "base_uri": "https://localhost:8080/",
          "height": 206
        },
        "outputId": "3f4e5147-259c-40a7-8efc-491256a39322"
      },
      "source": [
        "# Load dataset\n",
        "data = pd.read_csv('drive/My Drive/spamdata.csv')\n",
        "data.head()"
      ],
      "execution_count": null,
      "outputs": [
        {
          "output_type": "execute_result",
          "data": {
            "text/html": [
              "<div>\n",
              "<style scoped>\n",
              "    .dataframe tbody tr th:only-of-type {\n",
              "        vertical-align: middle;\n",
              "    }\n",
              "\n",
              "    .dataframe tbody tr th {\n",
              "        vertical-align: top;\n",
              "    }\n",
              "\n",
              "    .dataframe thead th {\n",
              "        text-align: right;\n",
              "    }\n",
              "</style>\n",
              "<table border=\"1\" class=\"dataframe\">\n",
              "  <thead>\n",
              "    <tr style=\"text-align: right;\">\n",
              "      <th></th>\n",
              "      <th>label</th>\n",
              "      <th>text</th>\n",
              "    </tr>\n",
              "  </thead>\n",
              "  <tbody>\n",
              "    <tr>\n",
              "      <th>0</th>\n",
              "      <td>ham</td>\n",
              "      <td>Go until jurong point, crazy.. Available only ...</td>\n",
              "    </tr>\n",
              "    <tr>\n",
              "      <th>1</th>\n",
              "      <td>ham</td>\n",
              "      <td>Ok lar... Joking wif u oni...</td>\n",
              "    </tr>\n",
              "    <tr>\n",
              "      <th>2</th>\n",
              "      <td>spam</td>\n",
              "      <td>Free entry in 2 a wkly comp to win FA Cup fina...</td>\n",
              "    </tr>\n",
              "    <tr>\n",
              "      <th>3</th>\n",
              "      <td>ham</td>\n",
              "      <td>U dun say so early hor... U c already then say...</td>\n",
              "    </tr>\n",
              "    <tr>\n",
              "      <th>4</th>\n",
              "      <td>ham</td>\n",
              "      <td>Nah I don't think he goes to usf, he lives aro...</td>\n",
              "    </tr>\n",
              "  </tbody>\n",
              "</table>\n",
              "</div>"
            ],
            "text/plain": [
              "  label                                               text\n",
              "0   ham  Go until jurong point, crazy.. Available only ...\n",
              "1   ham                      Ok lar... Joking wif u oni...\n",
              "2  spam  Free entry in 2 a wkly comp to win FA Cup fina...\n",
              "3   ham  U dun say so early hor... U c already then say...\n",
              "4   ham  Nah I don't think he goes to usf, he lives aro..."
            ]
          },
          "metadata": {
            "tags": []
          },
          "execution_count": 33
        }
      ]
    },
    {
      "cell_type": "code",
      "metadata": {
        "id": "lGDbcIPJD2Lx",
        "colab": {
          "base_uri": "https://localhost:8080/",
          "height": 69
        },
        "outputId": "f3759117-7f4e-4dc1-e123-d37140cf431b"
      },
      "source": [
        "# distribution of class\n",
        "data['label'].value_counts(normalize=True)"
      ],
      "execution_count": null,
      "outputs": [
        {
          "output_type": "execute_result",
          "data": {
            "text/plain": [
              "ham     0.865937\n",
              "spam    0.134063\n",
              "Name: label, dtype: float64"
            ]
          },
          "metadata": {
            "tags": []
          },
          "execution_count": 34
        }
      ]
    },
    {
      "cell_type": "markdown",
      "metadata": {
        "id": "NMQLWZjAijGi"
      },
      "source": [
        "## 2. Pre-processing the dataset"
      ]
    },
    {
      "cell_type": "code",
      "metadata": {
        "id": "7UcUwxZHjzWW"
      },
      "source": [
        "# Sample document: lowercase\n",
        "cleaned = data['text'][0].lower()"
      ],
      "execution_count": null,
      "outputs": []
    },
    {
      "cell_type": "code",
      "metadata": {
        "id": "giek4K2xj9Am",
        "colab": {
          "base_uri": "https://localhost:8080/",
          "height": 35
        },
        "outputId": "4925f4b9-9d45-4145-b3e3-a1c7af989761"
      },
      "source": [
        "# Sample document\n",
        "cleaned"
      ],
      "execution_count": null,
      "outputs": [
        {
          "output_type": "execute_result",
          "data": {
            "application/vnd.google.colaboratory.intrinsic+json": {
              "type": "string"
            },
            "text/plain": [
              "'go until jurong point, crazy.. available only in bugis n great world la e buffet... cine there got amore wat...'"
            ]
          },
          "metadata": {
            "tags": []
          },
          "execution_count": 36
        }
      ]
    },
    {
      "cell_type": "code",
      "metadata": {
        "id": "n5vHfzqljEB5"
      },
      "source": [
        "# Pre-initialised list of punctuations\n",
        "punctuations = string.punctuation"
      ],
      "execution_count": null,
      "outputs": []
    },
    {
      "cell_type": "code",
      "metadata": {
        "id": "W6vfiURGkBCr",
        "colab": {
          "base_uri": "https://localhost:8080/",
          "height": 35
        },
        "outputId": "9f03ba32-b945-4d8a-c8cf-7ca2535367f9"
      },
      "source": [
        "# Pre-initialised list of punctuations\n",
        "punctuations"
      ],
      "execution_count": null,
      "outputs": [
        {
          "output_type": "execute_result",
          "data": {
            "application/vnd.google.colaboratory.intrinsic+json": {
              "type": "string"
            },
            "text/plain": [
              "'!\"#$%&\\'()*+,-./:;<=>?@[\\\\]^_`{|}~'"
            ]
          },
          "metadata": {
            "tags": []
          },
          "execution_count": 38
        }
      ]
    },
    {
      "cell_type": "code",
      "metadata": {
        "id": "gHBR_C87kCU9"
      },
      "source": [
        "# Sample document: Remove punctuations\n",
        "cleaned = \"\".join(character for character in cleaned if character not in punctuations)    "
      ],
      "execution_count": null,
      "outputs": []
    },
    {
      "cell_type": "code",
      "metadata": {
        "id": "8JkL55j0j7XH",
        "colab": {
          "base_uri": "https://localhost:8080/",
          "height": 35
        },
        "outputId": "442199eb-ffd3-4bb9-c6a2-4ccd3f083498"
      },
      "source": [
        "# Sample document\n",
        "cleaned"
      ],
      "execution_count": null,
      "outputs": [
        {
          "output_type": "execute_result",
          "data": {
            "application/vnd.google.colaboratory.intrinsic+json": {
              "type": "string"
            },
            "text/plain": [
              "'go until jurong point crazy available only in bugis n great world la e buffet cine there got amore wat'"
            ]
          },
          "metadata": {
            "tags": []
          },
          "execution_count": 40
        }
      ]
    },
    {
      "cell_type": "code",
      "metadata": {
        "id": "NSzgdloQkQaY"
      },
      "source": [
        "# Import spacy\n",
        "from spacy.lang.en import English\n",
        "\n",
        "# Load English tokenizer, tagger, parser, NER and word vectors\n",
        "nlp = English()"
      ],
      "execution_count": null,
      "outputs": []
    },
    {
      "cell_type": "code",
      "metadata": {
        "id": "qiSH4XyTkUJu"
      },
      "source": [
        "# spacy document\n",
        "my_doc = nlp(cleaned)"
      ],
      "execution_count": null,
      "outputs": []
    },
    {
      "cell_type": "code",
      "metadata": {
        "id": "NuaGD0ShkX5T"
      },
      "source": [
        "# Create list of word tokens\n",
        "token_list = []\n",
        "for token in my_doc:\n",
        "    token_list.append(token.text)"
      ],
      "execution_count": null,
      "outputs": []
    },
    {
      "cell_type": "code",
      "metadata": {
        "id": "Ba34dra9kZvK"
      },
      "source": [
        "# Import stop words\n",
        "from spacy.lang.en.stop_words import STOP_WORDS"
      ],
      "execution_count": null,
      "outputs": []
    },
    {
      "cell_type": "code",
      "metadata": {
        "id": "raRfFRTqkZsW",
        "colab": {
          "base_uri": "https://localhost:8080/",
          "height": 72
        },
        "outputId": "d7e110eb-d60d-430c-d32e-acd4f62570b9"
      },
      "source": [
        "# Create list of word tokens after removing stopwords\n",
        "filtered_sentence =[] \n",
        "\n",
        "# Iterate over the tokens\n",
        "for word in token_list:\n",
        "    # Get token text\n",
        "    lexeme = nlp.vocab[word]\n",
        "    # Check if stopword or not\n",
        "    if lexeme.is_stop == False:\n",
        "        filtered_sentence.append(word) \n",
        "\n",
        "# Print tokens and filtered sentence\n",
        "print(token_list)\n",
        "print(filtered_sentence)\n",
        "cleaned = filtered_sentence"
      ],
      "execution_count": null,
      "outputs": [
        {
          "output_type": "stream",
          "text": [
            "['go', 'until', 'jurong', 'point', 'crazy', 'available', 'only', 'in', 'bugis', 'n', 'great', 'world', 'la', 'e', 'buffet', 'cine', 'there', 'got', 'amore', 'wat']\n",
            "['jurong', 'point', 'crazy', 'available', 'bugis', 'n', 'great', 'world', 'la', 'e', 'buffet', 'cine', 'got', 'amore', 'wat']\n"
          ],
          "name": "stdout"
        }
      ]
    },
    {
      "cell_type": "code",
      "metadata": {
        "id": "JN8EbY2KkIf5",
        "colab": {
          "base_uri": "https://localhost:8080/",
          "height": 35
        },
        "outputId": "71fd6051-df74-4034-fea9-ec1784224bf5"
      },
      "source": [
        "# Joining the tokenised words in sample document\n",
        "cleaned = \" \".join(cleaned)\n",
        "cleaned"
      ],
      "execution_count": null,
      "outputs": [
        {
          "output_type": "execute_result",
          "data": {
            "application/vnd.google.colaboratory.intrinsic+json": {
              "type": "string"
            },
            "text/plain": [
              "'jurong point crazy available bugis n great world la e buffet cine got amore wat'"
            ]
          },
          "metadata": {
            "tags": []
          },
          "execution_count": 46
        }
      ]
    },
    {
      "cell_type": "code",
      "metadata": {
        "id": "VWF1FkPckISW"
      },
      "source": [
        "# Preprocessing function\n",
        "def clean_text(text):\n",
        "    ## lower case \n",
        "    cleaned = text.lower()\n",
        "    \n",
        "    ## remove punctuations\n",
        "    punctuations = string.punctuation\n",
        "    cleaned = \"\".join(character for character in cleaned if character not in punctuations)\n",
        "    \n",
        "    ## remove stopwords \n",
        "    my_doc = nlp(cleaned)\n",
        "    token_list = []\n",
        "    for token in my_doc:\n",
        "        token_list.append(token.text)\n",
        "    \n",
        "    ## remove stop words\n",
        "    filtered_sentence =[] \n",
        "\n",
        "    for word in token_list:\n",
        "        lexeme = nlp.vocab[word]\n",
        "        if lexeme.is_stop == False:\n",
        "            filtered_sentence.append(word)\n",
        "    \n",
        "    ## Store cleaned document\n",
        "    cleaned = filtered_sentence\n",
        "    cleaned = \" \".join(cleaned)\n",
        "    \n",
        "    return cleaned"
      ],
      "execution_count": null,
      "outputs": []
    },
    {
      "cell_type": "code",
      "metadata": {
        "_uuid": "c6b1a3e7c75160b16902579f89d2207bedde5f13",
        "id": "KEaFCLV0fgJ_",
        "colab": {
          "base_uri": "https://localhost:8080/",
          "height": 206
        },
        "outputId": "7a6033ab-b442-490f-8bf1-0d6865db5398"
      },
      "source": [
        "# Applying the preprocessin function\n",
        "data[\"cleaned\"] = data[\"text\"].apply(lambda x : clean_text(x))\n",
        "data.head()"
      ],
      "execution_count": null,
      "outputs": [
        {
          "output_type": "execute_result",
          "data": {
            "text/html": [
              "<div>\n",
              "<style scoped>\n",
              "    .dataframe tbody tr th:only-of-type {\n",
              "        vertical-align: middle;\n",
              "    }\n",
              "\n",
              "    .dataframe tbody tr th {\n",
              "        vertical-align: top;\n",
              "    }\n",
              "\n",
              "    .dataframe thead th {\n",
              "        text-align: right;\n",
              "    }\n",
              "</style>\n",
              "<table border=\"1\" class=\"dataframe\">\n",
              "  <thead>\n",
              "    <tr style=\"text-align: right;\">\n",
              "      <th></th>\n",
              "      <th>label</th>\n",
              "      <th>text</th>\n",
              "      <th>cleaned</th>\n",
              "    </tr>\n",
              "  </thead>\n",
              "  <tbody>\n",
              "    <tr>\n",
              "      <th>0</th>\n",
              "      <td>ham</td>\n",
              "      <td>Go until jurong point, crazy.. Available only ...</td>\n",
              "      <td>jurong point crazy available bugis n great wor...</td>\n",
              "    </tr>\n",
              "    <tr>\n",
              "      <th>1</th>\n",
              "      <td>ham</td>\n",
              "      <td>Ok lar... Joking wif u oni...</td>\n",
              "      <td>ok lar joking wif u oni</td>\n",
              "    </tr>\n",
              "    <tr>\n",
              "      <th>2</th>\n",
              "      <td>spam</td>\n",
              "      <td>Free entry in 2 a wkly comp to win FA Cup fina...</td>\n",
              "      <td>free entry 2 wkly comp win fa cup final tkts 2...</td>\n",
              "    </tr>\n",
              "    <tr>\n",
              "      <th>3</th>\n",
              "      <td>ham</td>\n",
              "      <td>U dun say so early hor... U c already then say...</td>\n",
              "      <td>u dun early hor u c</td>\n",
              "    </tr>\n",
              "    <tr>\n",
              "      <th>4</th>\n",
              "      <td>ham</td>\n",
              "      <td>Nah I don't think he goes to usf, he lives aro...</td>\n",
              "      <td>nah nt think goes usf lives</td>\n",
              "    </tr>\n",
              "  </tbody>\n",
              "</table>\n",
              "</div>"
            ],
            "text/plain": [
              "  label  ...                                            cleaned\n",
              "0   ham  ...  jurong point crazy available bugis n great wor...\n",
              "1   ham  ...                            ok lar joking wif u oni\n",
              "2  spam  ...  free entry 2 wkly comp win fa cup final tkts 2...\n",
              "3   ham  ...                                u dun early hor u c\n",
              "4   ham  ...                        nah nt think goes usf lives\n",
              "\n",
              "[5 rows x 3 columns]"
            ]
          },
          "metadata": {
            "tags": []
          },
          "execution_count": 48
        }
      ]
    },
    {
      "cell_type": "markdown",
      "metadata": {
        "id": "w0aGLW5v8Reo"
      },
      "source": [
        "## 3. Feature Engineering and Model Building"
      ]
    },
    {
      "cell_type": "markdown",
      "metadata": {
        "id": "vnyEsmnAoFZR"
      },
      "source": [
        "### a. Creating Meta Features\n",
        "\n",
        "> 1. Number of words in original text\n",
        "> 2. Number of words in cleaned text\n",
        "> 3. Number of characters including spaces in the cleaned text\n",
        "> 4. Number of characters excluding spaces in the cleaned text\n",
        "> 5. Number of digits in the cleaned text"
      ]
    },
    {
      "cell_type": "code",
      "metadata": {
        "id": "zxRq1BGifgKZ"
      },
      "source": [
        "# Creating meta features\n",
        "\n",
        "# Number of words in original text\n",
        "data[\"word_count\"] = data[\"text\"].apply(lambda x : len(x.split()))\n",
        "# Number of words in cleaned text\n",
        "data[\"word_count_cleand\"] = data[\"cleaned\"].apply(lambda x : len(x.split()))\n",
        "\n",
        "# Number of characters including spaces in the cleaned text\n",
        "data[\"char_count\"] = data[\"cleaned\"].apply(lambda x : len(x))\n",
        "# number of characters excluding spaces in the cleaned text\n",
        "data[\"char_count_without_spaces\"] = data[\"cleaned\"].apply(lambda x : len(x.replace(\" \",\"\")))\n",
        "\n",
        "# Number of digits in the cleaned text\n",
        "data[\"num_dig\"] = data[\"cleaned\"].apply(lambda x :  sum([1 if w.isdigit() else 0 for w in x.split()]))"
      ],
      "execution_count": null,
      "outputs": []
    },
    {
      "cell_type": "code",
      "metadata": {
        "id": "BrMK3ZfTfgKg",
        "colab": {
          "base_uri": "https://localhost:8080/",
          "height": 275
        },
        "outputId": "9cfc81ec-04f6-4b2e-f569-05df647ffb07"
      },
      "source": [
        "# Print dataset\n",
        "data.head()"
      ],
      "execution_count": null,
      "outputs": [
        {
          "output_type": "execute_result",
          "data": {
            "text/html": [
              "<div>\n",
              "<style scoped>\n",
              "    .dataframe tbody tr th:only-of-type {\n",
              "        vertical-align: middle;\n",
              "    }\n",
              "\n",
              "    .dataframe tbody tr th {\n",
              "        vertical-align: top;\n",
              "    }\n",
              "\n",
              "    .dataframe thead th {\n",
              "        text-align: right;\n",
              "    }\n",
              "</style>\n",
              "<table border=\"1\" class=\"dataframe\">\n",
              "  <thead>\n",
              "    <tr style=\"text-align: right;\">\n",
              "      <th></th>\n",
              "      <th>label</th>\n",
              "      <th>text</th>\n",
              "      <th>cleaned</th>\n",
              "      <th>word_count</th>\n",
              "      <th>word_count_cleand</th>\n",
              "      <th>char_count</th>\n",
              "      <th>char_count_without_spaces</th>\n",
              "      <th>num_dig</th>\n",
              "    </tr>\n",
              "  </thead>\n",
              "  <tbody>\n",
              "    <tr>\n",
              "      <th>0</th>\n",
              "      <td>ham</td>\n",
              "      <td>Go until jurong point, crazy.. Available only ...</td>\n",
              "      <td>jurong point crazy available bugis n great wor...</td>\n",
              "      <td>20</td>\n",
              "      <td>15</td>\n",
              "      <td>79</td>\n",
              "      <td>65</td>\n",
              "      <td>0</td>\n",
              "    </tr>\n",
              "    <tr>\n",
              "      <th>1</th>\n",
              "      <td>ham</td>\n",
              "      <td>Ok lar... Joking wif u oni...</td>\n",
              "      <td>ok lar joking wif u oni</td>\n",
              "      <td>6</td>\n",
              "      <td>6</td>\n",
              "      <td>23</td>\n",
              "      <td>18</td>\n",
              "      <td>0</td>\n",
              "    </tr>\n",
              "    <tr>\n",
              "      <th>2</th>\n",
              "      <td>spam</td>\n",
              "      <td>Free entry in 2 a wkly comp to win FA Cup fina...</td>\n",
              "      <td>free entry 2 wkly comp win fa cup final tkts 2...</td>\n",
              "      <td>28</td>\n",
              "      <td>22</td>\n",
              "      <td>131</td>\n",
              "      <td>110</td>\n",
              "      <td>3</td>\n",
              "    </tr>\n",
              "    <tr>\n",
              "      <th>3</th>\n",
              "      <td>ham</td>\n",
              "      <td>U dun say so early hor... U c already then say...</td>\n",
              "      <td>u dun early hor u c</td>\n",
              "      <td>11</td>\n",
              "      <td>6</td>\n",
              "      <td>19</td>\n",
              "      <td>14</td>\n",
              "      <td>0</td>\n",
              "    </tr>\n",
              "    <tr>\n",
              "      <th>4</th>\n",
              "      <td>ham</td>\n",
              "      <td>Nah I don't think he goes to usf, he lives aro...</td>\n",
              "      <td>nah nt think goes usf lives</td>\n",
              "      <td>13</td>\n",
              "      <td>6</td>\n",
              "      <td>27</td>\n",
              "      <td>22</td>\n",
              "      <td>0</td>\n",
              "    </tr>\n",
              "  </tbody>\n",
              "</table>\n",
              "</div>"
            ],
            "text/plain": [
              "  label  ... num_dig\n",
              "0   ham  ...       0\n",
              "1   ham  ...       0\n",
              "2  spam  ...       3\n",
              "3   ham  ...       0\n",
              "4   ham  ...       0\n",
              "\n",
              "[5 rows x 8 columns]"
            ]
          },
          "metadata": {
            "tags": []
          },
          "execution_count": 50
        }
      ]
    },
    {
      "cell_type": "markdown",
      "metadata": {
        "id": "hyEwxbmWpnrP"
      },
      "source": [
        "### b. Counting Nouns and Verbs"
      ]
    },
    {
      "cell_type": "code",
      "metadata": {
        "id": "zHGNSuKssfqK"
      },
      "source": [
        "# Import spacy English language model\n",
        "import spacy\n",
        "nlp = spacy.load(\"en_core_web_sm\")"
      ],
      "execution_count": null,
      "outputs": []
    },
    {
      "cell_type": "code",
      "metadata": {
        "id": "G1fLA3suqunT"
      },
      "source": [
        "# spacy document\n",
        "document = nlp(data['cleaned'][0])"
      ],
      "execution_count": null,
      "outputs": []
    },
    {
      "cell_type": "code",
      "metadata": {
        "id": "gieo4eO_snBN",
        "colab": {
          "base_uri": "https://localhost:8080/",
          "height": 34
        },
        "outputId": "4b88ce33-90ce-4019-bf27-58ba5a62f583"
      },
      "source": [
        "# Sample document\n",
        "document"
      ],
      "execution_count": null,
      "outputs": [
        {
          "output_type": "execute_result",
          "data": {
            "text/plain": [
              "jurong point crazy available bugis n great world la e buffet cine got amore wat"
            ]
          },
          "metadata": {
            "tags": []
          },
          "execution_count": 53
        }
      ]
    },
    {
      "cell_type": "code",
      "metadata": {
        "id": "hrr6jgKM7D7I"
      },
      "source": [
        "# POS tags\n",
        "all_tags = []\n",
        "for w in document:\n",
        "    all_tags.append(w.tag_)"
      ],
      "execution_count": null,
      "outputs": []
    },
    {
      "cell_type": "code",
      "metadata": {
        "id": "QjAFJx-eqtkJ",
        "colab": {
          "base_uri": "https://localhost:8080/",
          "height": 278
        },
        "outputId": "92616a4c-3042-4f3f-a1ab-af103b72055f"
      },
      "source": [
        "# POS tags\n",
        "all_tags"
      ],
      "execution_count": null,
      "outputs": [
        {
          "output_type": "execute_result",
          "data": {
            "text/plain": [
              "['NNP',\n",
              " 'NN',\n",
              " 'JJ',\n",
              " 'JJ',\n",
              " 'NNP',\n",
              " 'NNP',\n",
              " 'NNP',\n",
              " 'NNP',\n",
              " 'NNP',\n",
              " 'NNP',\n",
              " 'NNP',\n",
              " 'NNP',\n",
              " 'VBD',\n",
              " 'NNP',\n",
              " 'NNP']"
            ]
          },
          "metadata": {
            "tags": []
          },
          "execution_count": 55
        }
      ]
    },
    {
      "cell_type": "code",
      "metadata": {
        "id": "R-9ftC2y5XIS"
      },
      "source": [
        "# Dictionary of noun and verb POS tags\n",
        "pos_dic = {\"noun\" : [\"NNP\", \"NN\", \"NNS\", \"NNPS\"], \"verb\" : [\"VBZ\", \"VB\", \"VBD\",\"VBG\", \"VBN\"]}"
      ],
      "execution_count": null,
      "outputs": []
    },
    {
      "cell_type": "code",
      "metadata": {
        "id": "5VVrV6KQ5XG4"
      },
      "source": [
        "# Sample document: Noun count\n",
        "count = 0\n",
        "for tag in all_tags:\n",
        "    if tag in pos_dic['noun']:\n",
        "        count += 1"
      ],
      "execution_count": null,
      "outputs": []
    },
    {
      "cell_type": "code",
      "metadata": {
        "id": "oKOGcld27kVG",
        "colab": {
          "base_uri": "https://localhost:8080/",
          "height": 34
        },
        "outputId": "9f3a67a8-5571-4ce8-a6ac-3ffaaab0b6a0"
      },
      "source": [
        "# Sample document: Noun count\n",
        "count"
      ],
      "execution_count": null,
      "outputs": [
        {
          "output_type": "execute_result",
          "data": {
            "text/plain": [
              "12"
            ]
          },
          "metadata": {
            "tags": []
          },
          "execution_count": 58
        }
      ]
    },
    {
      "cell_type": "code",
      "metadata": {
        "id": "I1wPYQFUfgKm"
      },
      "source": [
        "# Function for noun and verb counts\n",
        "def pos_check(txt, family):\n",
        "\n",
        "    # spacy document\n",
        "    txt = nlp(txt)\n",
        "    \n",
        "    all_tags = []\n",
        "\n",
        "    # Get pos tag\n",
        "    for w in txt:\n",
        "        all_tags.append(w.tag_)\n",
        "    \n",
        "    count = 0\n",
        "\n",
        "    # Count number of nouns and verbs\n",
        "    for tag in all_tags:\n",
        "        if tag in pos_dic[family]:\n",
        "            count += 1\n",
        "\n",
        "    return count"
      ],
      "execution_count": null,
      "outputs": []
    },
    {
      "cell_type": "code",
      "metadata": {
        "id": "kq_s46Hc8ejP",
        "colab": {
          "base_uri": "https://localhost:8080/",
          "height": 34
        },
        "outputId": "2c6c6011-63cf-4995-f731-8472c6aa322d"
      },
      "source": [
        "# Sample document: Noun count\n",
        "pos_check(\"They are playing in the ground\", \"verb\")"
      ],
      "execution_count": null,
      "outputs": [
        {
          "output_type": "execute_result",
          "data": {
            "text/plain": [
              "1"
            ]
          },
          "metadata": {
            "tags": []
          },
          "execution_count": 60
        }
      ]
    },
    {
      "cell_type": "code",
      "metadata": {
        "id": "SJ5do1Hc8t4v",
        "colab": {
          "base_uri": "https://localhost:8080/",
          "height": 34
        },
        "outputId": "42be685c-fe47-47ae-d44e-2a2ca6fb41ee"
      },
      "source": [
        "# Sample document: Verb count\n",
        "pos_check(\"They are playing in the ground\", \"noun\")"
      ],
      "execution_count": null,
      "outputs": [
        {
          "output_type": "execute_result",
          "data": {
            "text/plain": [
              "1"
            ]
          },
          "metadata": {
            "tags": []
          },
          "execution_count": 61
        }
      ]
    },
    {
      "cell_type": "code",
      "metadata": {
        "id": "o6J-a92V8gmX"
      },
      "source": [
        "# Applying the function\n",
        "data[\"noun_count\"] = data[\"cleaned\"].apply(lambda x : pos_check(x, \"noun\"))\n",
        "data[\"verb_count\"] = data[\"cleaned\"].apply(lambda x : pos_check(x, \"verb\"))"
      ],
      "execution_count": null,
      "outputs": []
    },
    {
      "cell_type": "code",
      "metadata": {
        "id": "3yqAMTHXfgKs",
        "colab": {
          "base_uri": "https://localhost:8080/",
          "height": 449
        },
        "outputId": "59b9252d-6dae-4306-9dcf-070933fe6dc2"
      },
      "source": [
        "# Print output\n",
        "data.head()"
      ],
      "execution_count": null,
      "outputs": [
        {
          "output_type": "execute_result",
          "data": {
            "text/html": [
              "<div>\n",
              "<style scoped>\n",
              "    .dataframe tbody tr th:only-of-type {\n",
              "        vertical-align: middle;\n",
              "    }\n",
              "\n",
              "    .dataframe tbody tr th {\n",
              "        vertical-align: top;\n",
              "    }\n",
              "\n",
              "    .dataframe thead th {\n",
              "        text-align: right;\n",
              "    }\n",
              "</style>\n",
              "<table border=\"1\" class=\"dataframe\">\n",
              "  <thead>\n",
              "    <tr style=\"text-align: right;\">\n",
              "      <th></th>\n",
              "      <th>label</th>\n",
              "      <th>text</th>\n",
              "      <th>cleaned</th>\n",
              "      <th>word_count</th>\n",
              "      <th>word_count_cleand</th>\n",
              "      <th>char_count</th>\n",
              "      <th>char_count_without_spaces</th>\n",
              "      <th>num_dig</th>\n",
              "      <th>noun_count</th>\n",
              "      <th>verb_count</th>\n",
              "    </tr>\n",
              "  </thead>\n",
              "  <tbody>\n",
              "    <tr>\n",
              "      <th>0</th>\n",
              "      <td>ham</td>\n",
              "      <td>Go until jurong point, crazy.. Available only ...</td>\n",
              "      <td>jurong point crazy available bugis n great wor...</td>\n",
              "      <td>20</td>\n",
              "      <td>15</td>\n",
              "      <td>79</td>\n",
              "      <td>65</td>\n",
              "      <td>0</td>\n",
              "      <td>12</td>\n",
              "      <td>1</td>\n",
              "    </tr>\n",
              "    <tr>\n",
              "      <th>1</th>\n",
              "      <td>ham</td>\n",
              "      <td>Ok lar... Joking wif u oni...</td>\n",
              "      <td>ok lar joking wif u oni</td>\n",
              "      <td>6</td>\n",
              "      <td>6</td>\n",
              "      <td>23</td>\n",
              "      <td>18</td>\n",
              "      <td>0</td>\n",
              "      <td>6</td>\n",
              "      <td>0</td>\n",
              "    </tr>\n",
              "    <tr>\n",
              "      <th>2</th>\n",
              "      <td>spam</td>\n",
              "      <td>Free entry in 2 a wkly comp to win FA Cup fina...</td>\n",
              "      <td>free entry 2 wkly comp win fa cup final tkts 2...</td>\n",
              "      <td>28</td>\n",
              "      <td>22</td>\n",
              "      <td>131</td>\n",
              "      <td>110</td>\n",
              "      <td>3</td>\n",
              "      <td>13</td>\n",
              "      <td>0</td>\n",
              "    </tr>\n",
              "    <tr>\n",
              "      <th>3</th>\n",
              "      <td>ham</td>\n",
              "      <td>U dun say so early hor... U c already then say...</td>\n",
              "      <td>u dun early hor u c</td>\n",
              "      <td>11</td>\n",
              "      <td>6</td>\n",
              "      <td>19</td>\n",
              "      <td>14</td>\n",
              "      <td>0</td>\n",
              "      <td>5</td>\n",
              "      <td>0</td>\n",
              "    </tr>\n",
              "    <tr>\n",
              "      <th>4</th>\n",
              "      <td>ham</td>\n",
              "      <td>Nah I don't think he goes to usf, he lives aro...</td>\n",
              "      <td>nah nt think goes usf lives</td>\n",
              "      <td>13</td>\n",
              "      <td>6</td>\n",
              "      <td>27</td>\n",
              "      <td>22</td>\n",
              "      <td>0</td>\n",
              "      <td>3</td>\n",
              "      <td>2</td>\n",
              "    </tr>\n",
              "  </tbody>\n",
              "</table>\n",
              "</div>"
            ],
            "text/plain": [
              "  label  ... verb_count\n",
              "0   ham  ...          1\n",
              "1   ham  ...          0\n",
              "2  spam  ...          0\n",
              "3   ham  ...          0\n",
              "4   ham  ...          2\n",
              "\n",
              "[5 rows x 10 columns]"
            ]
          },
          "metadata": {
            "tags": []
          },
          "execution_count": 63
        }
      ]
    },
    {
      "cell_type": "markdown",
      "metadata": {
        "id": "H7Am-PBC9KXj"
      },
      "source": [
        "### c. Model Building for Meta Features"
      ]
    },
    {
      "cell_type": "code",
      "metadata": {
        "id": "RmUCN9cmCJtJ"
      },
      "source": [
        "# Label encoding target variable\n",
        "from sklearn.preprocessing import LabelEncoder \n",
        "\n",
        "target = data[\"label\"].values\n",
        "target = LabelEncoder().fit_transform(target)"
      ],
      "execution_count": null,
      "outputs": []
    },
    {
      "cell_type": "code",
      "metadata": {
        "id": "jt6DEgPrCcU2"
      },
      "source": [
        "# List of features\n",
        "train = data[['word_count', 'word_count_cleand', 'char_count', \n",
        "              'char_count_without_spaces', 'num_dig', 'noun_count', \n",
        "              'verb_count']]"
      ],
      "execution_count": null,
      "outputs": []
    },
    {
      "cell_type": "code",
      "metadata": {
        "id": "xrjhgosACJqg"
      },
      "source": [
        "# Train-Validation split\n",
        "from sklearn.model_selection import train_test_split\n",
        "\n",
        "x_train, x_valid, y_train, y_valid = train_test_split(train, target, random_state=20, stratify=target)"
      ],
      "execution_count": null,
      "outputs": []
    },
    {
      "cell_type": "code",
      "metadata": {
        "id": "V0a9fR_mCJm6",
        "colab": {
          "base_uri": "https://localhost:8080/",
          "height": 34
        },
        "outputId": "ac49a833-5b49-456e-913a-5dbc54bbc6bc"
      },
      "source": [
        "# Train and Validatio dataset\n",
        "(x_train.shape, y_train.shape), (x_valid.shape, y_valid.shape)"
      ],
      "execution_count": null,
      "outputs": [
        {
          "output_type": "execute_result",
          "data": {
            "text/plain": [
              "(((4179, 7), (4179,)), ((1393, 7), (1393,)))"
            ]
          },
          "metadata": {
            "tags": []
          },
          "execution_count": 67
        }
      ]
    },
    {
      "cell_type": "code",
      "metadata": {
        "id": "pgigIeuECJjS"
      },
      "source": [
        "# Naive bayes\n",
        "from sklearn import naive_bayes"
      ],
      "execution_count": null,
      "outputs": []
    },
    {
      "cell_type": "code",
      "metadata": {
        "id": "Yop3jxrmCJfz"
      },
      "source": [
        "# Multinomial naive bayes\n",
        "model = naive_bayes.MultinomialNB()"
      ],
      "execution_count": null,
      "outputs": []
    },
    {
      "cell_type": "code",
      "metadata": {
        "id": "XRWvGmz8CJch",
        "colab": {
          "base_uri": "https://localhost:8080/",
          "height": 34
        },
        "outputId": "971e78b6-aaa6-4573-a634-7423c5aef0ee"
      },
      "source": [
        "# Fit model on training data\n",
        "model.fit(x_train, y_train)"
      ],
      "execution_count": null,
      "outputs": [
        {
          "output_type": "execute_result",
          "data": {
            "text/plain": [
              "MultinomialNB(alpha=1.0, class_prior=None, fit_prior=True)"
            ]
          },
          "metadata": {
            "tags": []
          },
          "execution_count": 70
        }
      ]
    },
    {
      "cell_type": "code",
      "metadata": {
        "id": "v0oHHGzuCJbI"
      },
      "source": [
        "# Prediction on training data\n",
        "pred_train = model.predict(x_train)\n",
        "# Prediction on validation data\n",
        "pred_valid = model.predict(x_valid)"
      ],
      "execution_count": null,
      "outputs": []
    },
    {
      "cell_type": "code",
      "metadata": {
        "id": "CjfgLTB3CJYp"
      },
      "source": [
        "# Accuracy\n",
        "from sklearn.metrics import accuracy_score"
      ],
      "execution_count": null,
      "outputs": []
    },
    {
      "cell_type": "code",
      "metadata": {
        "id": "SR-qN1pWCJXE",
        "colab": {
          "base_uri": "https://localhost:8080/",
          "height": 34
        },
        "outputId": "fbeed2a3-89e8-4fdb-b046-ceb2bb46c8b0"
      },
      "source": [
        "# Training accuracy\n",
        "accuracy_score(y_train, pred_train)"
      ],
      "execution_count": null,
      "outputs": [
        {
          "output_type": "execute_result",
          "data": {
            "text/plain": [
              "0.9430485762144054"
            ]
          },
          "metadata": {
            "tags": []
          },
          "execution_count": 73
        }
      ]
    },
    {
      "cell_type": "code",
      "metadata": {
        "id": "UZTN0rStCJTr",
        "colab": {
          "base_uri": "https://localhost:8080/",
          "height": 34
        },
        "outputId": "9e5fb4ac-8914-445e-fafb-9a35054f0925"
      },
      "source": [
        "# Validation accuracy\n",
        "accuracy_score(y_valid, pred_valid)"
      ],
      "execution_count": null,
      "outputs": [
        {
          "output_type": "execute_result",
          "data": {
            "text/plain": [
              "0.9382627422828428"
            ]
          },
          "metadata": {
            "tags": []
          },
          "execution_count": 74
        }
      ]
    },
    {
      "cell_type": "markdown",
      "metadata": {
        "id": "DmdBILrAEBgZ"
      },
      "source": [
        "### d. Tf-idf Features"
      ]
    },
    {
      "cell_type": "code",
      "metadata": {
        "id": "ETnGYQaRfgKy"
      },
      "source": [
        "# Import Tf-Idf Vectoriser\n",
        "from sklearn.feature_extraction.text import TfidfVectorizer"
      ],
      "execution_count": null,
      "outputs": []
    },
    {
      "cell_type": "code",
      "metadata": {
        "id": "qRD9KeQEfgLA"
      },
      "source": [
        "# Tf-Idf Vectoriser\n",
        "word_tfidf = TfidfVectorizer(max_features=500)"
      ],
      "execution_count": null,
      "outputs": []
    },
    {
      "cell_type": "code",
      "metadata": {
        "id": "ijbCEDsQFb-_",
        "colab": {
          "base_uri": "https://localhost:8080/",
          "height": 139
        },
        "outputId": "71da9522-85b2-4cde-aac2-d51a48ebc90c"
      },
      "source": [
        "# Fit Tf-Idf Vectoriser\n",
        "word_tfidf.fit(data[\"cleaned\"].values)"
      ],
      "execution_count": null,
      "outputs": [
        {
          "output_type": "execute_result",
          "data": {
            "text/plain": [
              "TfidfVectorizer(analyzer='word', binary=False, decode_error='strict',\n",
              "                dtype=<class 'numpy.float64'>, encoding='utf-8',\n",
              "                input='content', lowercase=True, max_df=1.0, max_features=500,\n",
              "                min_df=1, ngram_range=(1, 1), norm='l2', preprocessor=None,\n",
              "                smooth_idf=True, stop_words=None, strip_accents=None,\n",
              "                sublinear_tf=False, token_pattern='(?u)\\\\b\\\\w\\\\w+\\\\b',\n",
              "                tokenizer=None, use_idf=True, vocabulary=None)"
            ]
          },
          "metadata": {
            "tags": []
          },
          "execution_count": 77
        }
      ]
    },
    {
      "cell_type": "code",
      "metadata": {
        "id": "qgrjR4wHFeOI"
      },
      "source": [
        "# Transform\n",
        "word_vectors_tfidf = word_tfidf.transform(data[\"cleaned\"].values)"
      ],
      "execution_count": null,
      "outputs": []
    },
    {
      "cell_type": "code",
      "metadata": {
        "id": "cCmkMcG4Js9D",
        "colab": {
          "base_uri": "https://localhost:8080/",
          "height": 52
        },
        "outputId": "931b8430-16d9-41d2-b0cc-b5a11b4f8c35"
      },
      "source": [
        "# Tf-Idf vectors\n",
        "word_vectors_tfidf"
      ],
      "execution_count": null,
      "outputs": [
        {
          "output_type": "execute_result",
          "data": {
            "text/plain": [
              "<5572x500 sparse matrix of type '<class 'numpy.float64'>'\n",
              "\twith 21920 stored elements in Compressed Sparse Row format>"
            ]
          },
          "metadata": {
            "tags": []
          },
          "execution_count": 79
        }
      ]
    },
    {
      "cell_type": "code",
      "metadata": {
        "id": "J6f_g_D_fgLl"
      },
      "source": [
        "# Combining meta features and Tf-Idf features\n",
        "from scipy.sparse import hstack, csr_matrix\n",
        "\n",
        "# List of meta features\n",
        "meta_features = ['word_count', 'word_count_cleand',\n",
        "       'char_count', 'char_count_without_spaces', 'num_dig', 'noun_count',\n",
        "       'verb_count']\n",
        "\n",
        "# Meta features\n",
        "feature_set1 = data[meta_features]\n",
        "\n",
        "# Combined features\n",
        "train = hstack([word_vectors_tfidf, csr_matrix(feature_set1)], \"csr\")"
      ],
      "execution_count": null,
      "outputs": []
    },
    {
      "cell_type": "markdown",
      "metadata": {
        "id": "SAEARrMl-U3a"
      },
      "source": [
        "### e. Model Building for complete feature set"
      ]
    },
    {
      "cell_type": "code",
      "metadata": {
        "id": "mWar4HFJfgLz"
      },
      "source": [
        "# Train and Validation datasets\n",
        "x_train, x_valid, y_train, y_valid = train_test_split(train, target, random_state=20, stratify=target)"
      ],
      "execution_count": null,
      "outputs": []
    },
    {
      "cell_type": "code",
      "metadata": {
        "id": "d2uUKHjNfgL9",
        "colab": {
          "base_uri": "https://localhost:8080/",
          "height": 34
        },
        "outputId": "4f95d4d6-5062-4a87-a02a-881a9b466756"
      },
      "source": [
        "# Train and Validation datasets\n",
        "(x_train.shape, y_train.shape), (x_valid.shape, y_valid.shape)"
      ],
      "execution_count": null,
      "outputs": [
        {
          "output_type": "execute_result",
          "data": {
            "text/plain": [
              "(((4179, 507), (4179,)), ((1393, 507), (1393,)))"
            ]
          },
          "metadata": {
            "tags": []
          },
          "execution_count": 82
        }
      ]
    },
    {
      "cell_type": "code",
      "metadata": {
        "id": "AfgsZtBjEzfy"
      },
      "source": [
        "# Multinomial Naive Bayes Model\n",
        "model = naive_bayes.MultinomialNB()"
      ],
      "execution_count": null,
      "outputs": []
    },
    {
      "cell_type": "code",
      "metadata": {
        "id": "Eq-wc2aDE8y1",
        "colab": {
          "base_uri": "https://localhost:8080/",
          "height": 34
        },
        "outputId": "e9a8edde-691c-4918-baff-a2f92092edff"
      },
      "source": [
        "# Fit model\n",
        "model.fit(x_train, y_train)"
      ],
      "execution_count": null,
      "outputs": [
        {
          "output_type": "execute_result",
          "data": {
            "text/plain": [
              "MultinomialNB(alpha=1.0, class_prior=None, fit_prior=True)"
            ]
          },
          "metadata": {
            "tags": []
          },
          "execution_count": 84
        }
      ]
    },
    {
      "cell_type": "code",
      "metadata": {
        "id": "SicnChDLE-Xp"
      },
      "source": [
        "# Predcition on Training data\n",
        "pred_train = model.predict(x_train)\n",
        "# Predcition on Validation data\n",
        "pred_valid = model.predict(x_valid)"
      ],
      "execution_count": null,
      "outputs": []
    },
    {
      "cell_type": "code",
      "metadata": {
        "id": "tcRbI5V1FAEp",
        "colab": {
          "base_uri": "https://localhost:8080/",
          "height": 34
        },
        "outputId": "08b61aa4-0c1e-44c1-c79e-d553d2bb3089"
      },
      "source": [
        "# Training accuracy\n",
        "accuracy_score(y_train, pred_train)"
      ],
      "execution_count": null,
      "outputs": [
        {
          "output_type": "execute_result",
          "data": {
            "text/plain": [
              "0.9676956209619526"
            ]
          },
          "metadata": {
            "tags": []
          },
          "execution_count": 86
        }
      ]
    },
    {
      "cell_type": "code",
      "metadata": {
        "id": "VW0tWdGEFBso",
        "colab": {
          "base_uri": "https://localhost:8080/",
          "height": 34
        },
        "outputId": "5b95bcbd-adea-429f-edee-2db340be940b"
      },
      "source": [
        "# Validation accuracy\n",
        "accuracy_score(y_valid, pred_valid)"
      ],
      "execution_count": null,
      "outputs": [
        {
          "output_type": "execute_result",
          "data": {
            "text/plain": [
              "0.9619526202440776"
            ]
          },
          "metadata": {
            "tags": []
          },
          "execution_count": 87
        }
      ]
    },
    {
      "cell_type": "code",
      "metadata": {
        "id": "XQkYpzfcL1BX"
      },
      "source": [
        ""
      ],
      "execution_count": null,
      "outputs": []
    }
  ]
}