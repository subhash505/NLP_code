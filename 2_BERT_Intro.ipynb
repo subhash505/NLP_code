{
  "nbformat": 4,
  "nbformat_minor": 0,
  "metadata": {
    "colab": {
      "name": "2_BERT_Intro.ipynb",
      "provenance": [],
      "include_colab_link": true
    },
    "kernelspec": {
      "name": "python3",
      "display_name": "Python 3"
    },
    "language_info": {
      "name": "python"
    },
    "accelerator": "GPU",
    "gpuClass": "standard"
  },
  "cells": [
    {
      "cell_type": "markdown",
      "metadata": {
        "id": "view-in-github",
        "colab_type": "text"
      },
      "source": [
        "<a href=\"https://colab.research.google.com/github/subhash505/NLP_code/blob/main/2_BERT_Intro.ipynb\" target=\"_parent\"><img src=\"https://colab.research.google.com/assets/colab-badge.svg\" alt=\"Open In Colab\"/></a>"
      ]
    },
    {
      "cell_type": "code",
      "source": [
        "!pip install tensorflow_text"
      ],
      "metadata": {
        "colab": {
          "base_uri": "https://localhost:8080/"
        },
        "id": "s1CR96mNhq6d",
        "outputId": "7d2d5170-3688-44a6-bcd8-dee36f98fd5e"
      },
      "execution_count": null,
      "outputs": [
        {
          "output_type": "stream",
          "name": "stdout",
          "text": [
            "Looking in indexes: https://pypi.org/simple, https://us-python.pkg.dev/colab-wheels/public/simple/\n",
            "Collecting tensorflow_text\n",
            "  Downloading tensorflow_text-2.9.0-cp37-cp37m-manylinux_2_17_x86_64.manylinux2014_x86_64.whl (4.6 MB)\n",
            "\u001b[K     |████████████████████████████████| 4.6 MB 4.7 MB/s \n",
            "\u001b[?25hRequirement already satisfied: tensorflow-hub>=0.8.0 in /usr/local/lib/python3.7/dist-packages (from tensorflow_text) (0.12.0)\n",
            "Requirement already satisfied: tensorflow<2.10,>=2.9.0 in /usr/local/lib/python3.7/dist-packages (from tensorflow_text) (2.9.1)\n",
            "Requirement already satisfied: protobuf<3.20,>=3.9.2 in /usr/local/lib/python3.7/dist-packages (from tensorflow<2.10,>=2.9.0->tensorflow_text) (3.17.3)\n",
            "Requirement already satisfied: tensorboard<2.10,>=2.9 in /usr/local/lib/python3.7/dist-packages (from tensorflow<2.10,>=2.9.0->tensorflow_text) (2.9.1)\n",
            "Requirement already satisfied: absl-py>=1.0.0 in /usr/local/lib/python3.7/dist-packages (from tensorflow<2.10,>=2.9.0->tensorflow_text) (1.2.0)\n",
            "Requirement already satisfied: six>=1.12.0 in /usr/local/lib/python3.7/dist-packages (from tensorflow<2.10,>=2.9.0->tensorflow_text) (1.15.0)\n",
            "Requirement already satisfied: gast<=0.4.0,>=0.2.1 in /usr/local/lib/python3.7/dist-packages (from tensorflow<2.10,>=2.9.0->tensorflow_text) (0.4.0)\n",
            "Requirement already satisfied: termcolor>=1.1.0 in /usr/local/lib/python3.7/dist-packages (from tensorflow<2.10,>=2.9.0->tensorflow_text) (1.1.0)\n",
            "Requirement already satisfied: libclang>=13.0.0 in /usr/local/lib/python3.7/dist-packages (from tensorflow<2.10,>=2.9.0->tensorflow_text) (14.0.6)\n",
            "Requirement already satisfied: opt-einsum>=2.3.2 in /usr/local/lib/python3.7/dist-packages (from tensorflow<2.10,>=2.9.0->tensorflow_text) (3.3.0)\n",
            "Requirement already satisfied: packaging in /usr/local/lib/python3.7/dist-packages (from tensorflow<2.10,>=2.9.0->tensorflow_text) (21.3)\n",
            "Requirement already satisfied: keras-preprocessing>=1.1.1 in /usr/local/lib/python3.7/dist-packages (from tensorflow<2.10,>=2.9.0->tensorflow_text) (1.1.2)\n",
            "Requirement already satisfied: tensorflow-io-gcs-filesystem>=0.23.1 in /usr/local/lib/python3.7/dist-packages (from tensorflow<2.10,>=2.9.0->tensorflow_text) (0.26.0)\n",
            "Requirement already satisfied: setuptools in /usr/local/lib/python3.7/dist-packages (from tensorflow<2.10,>=2.9.0->tensorflow_text) (57.4.0)\n",
            "Requirement already satisfied: grpcio<2.0,>=1.24.3 in /usr/local/lib/python3.7/dist-packages (from tensorflow<2.10,>=2.9.0->tensorflow_text) (1.47.0)\n",
            "Requirement already satisfied: wrapt>=1.11.0 in /usr/local/lib/python3.7/dist-packages (from tensorflow<2.10,>=2.9.0->tensorflow_text) (1.14.1)\n",
            "Requirement already satisfied: astunparse>=1.6.0 in /usr/local/lib/python3.7/dist-packages (from tensorflow<2.10,>=2.9.0->tensorflow_text) (1.6.3)\n",
            "Requirement already satisfied: tensorflow-estimator<2.10.0,>=2.9.0rc0 in /usr/local/lib/python3.7/dist-packages (from tensorflow<2.10,>=2.9.0->tensorflow_text) (2.9.0)\n",
            "Requirement already satisfied: h5py>=2.9.0 in /usr/local/lib/python3.7/dist-packages (from tensorflow<2.10,>=2.9.0->tensorflow_text) (3.1.0)\n",
            "Requirement already satisfied: numpy>=1.20 in /usr/local/lib/python3.7/dist-packages (from tensorflow<2.10,>=2.9.0->tensorflow_text) (1.21.6)\n",
            "Requirement already satisfied: google-pasta>=0.1.1 in /usr/local/lib/python3.7/dist-packages (from tensorflow<2.10,>=2.9.0->tensorflow_text) (0.2.0)\n",
            "Requirement already satisfied: keras<2.10.0,>=2.9.0rc0 in /usr/local/lib/python3.7/dist-packages (from tensorflow<2.10,>=2.9.0->tensorflow_text) (2.9.0)\n",
            "Requirement already satisfied: typing-extensions>=3.6.6 in /usr/local/lib/python3.7/dist-packages (from tensorflow<2.10,>=2.9.0->tensorflow_text) (4.1.1)\n",
            "Requirement already satisfied: flatbuffers<2,>=1.12 in /usr/local/lib/python3.7/dist-packages (from tensorflow<2.10,>=2.9.0->tensorflow_text) (1.12)\n",
            "Requirement already satisfied: wheel<1.0,>=0.23.0 in /usr/local/lib/python3.7/dist-packages (from astunparse>=1.6.0->tensorflow<2.10,>=2.9.0->tensorflow_text) (0.37.1)\n",
            "Requirement already satisfied: cached-property in /usr/local/lib/python3.7/dist-packages (from h5py>=2.9.0->tensorflow<2.10,>=2.9.0->tensorflow_text) (1.5.2)\n",
            "Requirement already satisfied: markdown>=2.6.8 in /usr/local/lib/python3.7/dist-packages (from tensorboard<2.10,>=2.9->tensorflow<2.10,>=2.9.0->tensorflow_text) (3.4.1)\n",
            "Requirement already satisfied: google-auth-oauthlib<0.5,>=0.4.1 in /usr/local/lib/python3.7/dist-packages (from tensorboard<2.10,>=2.9->tensorflow<2.10,>=2.9.0->tensorflow_text) (0.4.6)\n",
            "Requirement already satisfied: tensorboard-data-server<0.7.0,>=0.6.0 in /usr/local/lib/python3.7/dist-packages (from tensorboard<2.10,>=2.9->tensorflow<2.10,>=2.9.0->tensorflow_text) (0.6.1)\n",
            "Requirement already satisfied: requests<3,>=2.21.0 in /usr/local/lib/python3.7/dist-packages (from tensorboard<2.10,>=2.9->tensorflow<2.10,>=2.9.0->tensorflow_text) (2.23.0)\n",
            "Requirement already satisfied: werkzeug>=1.0.1 in /usr/local/lib/python3.7/dist-packages (from tensorboard<2.10,>=2.9->tensorflow<2.10,>=2.9.0->tensorflow_text) (1.0.1)\n",
            "Requirement already satisfied: google-auth<3,>=1.6.3 in /usr/local/lib/python3.7/dist-packages (from tensorboard<2.10,>=2.9->tensorflow<2.10,>=2.9.0->tensorflow_text) (1.35.0)\n",
            "Requirement already satisfied: tensorboard-plugin-wit>=1.6.0 in /usr/local/lib/python3.7/dist-packages (from tensorboard<2.10,>=2.9->tensorflow<2.10,>=2.9.0->tensorflow_text) (1.8.1)\n",
            "Requirement already satisfied: rsa<5,>=3.1.4 in /usr/local/lib/python3.7/dist-packages (from google-auth<3,>=1.6.3->tensorboard<2.10,>=2.9->tensorflow<2.10,>=2.9.0->tensorflow_text) (4.9)\n",
            "Requirement already satisfied: pyasn1-modules>=0.2.1 in /usr/local/lib/python3.7/dist-packages (from google-auth<3,>=1.6.3->tensorboard<2.10,>=2.9->tensorflow<2.10,>=2.9.0->tensorflow_text) (0.2.8)\n",
            "Requirement already satisfied: cachetools<5.0,>=2.0.0 in /usr/local/lib/python3.7/dist-packages (from google-auth<3,>=1.6.3->tensorboard<2.10,>=2.9->tensorflow<2.10,>=2.9.0->tensorflow_text) (4.2.4)\n",
            "Requirement already satisfied: requests-oauthlib>=0.7.0 in /usr/local/lib/python3.7/dist-packages (from google-auth-oauthlib<0.5,>=0.4.1->tensorboard<2.10,>=2.9->tensorflow<2.10,>=2.9.0->tensorflow_text) (1.3.1)\n",
            "Requirement already satisfied: importlib-metadata>=4.4 in /usr/local/lib/python3.7/dist-packages (from markdown>=2.6.8->tensorboard<2.10,>=2.9->tensorflow<2.10,>=2.9.0->tensorflow_text) (4.12.0)\n",
            "Requirement already satisfied: zipp>=0.5 in /usr/local/lib/python3.7/dist-packages (from importlib-metadata>=4.4->markdown>=2.6.8->tensorboard<2.10,>=2.9->tensorflow<2.10,>=2.9.0->tensorflow_text) (3.8.1)\n",
            "Requirement already satisfied: pyasn1<0.5.0,>=0.4.6 in /usr/local/lib/python3.7/dist-packages (from pyasn1-modules>=0.2.1->google-auth<3,>=1.6.3->tensorboard<2.10,>=2.9->tensorflow<2.10,>=2.9.0->tensorflow_text) (0.4.8)\n",
            "Requirement already satisfied: idna<3,>=2.5 in /usr/local/lib/python3.7/dist-packages (from requests<3,>=2.21.0->tensorboard<2.10,>=2.9->tensorflow<2.10,>=2.9.0->tensorflow_text) (2.10)\n",
            "Requirement already satisfied: certifi>=2017.4.17 in /usr/local/lib/python3.7/dist-packages (from requests<3,>=2.21.0->tensorboard<2.10,>=2.9->tensorflow<2.10,>=2.9.0->tensorflow_text) (2022.6.15)\n",
            "Requirement already satisfied: chardet<4,>=3.0.2 in /usr/local/lib/python3.7/dist-packages (from requests<3,>=2.21.0->tensorboard<2.10,>=2.9->tensorflow<2.10,>=2.9.0->tensorflow_text) (3.0.4)\n",
            "Requirement already satisfied: urllib3!=1.25.0,!=1.25.1,<1.26,>=1.21.1 in /usr/local/lib/python3.7/dist-packages (from requests<3,>=2.21.0->tensorboard<2.10,>=2.9->tensorflow<2.10,>=2.9.0->tensorflow_text) (1.24.3)\n",
            "Requirement already satisfied: oauthlib>=3.0.0 in /usr/local/lib/python3.7/dist-packages (from requests-oauthlib>=0.7.0->google-auth-oauthlib<0.5,>=0.4.1->tensorboard<2.10,>=2.9->tensorflow<2.10,>=2.9.0->tensorflow_text) (3.2.0)\n",
            "Requirement already satisfied: pyparsing!=3.0.5,>=2.0.2 in /usr/local/lib/python3.7/dist-packages (from packaging->tensorflow<2.10,>=2.9.0->tensorflow_text) (3.0.9)\n",
            "Installing collected packages: tensorflow-text\n",
            "Successfully installed tensorflow-text-2.9.0\n"
          ]
        }
      ]
    },
    {
      "cell_type": "code",
      "source": [
        "import tensorflow_hub as hub\n",
        "import tensorflow_text as text"
      ],
      "metadata": {
        "id": "lwP3mHveyV5M"
      },
      "execution_count": null,
      "outputs": []
    },
    {
      "cell_type": "code",
      "execution_count": null,
      "metadata": {
        "id": "Dmk9HkztyK4B"
      },
      "outputs": [],
      "source": [
        "preprocess_url = \"https://tfhub.dev/tensorflow/bert_en_uncased_preprocess/3\"\n",
        "encoder_url = \"https://tfhub.dev/tensorflow/bert_en_uncased_L-12_H-768_A-12/4\""
      ]
    },
    {
      "cell_type": "code",
      "source": [
        "bert_preprocess_model = hub.KerasLayer(preprocess_url)"
      ],
      "metadata": {
        "id": "InFkVO5Th3Qo"
      },
      "execution_count": null,
      "outputs": []
    },
    {
      "cell_type": "code",
      "source": [
        "text_test = ['nice movie indeed','I love python programming']\n",
        "text_preprocessed = bert_preprocess_model(text_test)\n",
        "text_preprocessed.keys()"
      ],
      "metadata": {
        "colab": {
          "base_uri": "https://localhost:8080/"
        },
        "id": "fPovNKihiIiH",
        "outputId": "15c112af-c171-4049-f219-fe496de47665"
      },
      "execution_count": null,
      "outputs": [
        {
          "output_type": "execute_result",
          "data": {
            "text/plain": [
              "dict_keys(['input_word_ids', 'input_mask', 'input_type_ids'])"
            ]
          },
          "metadata": {},
          "execution_count": 5
        }
      ]
    },
    {
      "cell_type": "code",
      "source": [
        "text_preprocessed['input_mask']"
      ],
      "metadata": {
        "colab": {
          "base_uri": "https://localhost:8080/"
        },
        "id": "RKyZBhZWiN3G",
        "outputId": "a6d054c4-4aab-48f5-f476-cc7bca18a55d"
      },
      "execution_count": null,
      "outputs": [
        {
          "output_type": "execute_result",
          "data": {
            "text/plain": [
              "<tf.Tensor: shape=(2, 128), dtype=int32, numpy=\n",
              "array([[1, 1, 1, 1, 1, 0, 0, 0, 0, 0, 0, 0, 0, 0, 0, 0, 0, 0, 0, 0, 0, 0,\n",
              "        0, 0, 0, 0, 0, 0, 0, 0, 0, 0, 0, 0, 0, 0, 0, 0, 0, 0, 0, 0, 0, 0,\n",
              "        0, 0, 0, 0, 0, 0, 0, 0, 0, 0, 0, 0, 0, 0, 0, 0, 0, 0, 0, 0, 0, 0,\n",
              "        0, 0, 0, 0, 0, 0, 0, 0, 0, 0, 0, 0, 0, 0, 0, 0, 0, 0, 0, 0, 0, 0,\n",
              "        0, 0, 0, 0, 0, 0, 0, 0, 0, 0, 0, 0, 0, 0, 0, 0, 0, 0, 0, 0, 0, 0,\n",
              "        0, 0, 0, 0, 0, 0, 0, 0, 0, 0, 0, 0, 0, 0, 0, 0, 0, 0],\n",
              "       [1, 1, 1, 1, 1, 1, 0, 0, 0, 0, 0, 0, 0, 0, 0, 0, 0, 0, 0, 0, 0, 0,\n",
              "        0, 0, 0, 0, 0, 0, 0, 0, 0, 0, 0, 0, 0, 0, 0, 0, 0, 0, 0, 0, 0, 0,\n",
              "        0, 0, 0, 0, 0, 0, 0, 0, 0, 0, 0, 0, 0, 0, 0, 0, 0, 0, 0, 0, 0, 0,\n",
              "        0, 0, 0, 0, 0, 0, 0, 0, 0, 0, 0, 0, 0, 0, 0, 0, 0, 0, 0, 0, 0, 0,\n",
              "        0, 0, 0, 0, 0, 0, 0, 0, 0, 0, 0, 0, 0, 0, 0, 0, 0, 0, 0, 0, 0, 0,\n",
              "        0, 0, 0, 0, 0, 0, 0, 0, 0, 0, 0, 0, 0, 0, 0, 0, 0, 0]],\n",
              "      dtype=int32)>"
            ]
          },
          "metadata": {},
          "execution_count": 6
        }
      ]
    },
    {
      "cell_type": "code",
      "source": [
        "text_preprocessed['input_type_ids']"
      ],
      "metadata": {
        "colab": {
          "base_uri": "https://localhost:8080/"
        },
        "id": "wWn5Pp5qiPSu",
        "outputId": "d70a46f9-aec8-4a95-8a3b-15c3bb0497a0"
      },
      "execution_count": null,
      "outputs": [
        {
          "output_type": "execute_result",
          "data": {
            "text/plain": [
              "<tf.Tensor: shape=(2, 128), dtype=int32, numpy=\n",
              "array([[0, 0, 0, 0, 0, 0, 0, 0, 0, 0, 0, 0, 0, 0, 0, 0, 0, 0, 0, 0, 0, 0,\n",
              "        0, 0, 0, 0, 0, 0, 0, 0, 0, 0, 0, 0, 0, 0, 0, 0, 0, 0, 0, 0, 0, 0,\n",
              "        0, 0, 0, 0, 0, 0, 0, 0, 0, 0, 0, 0, 0, 0, 0, 0, 0, 0, 0, 0, 0, 0,\n",
              "        0, 0, 0, 0, 0, 0, 0, 0, 0, 0, 0, 0, 0, 0, 0, 0, 0, 0, 0, 0, 0, 0,\n",
              "        0, 0, 0, 0, 0, 0, 0, 0, 0, 0, 0, 0, 0, 0, 0, 0, 0, 0, 0, 0, 0, 0,\n",
              "        0, 0, 0, 0, 0, 0, 0, 0, 0, 0, 0, 0, 0, 0, 0, 0, 0, 0],\n",
              "       [0, 0, 0, 0, 0, 0, 0, 0, 0, 0, 0, 0, 0, 0, 0, 0, 0, 0, 0, 0, 0, 0,\n",
              "        0, 0, 0, 0, 0, 0, 0, 0, 0, 0, 0, 0, 0, 0, 0, 0, 0, 0, 0, 0, 0, 0,\n",
              "        0, 0, 0, 0, 0, 0, 0, 0, 0, 0, 0, 0, 0, 0, 0, 0, 0, 0, 0, 0, 0, 0,\n",
              "        0, 0, 0, 0, 0, 0, 0, 0, 0, 0, 0, 0, 0, 0, 0, 0, 0, 0, 0, 0, 0, 0,\n",
              "        0, 0, 0, 0, 0, 0, 0, 0, 0, 0, 0, 0, 0, 0, 0, 0, 0, 0, 0, 0, 0, 0,\n",
              "        0, 0, 0, 0, 0, 0, 0, 0, 0, 0, 0, 0, 0, 0, 0, 0, 0, 0]],\n",
              "      dtype=int32)>"
            ]
          },
          "metadata": {},
          "execution_count": 7
        }
      ]
    },
    {
      "cell_type": "code",
      "source": [
        "text_preprocessed['input_word_ids']"
      ],
      "metadata": {
        "colab": {
          "base_uri": "https://localhost:8080/"
        },
        "id": "yhJ1mh1fiTmV",
        "outputId": "75d2a257-2b8f-4589-9e6d-7e0be094c394"
      },
      "execution_count": null,
      "outputs": [
        {
          "output_type": "execute_result",
          "data": {
            "text/plain": [
              "<tf.Tensor: shape=(2, 128), dtype=int32, numpy=\n",
              "array([[  101,  3835,  3185,  5262,   102,     0,     0,     0,     0,\n",
              "            0,     0,     0,     0,     0,     0,     0,     0,     0,\n",
              "            0,     0,     0,     0,     0,     0,     0,     0,     0,\n",
              "            0,     0,     0,     0,     0,     0,     0,     0,     0,\n",
              "            0,     0,     0,     0,     0,     0,     0,     0,     0,\n",
              "            0,     0,     0,     0,     0,     0,     0,     0,     0,\n",
              "            0,     0,     0,     0,     0,     0,     0,     0,     0,\n",
              "            0,     0,     0,     0,     0,     0,     0,     0,     0,\n",
              "            0,     0,     0,     0,     0,     0,     0,     0,     0,\n",
              "            0,     0,     0,     0,     0,     0,     0,     0,     0,\n",
              "            0,     0,     0,     0,     0,     0,     0,     0,     0,\n",
              "            0,     0,     0,     0,     0,     0,     0,     0,     0,\n",
              "            0,     0,     0,     0,     0,     0,     0,     0,     0,\n",
              "            0,     0,     0,     0,     0,     0,     0,     0,     0,\n",
              "            0,     0],\n",
              "       [  101,  1045,  2293, 18750,  4730,   102,     0,     0,     0,\n",
              "            0,     0,     0,     0,     0,     0,     0,     0,     0,\n",
              "            0,     0,     0,     0,     0,     0,     0,     0,     0,\n",
              "            0,     0,     0,     0,     0,     0,     0,     0,     0,\n",
              "            0,     0,     0,     0,     0,     0,     0,     0,     0,\n",
              "            0,     0,     0,     0,     0,     0,     0,     0,     0,\n",
              "            0,     0,     0,     0,     0,     0,     0,     0,     0,\n",
              "            0,     0,     0,     0,     0,     0,     0,     0,     0,\n",
              "            0,     0,     0,     0,     0,     0,     0,     0,     0,\n",
              "            0,     0,     0,     0,     0,     0,     0,     0,     0,\n",
              "            0,     0,     0,     0,     0,     0,     0,     0,     0,\n",
              "            0,     0,     0,     0,     0,     0,     0,     0,     0,\n",
              "            0,     0,     0,     0,     0,     0,     0,     0,     0,\n",
              "            0,     0,     0,     0,     0,     0,     0,     0,     0,\n",
              "            0,     0]], dtype=int32)>"
            ]
          },
          "metadata": {},
          "execution_count": 8
        }
      ]
    },
    {
      "cell_type": "code",
      "source": [
        "bert_model = hub.KerasLayer(encoder_url)"
      ],
      "metadata": {
        "id": "hXwbQbqeiXWc"
      },
      "execution_count": null,
      "outputs": []
    },
    {
      "cell_type": "code",
      "source": [
        "bert_results = bert_model(text_preprocessed)"
      ],
      "metadata": {
        "id": "pznLmXx_iZ91"
      },
      "execution_count": null,
      "outputs": []
    },
    {
      "cell_type": "code",
      "source": [
        "bert_results.keys()"
      ],
      "metadata": {
        "colab": {
          "base_uri": "https://localhost:8080/"
        },
        "id": "eURA3hL_ibq9",
        "outputId": "d806a0c6-aa1d-4081-a883-3c9be1ebf536"
      },
      "execution_count": null,
      "outputs": [
        {
          "output_type": "execute_result",
          "data": {
            "text/plain": [
              "dict_keys(['pooled_output', 'default', 'sequence_output', 'encoder_outputs'])"
            ]
          },
          "metadata": {},
          "execution_count": 11
        }
      ]
    },
    {
      "cell_type": "code",
      "source": [
        "\n",
        "bert_results['sequence_output']"
      ],
      "metadata": {
        "colab": {
          "base_uri": "https://localhost:8080/"
        },
        "id": "F6G6Q-iwidXW",
        "outputId": "e039c685-af33-48e3-927b-9103cee816b3"
      },
      "execution_count": null,
      "outputs": [
        {
          "output_type": "execute_result",
          "data": {
            "text/plain": [
              "<tf.Tensor: shape=(2, 128, 768), dtype=float32, numpy=\n",
              "array([[[ 0.07292067,  0.08567822,  0.14476836, ..., -0.09677087,\n",
              "          0.08722129,  0.07711094],\n",
              "        [ 0.17839354, -0.19006018,  0.50349367, ..., -0.05869842,\n",
              "          0.3271711 , -0.15578555],\n",
              "        [ 0.18701491, -0.43388742, -0.4887515 , ..., -0.15502787,\n",
              "          0.00145216, -0.24470924],\n",
              "        ...,\n",
              "        [ 0.12083021,  0.12884282,  0.4645354 , ...,  0.07375491,\n",
              "          0.1744193 ,  0.16522156],\n",
              "        [ 0.07967912, -0.01190624,  0.5022538 , ...,  0.13777728,\n",
              "          0.21002221,  0.00624587],\n",
              "        [-0.07212694, -0.28303483,  0.59033346, ...,  0.47551912,\n",
              "          0.1666846 , -0.08920337]],\n",
              "\n",
              "       [[-0.07900582,  0.36335114, -0.21101543, ..., -0.17183763,\n",
              "          0.16299734,  0.6724271 ],\n",
              "        [ 0.27883524,  0.4371634 , -0.3576478 , ..., -0.04463633,\n",
              "          0.3831516 ,  0.58879817],\n",
              "        [ 1.2037672 ,  1.0727024 ,  0.48408753, ...,  0.24920942,\n",
              "          0.40730953,  0.40481883],\n",
              "        ...,\n",
              "        [ 0.08630048,  0.1935384 ,  0.47540027, ...,  0.18880184,\n",
              "         -0.06474071,  0.31318596],\n",
              "        [ 0.1588705 ,  0.28572682,  0.3734076 , ...,  0.09309155,\n",
              "         -0.04969535,  0.38761115],\n",
              "        [-0.08079872, -0.0957282 ,  0.2680978 , ...,  0.13979626,\n",
              "         -0.06315861,  0.27288336]]], dtype=float32)>"
            ]
          },
          "metadata": {},
          "execution_count": 12
        }
      ]
    },
    {
      "cell_type": "code",
      "source": [
        "bert_results['pooled_output']"
      ],
      "metadata": {
        "colab": {
          "base_uri": "https://localhost:8080/"
        },
        "id": "4rB8SHtAih-t",
        "outputId": "a9dfcd56-cfb8-41f9-b7cb-0d158a9fde7c"
      },
      "execution_count": null,
      "outputs": [
        {
          "output_type": "execute_result",
          "data": {
            "text/plain": [
              "<tf.Tensor: shape=(2, 768), dtype=float32, numpy=\n",
              "array([[-0.7917738 , -0.214119  ,  0.4976956 , ...,  0.24465248,\n",
              "        -0.4733446 ,  0.8175866 ],\n",
              "       [-0.91712326, -0.47935176, -0.7865696 , ..., -0.6175175 ,\n",
              "        -0.7102685 ,  0.92184305]], dtype=float32)>"
            ]
          },
          "metadata": {},
          "execution_count": 13
        }
      ]
    },
    {
      "cell_type": "code",
      "source": [
        "len(bert_results['encoder_outputs'])"
      ],
      "metadata": {
        "colab": {
          "base_uri": "https://localhost:8080/"
        },
        "id": "3NTyO5d_ikq9",
        "outputId": "d11f2d6f-ffce-4f3b-ce8d-3017f0b96b51"
      },
      "execution_count": null,
      "outputs": [
        {
          "output_type": "execute_result",
          "data": {
            "text/plain": [
              "12"
            ]
          },
          "metadata": {},
          "execution_count": 14
        }
      ]
    },
    {
      "cell_type": "code",
      "source": [
        "bert_results['encoder_outputs'][-1] == bert_results['sequence_output']"
      ],
      "metadata": {
        "colab": {
          "base_uri": "https://localhost:8080/"
        },
        "id": "CCw5CF8_itvV",
        "outputId": "52136054-d6af-4c0c-ba01-9266be6f9360"
      },
      "execution_count": null,
      "outputs": [
        {
          "output_type": "execute_result",
          "data": {
            "text/plain": [
              "<tf.Tensor: shape=(2, 128, 768), dtype=bool, numpy=\n",
              "array([[[ True,  True,  True, ...,  True,  True,  True],\n",
              "        [ True,  True,  True, ...,  True,  True,  True],\n",
              "        [ True,  True,  True, ...,  True,  True,  True],\n",
              "        ...,\n",
              "        [ True,  True,  True, ...,  True,  True,  True],\n",
              "        [ True,  True,  True, ...,  True,  True,  True],\n",
              "        [ True,  True,  True, ...,  True,  True,  True]],\n",
              "\n",
              "       [[ True,  True,  True, ...,  True,  True,  True],\n",
              "        [ True,  True,  True, ...,  True,  True,  True],\n",
              "        [ True,  True,  True, ...,  True,  True,  True],\n",
              "        ...,\n",
              "        [ True,  True,  True, ...,  True,  True,  True],\n",
              "        [ True,  True,  True, ...,  True,  True,  True],\n",
              "        [ True,  True,  True, ...,  True,  True,  True]]])>"
            ]
          },
          "metadata": {},
          "execution_count": 15
        }
      ]
    },
    {
      "cell_type": "code",
      "source": [
        "bert_results['encoder_outputs']"
      ],
      "metadata": {
        "colab": {
          "base_uri": "https://localhost:8080/"
        },
        "id": "fccY9C5Oiw4V",
        "outputId": "81ab0bb8-67b5-4433-d1bb-ff9f3e21f02f"
      },
      "execution_count": null,
      "outputs": [
        {
          "output_type": "execute_result",
          "data": {
            "text/plain": [
              "[<tf.Tensor: shape=(2, 128, 768), dtype=float32, numpy=\n",
              " array([[[ 0.12901427,  0.00644753, -0.03614969, ...,  0.04999623,\n",
              "           0.06149197, -0.02657543],\n",
              "         [ 1.1753384 ,  1.2140787 ,  1.156998  , ...,  0.1163438 ,\n",
              "          -0.35855386, -0.40490195],\n",
              "         [ 0.03859026,  0.5387001 , -0.21089776, ...,  0.2185821 ,\n",
              "           0.7260166 , -1.1158606 ],\n",
              "         ...,\n",
              "         [-0.07587014, -0.2542193 ,  0.7075511 , ...,  0.50541997,\n",
              "          -0.18878686,  0.15028353],\n",
              "         [-0.16066612, -0.28089693,  0.57597053, ...,  0.5275856 ,\n",
              "          -0.11141369,  0.02887547],\n",
              "         [-0.04428152, -0.20279568,  0.5909352 , ...,  0.8133835 ,\n",
              "          -0.39075816, -0.0260174 ]],\n",
              " \n",
              "        [[ 0.18903573,  0.02752536, -0.06513732, ..., -0.00620209,\n",
              "           0.15053888,  0.03165451],\n",
              "         [ 0.59161466,  0.758914  , -0.07240687, ...,  0.61903995,\n",
              "           0.829289  ,  0.16161972],\n",
              "         [ 1.4460828 ,  0.44602683,  0.40990245, ...,  0.48255908,\n",
              "           0.6269117 ,  0.1346341 ],\n",
              "         ...,\n",
              "         [ 0.15147926, -0.21573842,  0.70329076, ..., -0.12537229,\n",
              "          -0.13787295,  0.2772205 ],\n",
              "         [ 0.05143785, -0.24052714,  0.535691  , ..., -0.07915018,\n",
              "          -0.03307911,  0.1738095 ],\n",
              "         [ 0.20934722, -0.15645263,  0.6039548 , ...,  0.3290354 ,\n",
              "          -0.35827184,  0.08100432]]], dtype=float32)>,\n",
              " <tf.Tensor: shape=(2, 128, 768), dtype=float32, numpy=\n",
              " array([[[ 0.01418156, -0.22088237, -0.15028155, ...,  0.1141562 ,\n",
              "           0.12618099,  0.04843377],\n",
              "         [ 1.2033907 ,  1.3469868 ,  1.7064528 , ...,  0.30610538,\n",
              "          -0.5074259 , -0.55147463],\n",
              "         [ 0.42169082,  0.81102484, -0.2563157 , ..., -0.07722507,\n",
              "           0.8937237 , -1.4472057 ],\n",
              "         ...,\n",
              "         [-0.19047466, -0.23860872,  0.81412053, ...,  0.9749361 ,\n",
              "          -0.34774223, -0.08733533],\n",
              "         [-0.27151   , -0.3198502 ,  0.7659391 , ...,  0.9676172 ,\n",
              "          -0.2951187 , -0.1573181 ],\n",
              "         [-0.21302736, -0.19229677,  0.73387754, ...,  1.1040441 ,\n",
              "          -0.45102888, -0.20683083]],\n",
              " \n",
              "        [[ 0.08973341, -0.18419704, -0.16645059, ...,  0.02761333,\n",
              "           0.11187705,  0.08041727],\n",
              "         [ 0.5831132 ,  0.59570277,  0.360195  , ...,  0.4127011 ,\n",
              "           0.2680921 ,  0.28400543],\n",
              "         [ 2.116668  ,  0.517694  ,  0.86377436, ...,  0.7178737 ,\n",
              "           0.32405132,  0.09739994],\n",
              "         ...,\n",
              "         [ 0.24372922, -0.05775545,  0.6842876 , ...,  0.43483588,\n",
              "          -0.57660985, -0.11131081],\n",
              "         [ 0.16803843, -0.0309182 ,  0.58638394, ...,  0.4962586 ,\n",
              "          -0.50567967, -0.20782158],\n",
              "         [ 0.24831744,  0.00315519,  0.5159253 , ...,  0.80502427,\n",
              "          -0.69899637, -0.2418641 ]]], dtype=float32)>,\n",
              " <tf.Tensor: shape=(2, 128, 768), dtype=float32, numpy=\n",
              " array([[[ 0.022754  , -0.27980244,  0.02345722, ...,  0.27867   ,\n",
              "           0.11714803,  0.18175095],\n",
              "         [ 1.2574849 ,  0.8725078 ,  1.6266015 , ...,  0.4521096 ,\n",
              "          -0.80902624, -0.54489815],\n",
              "         [ 0.75219834,  0.6357368 , -0.20566149, ..., -0.32381815,\n",
              "           0.7574949 , -1.4587916 ],\n",
              "         ...,\n",
              "         [-0.15107456, -0.21129099,  0.96894646, ...,  1.1261971 ,\n",
              "          -0.03214074, -0.2234023 ],\n",
              "         [-0.2812564 , -0.311401  ,  0.8432895 , ...,  1.1342676 ,\n",
              "          -0.08336543, -0.2516124 ],\n",
              "         [-0.24449056, -0.21537861,  0.94809806, ...,  1.2419423 ,\n",
              "          -0.19873464, -0.33752573]],\n",
              " \n",
              "        [[ 0.10617057, -0.27990735, -0.01731791, ...,  0.20060413,\n",
              "           0.08148393,  0.21859075],\n",
              "         [ 0.6892587 ,  0.31591478,  0.55586594, ...,  0.690395  ,\n",
              "          -0.07141565,  0.414072  ],\n",
              "         [ 2.5758889 ,  0.62520933,  1.2503713 , ...,  0.43957824,\n",
              "          -0.1852555 , -0.05004822],\n",
              "         ...,\n",
              "         [ 0.20464343, -0.01561972,  0.8343142 , ...,  0.8014963 ,\n",
              "          -0.12853888, -0.35842037],\n",
              "         [-0.02875699,  0.05097873,  0.6815922 , ...,  0.9003154 ,\n",
              "          -0.12434877, -0.4225633 ],\n",
              "         [ 0.13327692,  0.0225737 ,  0.7722175 , ...,  1.0211188 ,\n",
              "          -0.3083466 , -0.4562316 ]]], dtype=float32)>,\n",
              " <tf.Tensor: shape=(2, 128, 768), dtype=float32, numpy=\n",
              " array([[[ 0.11484878, -0.64441085, -0.14245132, ...,  0.25474176,\n",
              "           0.00378421,  0.61105126],\n",
              "         [ 1.3035431 ,  0.7706047 ,  1.3185002 , ...,  0.3582254 ,\n",
              "          -0.64121675, -0.3279534 ],\n",
              "         [ 1.1896741 ,  0.62794423, -0.67501634, ..., -0.28870684,\n",
              "           0.4779191 , -1.2805995 ],\n",
              "         ...,\n",
              "         [-0.22614796, -0.62762976,  1.022749  , ...,  0.8292316 ,\n",
              "          -0.403147  ,  0.04389358],\n",
              "         [-0.3990146 , -0.75619054,  0.74893844, ...,  0.74922675,\n",
              "          -0.45077682, -0.00367934],\n",
              "         [-0.37728775, -0.7831038 ,  0.9057244 , ...,  0.9736229 ,\n",
              "          -0.48285747, -0.07389811]],\n",
              " \n",
              "        [[ 0.15151368, -0.7075225 , -0.2752044 , ...,  0.44345883,\n",
              "          -0.20920382,  0.4986017 ],\n",
              "         [ 0.8864795 , -0.24838197,  0.7353748 , ...,  0.7417941 ,\n",
              "          -0.13177185,  0.10158522],\n",
              "         [ 2.5865817 ,  0.6188287 ,  0.5279877 , ...,  0.84873176,\n",
              "          -0.5915017 ,  0.02349899],\n",
              "         ...,\n",
              "         [-0.05526841, -0.43394664,  1.1783333 , ...,  0.91791767,\n",
              "          -0.45718107, -0.2501464 ],\n",
              "         [-0.2932866 , -0.23091176,  0.9938012 , ...,  1.0353795 ,\n",
              "          -0.42435732, -0.34947586],\n",
              "         [-0.15899065, -0.5009813 ,  0.98142153, ...,  1.1373078 ,\n",
              "          -0.61888343, -0.44457754]]], dtype=float32)>,\n",
              " <tf.Tensor: shape=(2, 128, 768), dtype=float32, numpy=\n",
              " array([[[-0.22174858, -0.42225283, -0.04924029, ..., -0.26284248,\n",
              "           0.06099973,  0.6379489 ],\n",
              "         [ 1.1627905 ,  0.6770536 ,  1.3072388 , ...,  0.22794664,\n",
              "          -0.54329556, -0.27383244],\n",
              "         [ 1.5308242 ,  0.7222551 , -0.43608674, ...,  0.27435815,\n",
              "           0.24980268, -0.9875375 ],\n",
              "         ...,\n",
              "         [-0.17669773, -0.31260613,  1.0875316 , ...,  0.59242123,\n",
              "           0.01275318, -0.2817182 ],\n",
              "         [-0.3447376 , -0.4243004 ,  0.87980294, ...,  0.5482616 ,\n",
              "          -0.08151895, -0.34001428],\n",
              "         [-0.48139882, -0.31324273,  1.1702343 , ...,  0.8730989 ,\n",
              "          -0.07970168, -0.45325476]],\n",
              " \n",
              "        [[-0.21608177, -0.8986424 , -0.4499158 , ..., -0.08286238,\n",
              "          -0.17226878,  0.66199845],\n",
              "         [ 0.6661453 , -0.5491699 ,  0.46460563, ...,  0.1764938 ,\n",
              "           0.22822581,  0.3496226 ],\n",
              "         [ 2.0629623 ,  0.6991982 ,  0.35604438, ...,  0.5295337 ,\n",
              "          -0.34809265,  0.00831383],\n",
              "         ...,\n",
              "         [-0.1159399 , -0.17149243,  0.89944035, ...,  0.62990224,\n",
              "          -0.33990204, -0.20049222],\n",
              "         [-0.13007458, -0.0273906 ,  0.70799756, ...,  0.805946  ,\n",
              "          -0.30724144, -0.19956338],\n",
              "         [-0.26314807, -0.26137084,  0.6338571 , ...,  0.8150183 ,\n",
              "          -0.45400348, -0.3512069 ]]], dtype=float32)>,\n",
              " <tf.Tensor: shape=(2, 128, 768), dtype=float32, numpy=\n",
              " array([[[-0.03392728, -0.39431432,  0.04223729, ..., -0.07905623,\n",
              "           0.01993858,  0.7692065 ],\n",
              "         [ 1.4294364 , -0.08698989,  1.5299491 , ...,  0.22512141,\n",
              "          -1.0060078 , -0.23702182],\n",
              "         [ 1.5031747 ,  0.6725795 , -0.5259021 , ...,  0.10906942,\n",
              "           0.27042425, -1.2567497 ],\n",
              "         ...,\n",
              "         [-0.30033562, -0.0226194 ,  1.3187408 , ...,  0.6928873 ,\n",
              "          -0.09798416, -0.17419598],\n",
              "         [-0.43754122, -0.21149243,  1.109458  , ...,  0.5006601 ,\n",
              "          -0.17692398, -0.18529099],\n",
              "         [-0.6592053 , -0.196079  ,  1.3134066 , ...,  0.73200756,\n",
              "          -0.19967356, -0.3246916 ]],\n",
              " \n",
              "        [[-0.27334702, -0.9526855 , -0.78696615, ..., -0.12205384,\n",
              "          -0.08783805,  0.7581166 ],\n",
              "         [ 0.46756974, -0.1623754 , -0.01155878, ...,  0.18781254,\n",
              "           0.62164766,  0.03009974],\n",
              "         [ 1.7947398 ,  0.90510815,  0.08580844, ...,  0.7709358 ,\n",
              "          -0.66827846, -0.06755443],\n",
              "         ...,\n",
              "         [-0.18337438, -0.15806554,  1.1826948 , ...,  0.8304758 ,\n",
              "          -0.39406452, -0.23047721],\n",
              "         [-0.22270115,  0.0097598 ,  0.93408406, ...,  1.1286671 ,\n",
              "          -0.34884337, -0.19491448],\n",
              "         [-0.3038607 , -0.29683116,  0.82471645, ...,  1.0090814 ,\n",
              "          -0.46407658, -0.31465614]]], dtype=float32)>,\n",
              " <tf.Tensor: shape=(2, 128, 768), dtype=float32, numpy=\n",
              " array([[[-0.23803496, -0.66554034,  0.2991715 , ...,  0.03415148,\n",
              "           0.29362813,  0.96536356],\n",
              "         [ 1.5040758 ,  0.00695172,  1.4314139 , ...,  0.24628781,\n",
              "          -0.5521961 , -0.32215384],\n",
              "         [ 1.3629032 ,  0.4774182 , -0.61529887, ...,  0.08586998,\n",
              "           0.4392252 , -1.5594146 ],\n",
              "         ...,\n",
              "         [-0.16864003,  0.00209696,  1.3201766 , ...,  0.94280386,\n",
              "          -0.04737281,  0.21490507],\n",
              "         [-0.2666635 , -0.24881247,  1.2213273 , ...,  0.6352804 ,\n",
              "          -0.04442457,  0.04466299],\n",
              "         [-0.53366196, -0.35796067,  1.3447863 , ...,  0.6038447 ,\n",
              "          -0.08427201, -0.15712072]],\n",
              " \n",
              "        [[-0.05967497, -0.8448229 , -0.89390266, ..., -0.10863979,\n",
              "           0.40932405,  0.7940863 ],\n",
              "         [ 0.54405046, -0.3196291 , -0.45491606, ...,  0.48068696,\n",
              "           0.7786259 ,  0.22774342],\n",
              "         [ 1.4479867 ,  1.1230614 ,  0.09567895, ...,  1.3554288 ,\n",
              "           0.06143602, -0.00836841],\n",
              "         ...,\n",
              "         [ 0.25652277, -0.14106543,  1.1854349 , ...,  0.95683736,\n",
              "          -0.21603952, -0.06946369],\n",
              "         [ 0.2581916 ,  0.07949179,  0.98516417, ...,  1.0518224 ,\n",
              "          -0.07890956, -0.12841532],\n",
              "         [-0.05268842, -0.3343132 ,  0.9637343 , ...,  0.89607006,\n",
              "          -0.10082404, -0.2812966 ]]], dtype=float32)>,\n",
              " <tf.Tensor: shape=(2, 128, 768), dtype=float32, numpy=\n",
              " array([[[-7.0827298e-02, -2.5689867e-01, -3.5962928e-02, ...,\n",
              "          -3.5881266e-01,  1.3524809e-01,  1.0136118e+00],\n",
              "         [ 9.7471923e-01, -1.9712803e-01,  1.4318072e+00, ...,\n",
              "          -1.4052041e-01, -5.0431717e-02, -2.7141323e-02],\n",
              "         [ 1.1273406e+00,  2.7122810e-01, -2.8622979e-01, ...,\n",
              "           9.3385428e-02,  2.9908326e-01, -1.3764440e+00],\n",
              "         ...,\n",
              "         [-9.5787339e-02,  2.9180792e-01,  1.5879145e+00, ...,\n",
              "           8.5004252e-01, -5.1284969e-02,  2.0340140e-01],\n",
              "         [-2.2268766e-01, -8.3895653e-02,  1.7256013e+00, ...,\n",
              "           6.1222285e-01,  1.0976558e-01,  7.0046932e-02],\n",
              "         [-5.7830131e-01, -3.5915723e-01,  1.6035955e+00, ...,\n",
              "           3.4189862e-01,  5.2879982e-02, -1.5400952e-01]],\n",
              " \n",
              "        [[ 6.1017033e-02, -3.5161752e-01, -8.4891498e-01, ...,\n",
              "          -4.8554996e-01,  4.2703095e-01,  6.3828999e-01],\n",
              "         [ 6.6376460e-01,  1.8278044e-04, -7.9078895e-01, ...,\n",
              "           3.0687028e-01,  7.5843710e-01,  7.3240179e-01],\n",
              "         [ 1.4494698e+00,  1.1265037e+00,  1.7709087e-01, ...,\n",
              "           2.3471510e-01,  3.4929538e-01,  4.3709788e-01],\n",
              "         ...,\n",
              "         [ 3.2339540e-01,  1.7575850e-01,  8.7672383e-01, ...,\n",
              "           9.8904133e-01, -2.7050832e-01, -3.0809420e-01],\n",
              "         [ 4.0404275e-01,  5.1364917e-01,  7.2748011e-01, ...,\n",
              "           9.4942176e-01, -1.0215738e-02, -3.4644315e-01],\n",
              "         [-9.1296565e-03, -8.7016359e-02,  7.3031867e-01, ...,\n",
              "           8.5439807e-01, -1.3661215e-01, -4.7493586e-01]]], dtype=float32)>,\n",
              " <tf.Tensor: shape=(2, 128, 768), dtype=float32, numpy=\n",
              " array([[[-0.09403516, -0.05987578, -0.01171726, ..., -0.22167534,\n",
              "          -0.07650088,  0.57658166],\n",
              "         [ 0.77480596,  0.15188302,  1.0920001 , ..., -0.19562423,\n",
              "           0.15173207, -0.01071393],\n",
              "         [ 0.8519132 ,  0.25842744, -0.7703559 , ...,  0.03356628,\n",
              "           0.34010458, -1.3918681 ],\n",
              "         ...,\n",
              "         [-0.19780445,  0.5281976 ,  0.90235215, ...,  0.2791971 ,\n",
              "          -0.28764087,  0.7510946 ],\n",
              "         [-0.35067296,  0.09291996,  1.3383348 , ...,  0.22619672,\n",
              "          -0.0358891 ,  0.27343893],\n",
              "         [-0.90445125, -0.20991269,  1.1977339 , ...,  0.35118544,\n",
              "          -0.21743736,  0.01482237]],\n",
              " \n",
              "        [[-0.07011145, -0.02392571, -0.6192438 , ..., -0.14542082,\n",
              "           0.3404936 ,  0.4122474 ],\n",
              "         [ 0.59261614,  0.19015968, -0.37399626, ...,  0.37239605,\n",
              "           0.3915294 ,  0.42580444],\n",
              "         [ 1.1394775 ,  0.84398615,  0.38893884, ...,  0.20898199,\n",
              "           0.25176427,  0.26400018],\n",
              "         ...,\n",
              "         [ 0.43305984,  0.42012224,  1.0965099 , ...,  1.1872374 ,\n",
              "          -0.16672124,  0.00856187],\n",
              "         [ 0.5754232 ,  0.8660941 ,  1.118467  , ...,  1.0475068 ,\n",
              "           0.04264315, -0.01540357],\n",
              "         [-0.05487926, -0.0730685 ,  0.90122145, ...,  0.8004542 ,\n",
              "          -0.16820624, -0.35507447]]], dtype=float32)>,\n",
              " <tf.Tensor: shape=(2, 128, 768), dtype=float32, numpy=\n",
              " array([[[-0.2267138 ,  0.03110925,  0.32186016, ..., -0.28090194,\n",
              "          -0.7505075 ,  0.44557986],\n",
              "         [ 0.77125466,  0.11218023,  0.6603312 , ..., -0.09223768,\n",
              "           0.34821168, -0.36905053],\n",
              "         [ 0.5122405 , -0.19928929, -0.8477511 , ..., -0.28812146,\n",
              "           0.22383727, -1.2124603 ],\n",
              "         ...,\n",
              "         [ 0.1250054 ,  0.6663402 ,  0.98522043, ..., -0.08709431,\n",
              "          -0.58054656,  0.6127243 ],\n",
              "         [ 0.01400482,  0.1047134 ,  1.2684815 , ..., -0.0183314 ,\n",
              "          -0.35933143,  0.15463158],\n",
              "         [-0.8093845 , -0.36068144,  1.3501263 , ...,  0.58936065,\n",
              "          -0.509324  , -0.09766964]],\n",
              " \n",
              "        [[-0.21535046, -0.23962279, -0.3093243 , ..., -0.25965035,\n",
              "           0.09695202,  0.41826725],\n",
              "         [ 0.5070067 , -0.01544844, -0.10519648, ...,  0.38675308,\n",
              "           0.22041121, -0.10293259],\n",
              "         [ 1.0366052 ,  0.9171316 ,  0.26164138, ...,  0.3318202 ,\n",
              "           0.455971  ,  0.12697922],\n",
              "         ...,\n",
              "         [ 0.16190583,  0.762702  ,  1.273768  , ...,  0.5726009 ,\n",
              "          -0.05929489,  0.26224047],\n",
              "         [ 0.46124515,  1.1673877 ,  0.95947725, ...,  0.46033174,\n",
              "           0.13521406,  0.4513601 ],\n",
              "         [-0.24184044,  0.17352858,  0.841565  , ...,  0.24766877,\n",
              "          -0.14810179,  0.06557339]]], dtype=float32)>,\n",
              " <tf.Tensor: shape=(2, 128, 768), dtype=float32, numpy=\n",
              " array([[[-2.1951795e-02,  2.1303640e-01,  3.1135854e-01, ...,\n",
              "          -2.3917958e-01, -2.7870795e-01,  2.0408517e-01],\n",
              "         [ 8.3098364e-01,  1.9078255e-01,  7.1134472e-01, ...,\n",
              "          -3.0024439e-01,  3.1152457e-01, -2.5934008e-01],\n",
              "         [ 3.7308952e-01, -4.2212594e-01, -6.6690952e-01, ...,\n",
              "          -4.5297647e-01,  3.2045287e-01, -2.9988611e-01],\n",
              "         ...,\n",
              "         [ 3.3166349e-01,  7.1835887e-01,  8.9961064e-01, ...,\n",
              "          -3.4914568e-01, -2.9987028e-01,  5.2388936e-01],\n",
              "         [ 2.3853350e-01,  2.0484520e-01,  1.1306415e+00, ...,\n",
              "          -1.5113032e-01, -1.3781080e-01,  7.6999351e-02],\n",
              "         [-3.8412127e-01, -3.8158771e-01,  1.3397276e+00, ...,\n",
              "           5.7755494e-01, -1.5540022e-01, -2.9294536e-01]],\n",
              " \n",
              "        [[ 1.4363037e-01,  1.6980167e-01,  4.5119956e-02, ...,\n",
              "          -6.2168323e-02, -1.5753128e-02,  2.8787017e-01],\n",
              "         [ 5.8476055e-01,  2.6993316e-01, -2.8520727e-01, ...,\n",
              "           3.3893099e-01,  1.1777280e-01,  3.6986321e-02],\n",
              "         [ 1.2525789e+00,  1.2556452e+00,  3.8754389e-01, ...,\n",
              "           1.7275627e-01,  4.9666274e-01,  6.1378199e-01],\n",
              "         ...,\n",
              "         [ 1.9548640e-01,  4.4081968e-01,  1.0389370e+00, ...,\n",
              "           1.4527109e-01, -2.7743837e-01,  1.9032136e-01],\n",
              "         [ 4.4816542e-01,  7.6447797e-01,  6.9800538e-01, ...,\n",
              "          -8.3479378e-04, -7.9644293e-02,  4.9335888e-01],\n",
              "         [-2.3398085e-01, -2.0333497e-01,  3.4824711e-01, ...,\n",
              "          -6.4341977e-02, -3.2087556e-01,  2.2333950e-02]]], dtype=float32)>,\n",
              " <tf.Tensor: shape=(2, 128, 768), dtype=float32, numpy=\n",
              " array([[[ 0.07292067,  0.08567822,  0.14476836, ..., -0.09677087,\n",
              "           0.08722129,  0.07711094],\n",
              "         [ 0.17839354, -0.19006018,  0.50349367, ..., -0.05869842,\n",
              "           0.3271711 , -0.15578555],\n",
              "         [ 0.18701491, -0.43388742, -0.4887515 , ..., -0.15502787,\n",
              "           0.00145216, -0.24470924],\n",
              "         ...,\n",
              "         [ 0.12083021,  0.12884282,  0.4645354 , ...,  0.07375491,\n",
              "           0.1744193 ,  0.16522156],\n",
              "         [ 0.07967912, -0.01190624,  0.5022538 , ...,  0.13777728,\n",
              "           0.21002221,  0.00624587],\n",
              "         [-0.07212694, -0.28303483,  0.59033346, ...,  0.47551912,\n",
              "           0.1666846 , -0.08920337]],\n",
              " \n",
              "        [[-0.07900582,  0.36335114, -0.21101543, ..., -0.17183763,\n",
              "           0.16299734,  0.6724271 ],\n",
              "         [ 0.27883524,  0.4371634 , -0.3576478 , ..., -0.04463633,\n",
              "           0.3831516 ,  0.58879817],\n",
              "         [ 1.2037672 ,  1.0727024 ,  0.48408753, ...,  0.24920942,\n",
              "           0.40730953,  0.40481883],\n",
              "         ...,\n",
              "         [ 0.08630048,  0.1935384 ,  0.47540027, ...,  0.18880184,\n",
              "          -0.06474071,  0.31318596],\n",
              "         [ 0.1588705 ,  0.28572682,  0.3734076 , ...,  0.09309155,\n",
              "          -0.04969535,  0.38761115],\n",
              "         [-0.08079872, -0.0957282 ,  0.2680978 , ...,  0.13979626,\n",
              "          -0.06315861,  0.27288336]]], dtype=float32)>]"
            ]
          },
          "metadata": {},
          "execution_count": 16
        }
      ]
    },
    {
      "cell_type": "markdown",
      "source": [
        "https://tfhub.dev/google/collections/bert/\n",
        "https://tfhub.dev/tensorflow/bert_en_uncased_L-12_H-768_A-12/4\n",
        "\n"
      ],
      "metadata": {
        "id": "PIuVLuL_jEcd"
      }
    }
  ]
}